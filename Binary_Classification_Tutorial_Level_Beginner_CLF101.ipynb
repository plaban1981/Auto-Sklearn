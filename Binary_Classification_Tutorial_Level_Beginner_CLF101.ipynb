{
  "nbformat": 4,
  "nbformat_minor": 0,
  "metadata": {
    "colab": {
      "name": "Binary Classification Tutorial Level Beginner -  CLF101.ipynb",
      "provenance": [],
      "collapsed_sections": [],
      "include_colab_link": true
    },
    "kernelspec": {
      "display_name": "Python 3",
      "language": "python",
      "name": "python3"
    },
    "language_info": {
      "codemirror_mode": {
        "name": "ipython",
        "version": 3
      },
      "file_extension": ".py",
      "mimetype": "text/x-python",
      "name": "python",
      "nbconvert_exporter": "python",
      "pygments_lexer": "ipython3",
      "version": "3.7.4"
    },
    "widgets": {
      "application/vnd.jupyter.widget-state+json": {
        "af6b8ede883e408ebdbcba2b4aec96c0": {
          "model_module": "@jupyter-widgets/controls",
          "model_name": "VBoxModel",
          "state": {
            "_view_name": "VBoxView",
            "_dom_classes": [
              "widget-interact"
            ],
            "_model_name": "VBoxModel",
            "_view_module": "@jupyter-widgets/controls",
            "_model_module_version": "1.5.0",
            "_view_count": null,
            "_view_module_version": "1.5.0",
            "box_style": "",
            "layout": "IPY_MODEL_110279d5a0844b9eb47b28e3504f7961",
            "_model_module": "@jupyter-widgets/controls",
            "children": [
              "IPY_MODEL_f7febb8fed594290982bda136e20ce85",
              "IPY_MODEL_47cbe4bad2bf4b4ab5a2355212f84d8b"
            ]
          }
        },
        "110279d5a0844b9eb47b28e3504f7961": {
          "model_module": "@jupyter-widgets/base",
          "model_name": "LayoutModel",
          "state": {
            "_view_name": "LayoutView",
            "grid_template_rows": null,
            "right": null,
            "justify_content": null,
            "_view_module": "@jupyter-widgets/base",
            "overflow": null,
            "_model_module_version": "1.2.0",
            "_view_count": null,
            "flex_flow": null,
            "width": null,
            "min_width": null,
            "border": null,
            "align_items": null,
            "bottom": null,
            "_model_module": "@jupyter-widgets/base",
            "top": null,
            "grid_column": null,
            "overflow_y": null,
            "overflow_x": null,
            "grid_auto_flow": null,
            "grid_area": null,
            "grid_template_columns": null,
            "flex": null,
            "_model_name": "LayoutModel",
            "justify_items": null,
            "grid_row": null,
            "max_height": null,
            "align_content": null,
            "visibility": null,
            "align_self": null,
            "height": null,
            "min_height": null,
            "padding": null,
            "grid_auto_rows": null,
            "grid_gap": null,
            "max_width": null,
            "order": null,
            "_view_module_version": "1.2.0",
            "grid_template_areas": null,
            "object_position": null,
            "object_fit": null,
            "grid_auto_columns": null,
            "margin": null,
            "display": null,
            "left": null
          }
        },
        "f7febb8fed594290982bda136e20ce85": {
          "model_module": "@jupyter-widgets/controls",
          "model_name": "ToggleButtonsModel",
          "state": {
            "_options_labels": [
              "Hyperparameters",
              "AUC",
              "Confusion Matrix",
              "Threshold",
              "Precision Recall",
              "Error",
              "Class Report",
              "Feature Selection",
              "Learning Curve",
              "Manifold Learning",
              "Calibration Curve",
              "Validation Curve",
              "Dimensions",
              "Feature Importance",
              "Decision Boundary"
            ],
            "_view_name": "ToggleButtonsView",
            "style": "IPY_MODEL_161d6c05952e43b09262734910109929",
            "_dom_classes": [],
            "description": "Plot Type:",
            "_model_name": "ToggleButtonsModel",
            "tooltips": [],
            "index": 0,
            "button_style": "",
            "_view_module": "@jupyter-widgets/controls",
            "_model_module_version": "1.5.0",
            "_view_count": null,
            "disabled": false,
            "_view_module_version": "1.5.0",
            "icons": [
              ""
            ],
            "description_tooltip": null,
            "_model_module": "@jupyter-widgets/controls",
            "layout": "IPY_MODEL_28c3369259d64b64b11ab37f38762d0b"
          }
        },
        "47cbe4bad2bf4b4ab5a2355212f84d8b": {
          "model_module": "@jupyter-widgets/output",
          "model_name": "OutputModel",
          "state": {
            "_view_name": "OutputView",
            "msg_id": "",
            "_dom_classes": [],
            "_model_name": "OutputModel",
            "outputs": [
              {
                "output_type": "display_data",
                "metadata": {
                  "tags": []
                },
                "text/html": "<div>\n<style scoped>\n    .dataframe tbody tr th:only-of-type {\n        vertical-align: middle;\n    }\n\n    .dataframe tbody tr th {\n        vertical-align: top;\n    }\n\n    .dataframe thead th {\n        text-align: right;\n    }\n</style>\n<table border=\"1\" class=\"dataframe\">\n  <thead>\n    <tr style=\"text-align: right;\">\n      <th></th>\n      <th>Parameters</th>\n    </tr>\n  </thead>\n  <tbody>\n    <tr>\n      <th>bootstrap</th>\n      <td>True</td>\n    </tr>\n    <tr>\n      <th>ccp_alpha</th>\n      <td>0</td>\n    </tr>\n    <tr>\n      <th>class_weight</th>\n      <td>None</td>\n    </tr>\n    <tr>\n      <th>criterion</th>\n      <td>gini</td>\n    </tr>\n    <tr>\n      <th>max_depth</th>\n      <td>10</td>\n    </tr>\n    <tr>\n      <th>max_features</th>\n      <td>auto</td>\n    </tr>\n    <tr>\n      <th>max_leaf_nodes</th>\n      <td>None</td>\n    </tr>\n    <tr>\n      <th>max_samples</th>\n      <td>None</td>\n    </tr>\n    <tr>\n      <th>min_impurity_decrease</th>\n      <td>0</td>\n    </tr>\n    <tr>\n      <th>min_impurity_split</th>\n      <td>None</td>\n    </tr>\n    <tr>\n      <th>min_samples_leaf</th>\n      <td>2</td>\n    </tr>\n    <tr>\n      <th>min_samples_split</th>\n      <td>10</td>\n    </tr>\n    <tr>\n      <th>min_weight_fraction_leaf</th>\n      <td>0</td>\n    </tr>\n    <tr>\n      <th>n_estimators</th>\n      <td>70</td>\n    </tr>\n    <tr>\n      <th>n_jobs</th>\n      <td>None</td>\n    </tr>\n    <tr>\n      <th>oob_score</th>\n      <td>False</td>\n    </tr>\n    <tr>\n      <th>random_state</th>\n      <td>123</td>\n    </tr>\n    <tr>\n      <th>verbose</th>\n      <td>0</td>\n    </tr>\n    <tr>\n      <th>warm_start</th>\n      <td>False</td>\n    </tr>\n  </tbody>\n</table>\n</div>",
                "text/plain": "                         Parameters\nbootstrap                      True\nccp_alpha                         0\nclass_weight                   None\ncriterion                      gini\nmax_depth                        10\nmax_features                   auto\nmax_leaf_nodes                 None\nmax_samples                    None\nmin_impurity_decrease             0\nmin_impurity_split             None\nmin_samples_leaf                  2\nmin_samples_split                10\nmin_weight_fraction_leaf          0\nn_estimators                     70\nn_jobs                         None\noob_score                     False\nrandom_state                    123\nverbose                           0\nwarm_start                    False"
              }
            ],
            "_view_module": "@jupyter-widgets/output",
            "_model_module_version": "1.0.0",
            "_view_count": null,
            "_view_module_version": "1.0.0",
            "layout": "IPY_MODEL_067a48791ded4a67a46e798890370e3d",
            "_model_module": "@jupyter-widgets/output"
          }
        },
        "161d6c05952e43b09262734910109929": {
          "model_module": "@jupyter-widgets/controls",
          "model_name": "ToggleButtonsStyleModel",
          "state": {
            "_view_name": "StyleView",
            "button_width": "",
            "_model_name": "ToggleButtonsStyleModel",
            "description_width": "",
            "_view_module": "@jupyter-widgets/base",
            "_model_module_version": "1.5.0",
            "_view_count": null,
            "font_weight": "",
            "_view_module_version": "1.2.0",
            "_model_module": "@jupyter-widgets/controls"
          }
        },
        "28c3369259d64b64b11ab37f38762d0b": {
          "model_module": "@jupyter-widgets/base",
          "model_name": "LayoutModel",
          "state": {
            "_view_name": "LayoutView",
            "grid_template_rows": null,
            "right": null,
            "justify_content": null,
            "_view_module": "@jupyter-widgets/base",
            "overflow": null,
            "_model_module_version": "1.2.0",
            "_view_count": null,
            "flex_flow": null,
            "width": null,
            "min_width": null,
            "border": null,
            "align_items": null,
            "bottom": null,
            "_model_module": "@jupyter-widgets/base",
            "top": null,
            "grid_column": null,
            "overflow_y": null,
            "overflow_x": null,
            "grid_auto_flow": null,
            "grid_area": null,
            "grid_template_columns": null,
            "flex": null,
            "_model_name": "LayoutModel",
            "justify_items": null,
            "grid_row": null,
            "max_height": null,
            "align_content": null,
            "visibility": null,
            "align_self": null,
            "height": null,
            "min_height": null,
            "padding": null,
            "grid_auto_rows": null,
            "grid_gap": null,
            "max_width": null,
            "order": null,
            "_view_module_version": "1.2.0",
            "grid_template_areas": null,
            "object_position": null,
            "object_fit": null,
            "grid_auto_columns": null,
            "margin": null,
            "display": null,
            "left": null
          }
        },
        "021eca161ef847098bb1201fe125201e": {
          "model_module": "@jupyter-widgets/controls",
          "model_name": "IntProgressModel",
          "state": {
            "_view_name": "ProgressView",
            "style": "IPY_MODEL_5b7da986cd004d4893a4c433bdc04c6d",
            "_dom_classes": [],
            "description": "Processing: ",
            "_model_name": "IntProgressModel",
            "bar_style": "",
            "max": 5,
            "_view_module": "@jupyter-widgets/controls",
            "_model_module_version": "1.5.0",
            "value": 2,
            "_view_count": null,
            "_view_module_version": "1.5.0",
            "orientation": "horizontal",
            "min": 0,
            "description_tooltip": null,
            "_model_module": "@jupyter-widgets/controls",
            "layout": "IPY_MODEL_11639c6e990c4b0a8b5c2fff40d75055"
          }
        },
        "5b7da986cd004d4893a4c433bdc04c6d": {
          "model_module": "@jupyter-widgets/controls",
          "model_name": "ProgressStyleModel",
          "state": {
            "_view_name": "StyleView",
            "_model_name": "ProgressStyleModel",
            "description_width": "",
            "_view_module": "@jupyter-widgets/base",
            "_model_module_version": "1.5.0",
            "_view_count": null,
            "_view_module_version": "1.2.0",
            "bar_color": null,
            "_model_module": "@jupyter-widgets/controls"
          }
        },
        "11639c6e990c4b0a8b5c2fff40d75055": {
          "model_module": "@jupyter-widgets/base",
          "model_name": "LayoutModel",
          "state": {
            "_view_name": "LayoutView",
            "grid_template_rows": null,
            "right": null,
            "justify_content": null,
            "_view_module": "@jupyter-widgets/base",
            "overflow": null,
            "_model_module_version": "1.2.0",
            "_view_count": null,
            "flex_flow": null,
            "width": null,
            "min_width": null,
            "border": null,
            "align_items": null,
            "bottom": null,
            "_model_module": "@jupyter-widgets/base",
            "top": null,
            "grid_column": null,
            "overflow_y": null,
            "overflow_x": null,
            "grid_auto_flow": null,
            "grid_area": null,
            "grid_template_columns": null,
            "flex": null,
            "_model_name": "LayoutModel",
            "justify_items": null,
            "grid_row": null,
            "max_height": null,
            "align_content": null,
            "visibility": null,
            "align_self": null,
            "height": null,
            "min_height": null,
            "padding": null,
            "grid_auto_rows": null,
            "grid_gap": null,
            "max_width": null,
            "order": null,
            "_view_module_version": "1.2.0",
            "grid_template_areas": null,
            "object_position": null,
            "object_fit": null,
            "grid_auto_columns": null,
            "margin": null,
            "display": null,
            "left": null
          }
        }
      }
    }
  },
  "cells": [
    {
      "cell_type": "markdown",
      "metadata": {
        "id": "view-in-github",
        "colab_type": "text"
      },
      "source": [
        "<a href=\"https://colab.research.google.com/github/plaban1981/Auto-Sklearn/blob/master/Binary_Classification_Tutorial_Level_Beginner_CLF101.ipynb\" target=\"_parent\"><img src=\"https://colab.research.google.com/assets/colab-badge.svg\" alt=\"Open In Colab\"/></a>"
      ]
    },
    {
      "cell_type": "markdown",
      "metadata": {
        "colab_type": "text",
        "id": "Y57RMM1LEQmR"
      },
      "source": [
        "#  <span style=\"color:orange\">Binary Classification Tutorial (CLF101) - Level Beginner</span>"
      ]
    },
    {
      "cell_type": "markdown",
      "metadata": {
        "colab_type": "text",
        "id": "GM-nQ7LqEQma"
      },
      "source": [
        "**Date Updated: Feb 25, 2020**\n",
        "\n",
        "# 1.0 Tutorial Objective\n",
        "Welcome to the Binary Classification Tutorial (CLF101) - Level Beginner. This tutorial assumes that you are new to PyCaret and looking to get started with Binary Classification using the `pycaret.classification` Module.\n",
        "\n",
        "In this tutorial we will learn:\n",
        "\n",
        "\n",
        "* **Getting Data:**  How to import data from PyCaret repository\n",
        "* **Setting up Environment:**  How to setup an experiment in PyCaret and get started with building classification models\n",
        "* **Create Model:**  How to create a model, perform stratified cross validation and evaluate classification metrics\n",
        "* **Tune Model:**  How to automatically tune the hyper-parameters of a classification model\n",
        "* **Plot Model:**  How to analyze model performance using various plots\n",
        "* **Finalize Model:** How to finalize the best model at the end of the experiment\n",
        "* **Predict Model:**  How to make predictions on new / unseen data\n",
        "* **Save / Load Model:**  How to save / load a model for future use\n",
        "\n",
        "Read Time : Approx. 30 Minutes\n",
        "\n",
        "\n",
        "## 1.1 Installing PyCaret\n",
        "The first step to get started with PyCaret is to install pycaret. Installation is easy and will only take a few minutes. Follow the instructions below:\n",
        "\n",
        "#### Installing PyCaret in Local Jupyter Notebook\n",
        "`pip install pycaret`  <br />\n",
        "\n",
        "#### Installing PyCaret on Google Colab or Azure Notebooks\n",
        "`!pip install pycaret`\n",
        "\n",
        "\n",
        "## 1.2 Pre-Requisites\n",
        "- Python 3.x\n",
        "- Latest version of pycaret\n",
        "- Internet connection to load data from pycaret's repository\n",
        "- Basic Knowledge of Binary Classification\n",
        "\n",
        "## 1.3 For Google colab users:\n",
        "If you are running this notebook on Google colab, run the following code at top of your notebook to display interactive visuals.<br/>\n",
        "<br/>\n",
        "`from pycaret.utils import enable_colab` <br/>\n",
        "`enable_colab()`\n",
        "\n",
        "\n",
        "## 1.4 See also:\n",
        "- __[Binary Classification Tutorial (CLF102) - Intermediate Level](https://github.com/pycaret/pycaret/blob/master/Tutorials/Binary%20Classification%20Tutorial%20Level%20Intermediate%20-%20CLF102.ipynb)__\n",
        "- __[Binary Classification Tutorial (CLF103) - Expert Level](https://github.com/pycaret/pycaret/blob/master/Tutorials/Binary%20Classification%20Tutorial%20Level%20Expert%20-%20CLF103.ipynb)__"
      ]
    },
    {
      "cell_type": "markdown",
      "metadata": {
        "colab_type": "text",
        "id": "2DJaOwC_EQme"
      },
      "source": [
        "# 2.0 What is Binary Classification?\n",
        "Binary classification is a supervised machine learning technique where the goal is to predict categorical class labels which are discrete and unoredered such as Pass/Fail, Positive/Negative, Default/Not-Default etc. A few real world use cases for classification are listed below:\n",
        "\n",
        "- Medical testing to determine if a patient has a certain disease or not - the classification property is the presence of the disease.\n",
        "- A \"pass or fail\" test method or quality control in factories, i.e. deciding if a specification has or has not been met – a go/no-go classification.\n",
        "- Information retrieval, namely deciding whether a page or an article should be in the result set of a search or not – the classification property is the relevance of the article, or the usefulness to the user.\n",
        "\n",
        "__[Learn More about Binary Classification](https://medium.com/@categitau/in-one-of-my-previous-posts-i-introduced-machine-learning-and-talked-about-the-two-most-common-c1ac6e18df16)__"
      ]
    },
    {
      "cell_type": "markdown",
      "metadata": {
        "colab_type": "text",
        "id": "XC3kSuueEQmh"
      },
      "source": [
        "# 3.0 Overview of the Classification Module in PyCaret\n",
        "PyCaret's classification module (`pycaret.classification`) is a supervised machine learning module which is used for classifying the elements into a binary group based on various techniques and algorithms. Some common use cases of classification problems include predicting customer default (yes or no), customer churn (customer will leave or stay), disease found (positive or negative).\n",
        "\n",
        "The PyCaret classification module can be used for Binary or Multi-class classification problems. It has over 18 algorithms and 14 plots to analyze the performance of models. Be it hyper-parameter tuning, ensembling or advanced techniques like stacking, PyCaret's classification module has it all."
      ]
    },
    {
      "cell_type": "markdown",
      "metadata": {
        "colab_type": "text",
        "id": "aAKRo-EbEQml"
      },
      "source": [
        "# 4.0 Dataset for the Tutorial"
      ]
    },
    {
      "cell_type": "markdown",
      "metadata": {
        "colab_type": "text",
        "id": "VLKxlFjrEQmq"
      },
      "source": [
        "For this tutorial we will use a dataset from UCI called **Default of Credit Card Clients Dataset**. This dataset contains information on default payments, demographic factors, credit data, payment history, and billing statements of credit card clients in Taiwan from April 2005 to September 2005. There are 24,000 samples and 25 features. Short descriptions of each column are as follows:\n",
        "\n",
        "- **ID:** ID of each client\n",
        "- **LIMIT_BAL:** Amount of given credit in NT dollars (includes individual and family/supplementary credit)\n",
        "- **SEX:** Gender (1=male, 2=female)\n",
        "- **EDUCATION:** (1=graduate school, 2=university, 3=high school, 4=others, 5=unknown, 6=unknown)\n",
        "- **MARRIAGE:** Marital status (1=married, 2=single, 3=others)\n",
        "- **AGE:** Age in years\n",
        "- **PAY_0 to PAY_6:** Repayment status by n months ago (PAY_0 = last month ... PAY_6 = 6 months ago) (Labels: -1=pay duly, 1=payment delay for one month, 2=payment delay for two months, ... 8=payment delay for eight months, 9=payment delay for nine months and above)\n",
        "- **BILL_AMT1 to BILL_AMT6:** Amount of bill statement by n months ago ( BILL_AMT1 = last_month .. BILL_AMT6 = 6 months ago)\n",
        "- **PAY_AMT1 to PAY_AMT6:** Amount of payment by n months ago ( BILL_AMT1 = last_month .. BILL_AMT6 = 6 months ago)\n",
        "- **default:** Default payment (1=yes, 0=no) `Target Column`\n",
        "\n",
        "#### Dataset Acknowledgement:\n",
        "Lichman, M. (2013). UCI Machine Learning Repository. Irvine, CA: University of California, School of Information and Computer Science.\n",
        "\n",
        "The original dataset and data dictionary can be __[found here.](https://archive.ics.uci.edu/ml/datasets/default+of+credit+card+clients)__ "
      ]
    },
    {
      "cell_type": "markdown",
      "metadata": {
        "colab_type": "text",
        "id": "Ui_rALqYEQmv"
      },
      "source": [
        "# 5.0 Getting the Data"
      ]
    },
    {
      "cell_type": "markdown",
      "metadata": {
        "colab_type": "text",
        "id": "BfqIMeJNEQmz"
      },
      "source": [
        "You can download the data from the original source __[found here](https://archive.ics.uci.edu/ml/datasets/default+of+credit+card+clients)__ and load it using pandas __[(Learn How)](https://pandas.pydata.org/pandas-docs/stable/reference/api/pandas.read_csv.html)__ or you can use PyCaret's data respository to load the data using the `get_data()` function (This will require an internet connection)."
      ]
    },
    {
      "cell_type": "code",
      "metadata": {
        "colab_type": "code",
        "id": "lUvE187JEQm3",
        "outputId": "5d9b6fe4-18a8-4fcf-a5f3-009ba3d019c2",
        "colab": {
          "base_uri": "https://localhost:8080/",
          "height": 215
        }
      },
      "source": [
        "from pycaret.datasets import get_data\n",
        "dataset = get_data('credit')"
      ],
      "execution_count": 0,
      "outputs": [
        {
          "output_type": "display_data",
          "data": {
            "text/html": [
              "<div>\n",
              "<style scoped>\n",
              "    .dataframe tbody tr th:only-of-type {\n",
              "        vertical-align: middle;\n",
              "    }\n",
              "\n",
              "    .dataframe tbody tr th {\n",
              "        vertical-align: top;\n",
              "    }\n",
              "\n",
              "    .dataframe thead th {\n",
              "        text-align: right;\n",
              "    }\n",
              "</style>\n",
              "<table border=\"1\" class=\"dataframe\">\n",
              "  <thead>\n",
              "    <tr style=\"text-align: right;\">\n",
              "      <th></th>\n",
              "      <th>LIMIT_BAL</th>\n",
              "      <th>SEX</th>\n",
              "      <th>EDUCATION</th>\n",
              "      <th>MARRIAGE</th>\n",
              "      <th>AGE</th>\n",
              "      <th>PAY_1</th>\n",
              "      <th>PAY_2</th>\n",
              "      <th>PAY_3</th>\n",
              "      <th>PAY_4</th>\n",
              "      <th>PAY_5</th>\n",
              "      <th>PAY_6</th>\n",
              "      <th>BILL_AMT1</th>\n",
              "      <th>BILL_AMT2</th>\n",
              "      <th>BILL_AMT3</th>\n",
              "      <th>BILL_AMT4</th>\n",
              "      <th>BILL_AMT5</th>\n",
              "      <th>BILL_AMT6</th>\n",
              "      <th>PAY_AMT1</th>\n",
              "      <th>PAY_AMT2</th>\n",
              "      <th>PAY_AMT3</th>\n",
              "      <th>PAY_AMT4</th>\n",
              "      <th>PAY_AMT5</th>\n",
              "      <th>PAY_AMT6</th>\n",
              "      <th>default</th>\n",
              "    </tr>\n",
              "  </thead>\n",
              "  <tbody>\n",
              "    <tr>\n",
              "      <th>0</th>\n",
              "      <td>20000</td>\n",
              "      <td>2</td>\n",
              "      <td>2</td>\n",
              "      <td>1</td>\n",
              "      <td>24</td>\n",
              "      <td>2</td>\n",
              "      <td>2</td>\n",
              "      <td>-1</td>\n",
              "      <td>-1</td>\n",
              "      <td>-2</td>\n",
              "      <td>-2</td>\n",
              "      <td>3913.0</td>\n",
              "      <td>3102.0</td>\n",
              "      <td>689.0</td>\n",
              "      <td>0.0</td>\n",
              "      <td>0.0</td>\n",
              "      <td>0.0</td>\n",
              "      <td>0.0</td>\n",
              "      <td>689.0</td>\n",
              "      <td>0.0</td>\n",
              "      <td>0.0</td>\n",
              "      <td>0.0</td>\n",
              "      <td>0.0</td>\n",
              "      <td>1</td>\n",
              "    </tr>\n",
              "    <tr>\n",
              "      <th>1</th>\n",
              "      <td>90000</td>\n",
              "      <td>2</td>\n",
              "      <td>2</td>\n",
              "      <td>2</td>\n",
              "      <td>34</td>\n",
              "      <td>0</td>\n",
              "      <td>0</td>\n",
              "      <td>0</td>\n",
              "      <td>0</td>\n",
              "      <td>0</td>\n",
              "      <td>0</td>\n",
              "      <td>29239.0</td>\n",
              "      <td>14027.0</td>\n",
              "      <td>13559.0</td>\n",
              "      <td>14331.0</td>\n",
              "      <td>14948.0</td>\n",
              "      <td>15549.0</td>\n",
              "      <td>1518.0</td>\n",
              "      <td>1500.0</td>\n",
              "      <td>1000.0</td>\n",
              "      <td>1000.0</td>\n",
              "      <td>1000.0</td>\n",
              "      <td>5000.0</td>\n",
              "      <td>0</td>\n",
              "    </tr>\n",
              "    <tr>\n",
              "      <th>2</th>\n",
              "      <td>50000</td>\n",
              "      <td>2</td>\n",
              "      <td>2</td>\n",
              "      <td>1</td>\n",
              "      <td>37</td>\n",
              "      <td>0</td>\n",
              "      <td>0</td>\n",
              "      <td>0</td>\n",
              "      <td>0</td>\n",
              "      <td>0</td>\n",
              "      <td>0</td>\n",
              "      <td>46990.0</td>\n",
              "      <td>48233.0</td>\n",
              "      <td>49291.0</td>\n",
              "      <td>28314.0</td>\n",
              "      <td>28959.0</td>\n",
              "      <td>29547.0</td>\n",
              "      <td>2000.0</td>\n",
              "      <td>2019.0</td>\n",
              "      <td>1200.0</td>\n",
              "      <td>1100.0</td>\n",
              "      <td>1069.0</td>\n",
              "      <td>1000.0</td>\n",
              "      <td>0</td>\n",
              "    </tr>\n",
              "    <tr>\n",
              "      <th>3</th>\n",
              "      <td>50000</td>\n",
              "      <td>1</td>\n",
              "      <td>2</td>\n",
              "      <td>1</td>\n",
              "      <td>57</td>\n",
              "      <td>-1</td>\n",
              "      <td>0</td>\n",
              "      <td>-1</td>\n",
              "      <td>0</td>\n",
              "      <td>0</td>\n",
              "      <td>0</td>\n",
              "      <td>8617.0</td>\n",
              "      <td>5670.0</td>\n",
              "      <td>35835.0</td>\n",
              "      <td>20940.0</td>\n",
              "      <td>19146.0</td>\n",
              "      <td>19131.0</td>\n",
              "      <td>2000.0</td>\n",
              "      <td>36681.0</td>\n",
              "      <td>10000.0</td>\n",
              "      <td>9000.0</td>\n",
              "      <td>689.0</td>\n",
              "      <td>679.0</td>\n",
              "      <td>0</td>\n",
              "    </tr>\n",
              "    <tr>\n",
              "      <th>4</th>\n",
              "      <td>50000</td>\n",
              "      <td>1</td>\n",
              "      <td>1</td>\n",
              "      <td>2</td>\n",
              "      <td>37</td>\n",
              "      <td>0</td>\n",
              "      <td>0</td>\n",
              "      <td>0</td>\n",
              "      <td>0</td>\n",
              "      <td>0</td>\n",
              "      <td>0</td>\n",
              "      <td>64400.0</td>\n",
              "      <td>57069.0</td>\n",
              "      <td>57608.0</td>\n",
              "      <td>19394.0</td>\n",
              "      <td>19619.0</td>\n",
              "      <td>20024.0</td>\n",
              "      <td>2500.0</td>\n",
              "      <td>1815.0</td>\n",
              "      <td>657.0</td>\n",
              "      <td>1000.0</td>\n",
              "      <td>1000.0</td>\n",
              "      <td>800.0</td>\n",
              "      <td>0</td>\n",
              "    </tr>\n",
              "  </tbody>\n",
              "</table>\n",
              "</div>"
            ],
            "text/plain": [
              "   LIMIT_BAL  SEX  EDUCATION  MARRIAGE  ...  PAY_AMT4  PAY_AMT5  PAY_AMT6  default\n",
              "0      20000    2          2         1  ...       0.0       0.0       0.0        1\n",
              "1      90000    2          2         2  ...    1000.0    1000.0    5000.0        0\n",
              "2      50000    2          2         1  ...    1100.0    1069.0    1000.0        0\n",
              "3      50000    1          2         1  ...    9000.0     689.0     679.0        0\n",
              "4      50000    1          1         2  ...    1000.0    1000.0     800.0        0\n",
              "\n",
              "[5 rows x 24 columns]"
            ]
          },
          "metadata": {
            "tags": []
          }
        }
      ]
    },
    {
      "cell_type": "code",
      "metadata": {
        "colab_type": "code",
        "id": "kMqDGBkJEQnN",
        "outputId": "265a0564-be0d-4d19-d376-f836007c7fe0",
        "colab": {
          "base_uri": "https://localhost:8080/",
          "height": 34
        }
      },
      "source": [
        "#check the shape of data\n",
        "dataset.shape"
      ],
      "execution_count": 0,
      "outputs": [
        {
          "output_type": "execute_result",
          "data": {
            "text/plain": [
              "(24000, 24)"
            ]
          },
          "metadata": {
            "tags": []
          },
          "execution_count": 2
        }
      ]
    },
    {
      "cell_type": "markdown",
      "metadata": {
        "colab_type": "text",
        "id": "LyGFryEhEQne"
      },
      "source": [
        "In order to demonstrate the `predict_model()` function on unseen data, a sample of 1200 records has been withheld from the original dataset to be used for predictions. This should not be confused with a train/test split as this particular split is performed to simulate a real life scenario. Another way to think about this is that these 1200 records are not available at the time when the machine learning experiment was performed."
      ]
    },
    {
      "cell_type": "code",
      "metadata": {
        "colab_type": "code",
        "id": "hXmaL1xFEQnj",
        "outputId": "bc7d3548-62e3-45d1-d7d2-94010f25ddae",
        "colab": {
          "base_uri": "https://localhost:8080/",
          "height": 50
        }
      },
      "source": [
        "data = dataset.sample(frac=0.95, random_state=786).reset_index(drop=True)\n",
        "data_unseen = dataset.drop(data.index).reset_index(drop=True)\n",
        "\n",
        "print('Data for Modeling: ' + str(data.shape))\n",
        "print('Unseen Data For Predictions: ' + str(data_unseen.shape))"
      ],
      "execution_count": 0,
      "outputs": [
        {
          "output_type": "stream",
          "text": [
            "Data for Modeling: (22800, 24)\n",
            "Unseen Data For Predictions: (1200, 24)\n"
          ],
          "name": "stdout"
        }
      ]
    },
    {
      "cell_type": "markdown",
      "metadata": {
        "colab_type": "text",
        "id": "y9s9wNcjEQn0"
      },
      "source": [
        "# 6.0 Setting up Environment in PyCaret"
      ]
    },
    {
      "cell_type": "markdown",
      "metadata": {
        "colab_type": "text",
        "id": "ZlA01j6NEQn7"
      },
      "source": [
        "The `setup()` function initializes the environment in pycaret and creates the transformation pipeline to prepare the data for modeling and deployment. `setup()` must be called before executing any other function in pycaret. It takes two mandatory parameters: a pandas dataframe and the name of the target column. All other parameters are optional and are used to customize the pre-processing pipeline (we will see them in later tutorials).\n",
        "\n",
        "When `setup()` is executed, PyCaret's inference algorithm will automatically infer the data types for all features based on certain properties. The data type should be inferred correctly but this is not always the case. To account for this, PyCaret displays a table containing the features and their inferred data types after `setup()` is executed. If all of the data types are correctly identified `enter` can be pressed to continue or `quit` can be typed to end the expriment. Ensuring that the data types are correct is of fundamental importance in PyCaret as it automatically performs a few pre-processing tasks which are imperative to any machine learning experiment. These tasks are performed differently for each data type which means it is very important for them to be correctly configured.\n",
        "\n",
        "In later tutorials we will learn how to overwrite PyCaret's infered data type using the `numeric_features` and `categorical_features` parameters in `setup()`."
      ]
    },
    {
      "cell_type": "code",
      "metadata": {
        "colab_type": "code",
        "id": "BOmRR0deEQoA",
        "colab": {}
      },
      "source": [
        "from pycaret.classification import *"
      ],
      "execution_count": 0,
      "outputs": []
    },
    {
      "cell_type": "code",
      "metadata": {
        "colab_type": "code",
        "id": "k2IuvfDHEQoO",
        "outputId": "3e78f8e6-b35f-4ddb-bdf5-d17e32cbbe72",
        "scrolled": false,
        "colab": {
          "base_uri": "https://localhost:8080/",
          "height": 912
        }
      },
      "source": [
        "exp_clf101 = setup(data = data, target = 'default', session_id=123) "
      ],
      "execution_count": 0,
      "outputs": [
        {
          "output_type": "stream",
          "text": [
            " \n",
            "Setup Succesfully Completed!\n"
          ],
          "name": "stdout"
        },
        {
          "output_type": "display_data",
          "data": {
            "text/html": [
              "<style  type=\"text/css\" >\n",
              "</style><table id=\"T_57db102a_7112_11ea_a390_0242ac1c0002\" ><thead>    <tr>        <th class=\"blank level0\" ></th>        <th class=\"col_heading level0 col0\" >Description</th>        <th class=\"col_heading level0 col1\" >Value</th>    </tr></thead><tbody>\n",
              "                <tr>\n",
              "                        <th id=\"T_57db102a_7112_11ea_a390_0242ac1c0002level0_row0\" class=\"row_heading level0 row0\" >0</th>\n",
              "                        <td id=\"T_57db102a_7112_11ea_a390_0242ac1c0002row0_col0\" class=\"data row0 col0\" >session_id</td>\n",
              "                        <td id=\"T_57db102a_7112_11ea_a390_0242ac1c0002row0_col1\" class=\"data row0 col1\" >123</td>\n",
              "            </tr>\n",
              "            <tr>\n",
              "                        <th id=\"T_57db102a_7112_11ea_a390_0242ac1c0002level0_row1\" class=\"row_heading level0 row1\" >1</th>\n",
              "                        <td id=\"T_57db102a_7112_11ea_a390_0242ac1c0002row1_col0\" class=\"data row1 col0\" >Target Type</td>\n",
              "                        <td id=\"T_57db102a_7112_11ea_a390_0242ac1c0002row1_col1\" class=\"data row1 col1\" >Binary</td>\n",
              "            </tr>\n",
              "            <tr>\n",
              "                        <th id=\"T_57db102a_7112_11ea_a390_0242ac1c0002level0_row2\" class=\"row_heading level0 row2\" >2</th>\n",
              "                        <td id=\"T_57db102a_7112_11ea_a390_0242ac1c0002row2_col0\" class=\"data row2 col0\" >Label Encoded</td>\n",
              "                        <td id=\"T_57db102a_7112_11ea_a390_0242ac1c0002row2_col1\" class=\"data row2 col1\" >None</td>\n",
              "            </tr>\n",
              "            <tr>\n",
              "                        <th id=\"T_57db102a_7112_11ea_a390_0242ac1c0002level0_row3\" class=\"row_heading level0 row3\" >3</th>\n",
              "                        <td id=\"T_57db102a_7112_11ea_a390_0242ac1c0002row3_col0\" class=\"data row3 col0\" >Original Data</td>\n",
              "                        <td id=\"T_57db102a_7112_11ea_a390_0242ac1c0002row3_col1\" class=\"data row3 col1\" >(22800, 24)</td>\n",
              "            </tr>\n",
              "            <tr>\n",
              "                        <th id=\"T_57db102a_7112_11ea_a390_0242ac1c0002level0_row4\" class=\"row_heading level0 row4\" >4</th>\n",
              "                        <td id=\"T_57db102a_7112_11ea_a390_0242ac1c0002row4_col0\" class=\"data row4 col0\" >Missing Values </td>\n",
              "                        <td id=\"T_57db102a_7112_11ea_a390_0242ac1c0002row4_col1\" class=\"data row4 col1\" >False</td>\n",
              "            </tr>\n",
              "            <tr>\n",
              "                        <th id=\"T_57db102a_7112_11ea_a390_0242ac1c0002level0_row5\" class=\"row_heading level0 row5\" >5</th>\n",
              "                        <td id=\"T_57db102a_7112_11ea_a390_0242ac1c0002row5_col0\" class=\"data row5 col0\" >Numeric Features </td>\n",
              "                        <td id=\"T_57db102a_7112_11ea_a390_0242ac1c0002row5_col1\" class=\"data row5 col1\" >14</td>\n",
              "            </tr>\n",
              "            <tr>\n",
              "                        <th id=\"T_57db102a_7112_11ea_a390_0242ac1c0002level0_row6\" class=\"row_heading level0 row6\" >6</th>\n",
              "                        <td id=\"T_57db102a_7112_11ea_a390_0242ac1c0002row6_col0\" class=\"data row6 col0\" >Categorical Features </td>\n",
              "                        <td id=\"T_57db102a_7112_11ea_a390_0242ac1c0002row6_col1\" class=\"data row6 col1\" >9</td>\n",
              "            </tr>\n",
              "            <tr>\n",
              "                        <th id=\"T_57db102a_7112_11ea_a390_0242ac1c0002level0_row7\" class=\"row_heading level0 row7\" >7</th>\n",
              "                        <td id=\"T_57db102a_7112_11ea_a390_0242ac1c0002row7_col0\" class=\"data row7 col0\" >Ordinal Features </td>\n",
              "                        <td id=\"T_57db102a_7112_11ea_a390_0242ac1c0002row7_col1\" class=\"data row7 col1\" >False</td>\n",
              "            </tr>\n",
              "            <tr>\n",
              "                        <th id=\"T_57db102a_7112_11ea_a390_0242ac1c0002level0_row8\" class=\"row_heading level0 row8\" >8</th>\n",
              "                        <td id=\"T_57db102a_7112_11ea_a390_0242ac1c0002row8_col0\" class=\"data row8 col0\" >High Cardinality Features </td>\n",
              "                        <td id=\"T_57db102a_7112_11ea_a390_0242ac1c0002row8_col1\" class=\"data row8 col1\" >False</td>\n",
              "            </tr>\n",
              "            <tr>\n",
              "                        <th id=\"T_57db102a_7112_11ea_a390_0242ac1c0002level0_row9\" class=\"row_heading level0 row9\" >9</th>\n",
              "                        <td id=\"T_57db102a_7112_11ea_a390_0242ac1c0002row9_col0\" class=\"data row9 col0\" >High Cardinality Method </td>\n",
              "                        <td id=\"T_57db102a_7112_11ea_a390_0242ac1c0002row9_col1\" class=\"data row9 col1\" >None</td>\n",
              "            </tr>\n",
              "            <tr>\n",
              "                        <th id=\"T_57db102a_7112_11ea_a390_0242ac1c0002level0_row10\" class=\"row_heading level0 row10\" >10</th>\n",
              "                        <td id=\"T_57db102a_7112_11ea_a390_0242ac1c0002row10_col0\" class=\"data row10 col0\" >Sampled Data</td>\n",
              "                        <td id=\"T_57db102a_7112_11ea_a390_0242ac1c0002row10_col1\" class=\"data row10 col1\" >(22800, 24)</td>\n",
              "            </tr>\n",
              "            <tr>\n",
              "                        <th id=\"T_57db102a_7112_11ea_a390_0242ac1c0002level0_row11\" class=\"row_heading level0 row11\" >11</th>\n",
              "                        <td id=\"T_57db102a_7112_11ea_a390_0242ac1c0002row11_col0\" class=\"data row11 col0\" >Transformed Train Set</td>\n",
              "                        <td id=\"T_57db102a_7112_11ea_a390_0242ac1c0002row11_col1\" class=\"data row11 col1\" >(15959, 90)</td>\n",
              "            </tr>\n",
              "            <tr>\n",
              "                        <th id=\"T_57db102a_7112_11ea_a390_0242ac1c0002level0_row12\" class=\"row_heading level0 row12\" >12</th>\n",
              "                        <td id=\"T_57db102a_7112_11ea_a390_0242ac1c0002row12_col0\" class=\"data row12 col0\" >Transformed Test Set</td>\n",
              "                        <td id=\"T_57db102a_7112_11ea_a390_0242ac1c0002row12_col1\" class=\"data row12 col1\" >(6841, 90)</td>\n",
              "            </tr>\n",
              "            <tr>\n",
              "                        <th id=\"T_57db102a_7112_11ea_a390_0242ac1c0002level0_row13\" class=\"row_heading level0 row13\" >13</th>\n",
              "                        <td id=\"T_57db102a_7112_11ea_a390_0242ac1c0002row13_col0\" class=\"data row13 col0\" >Numeric Imputer </td>\n",
              "                        <td id=\"T_57db102a_7112_11ea_a390_0242ac1c0002row13_col1\" class=\"data row13 col1\" >mean</td>\n",
              "            </tr>\n",
              "            <tr>\n",
              "                        <th id=\"T_57db102a_7112_11ea_a390_0242ac1c0002level0_row14\" class=\"row_heading level0 row14\" >14</th>\n",
              "                        <td id=\"T_57db102a_7112_11ea_a390_0242ac1c0002row14_col0\" class=\"data row14 col0\" >Categorical Imputer </td>\n",
              "                        <td id=\"T_57db102a_7112_11ea_a390_0242ac1c0002row14_col1\" class=\"data row14 col1\" >constant</td>\n",
              "            </tr>\n",
              "            <tr>\n",
              "                        <th id=\"T_57db102a_7112_11ea_a390_0242ac1c0002level0_row15\" class=\"row_heading level0 row15\" >15</th>\n",
              "                        <td id=\"T_57db102a_7112_11ea_a390_0242ac1c0002row15_col0\" class=\"data row15 col0\" >Normalize </td>\n",
              "                        <td id=\"T_57db102a_7112_11ea_a390_0242ac1c0002row15_col1\" class=\"data row15 col1\" >False</td>\n",
              "            </tr>\n",
              "            <tr>\n",
              "                        <th id=\"T_57db102a_7112_11ea_a390_0242ac1c0002level0_row16\" class=\"row_heading level0 row16\" >16</th>\n",
              "                        <td id=\"T_57db102a_7112_11ea_a390_0242ac1c0002row16_col0\" class=\"data row16 col0\" >Normalize Method </td>\n",
              "                        <td id=\"T_57db102a_7112_11ea_a390_0242ac1c0002row16_col1\" class=\"data row16 col1\" >None</td>\n",
              "            </tr>\n",
              "            <tr>\n",
              "                        <th id=\"T_57db102a_7112_11ea_a390_0242ac1c0002level0_row17\" class=\"row_heading level0 row17\" >17</th>\n",
              "                        <td id=\"T_57db102a_7112_11ea_a390_0242ac1c0002row17_col0\" class=\"data row17 col0\" >Transformation </td>\n",
              "                        <td id=\"T_57db102a_7112_11ea_a390_0242ac1c0002row17_col1\" class=\"data row17 col1\" >False</td>\n",
              "            </tr>\n",
              "            <tr>\n",
              "                        <th id=\"T_57db102a_7112_11ea_a390_0242ac1c0002level0_row18\" class=\"row_heading level0 row18\" >18</th>\n",
              "                        <td id=\"T_57db102a_7112_11ea_a390_0242ac1c0002row18_col0\" class=\"data row18 col0\" >Transformation Method </td>\n",
              "                        <td id=\"T_57db102a_7112_11ea_a390_0242ac1c0002row18_col1\" class=\"data row18 col1\" >None</td>\n",
              "            </tr>\n",
              "            <tr>\n",
              "                        <th id=\"T_57db102a_7112_11ea_a390_0242ac1c0002level0_row19\" class=\"row_heading level0 row19\" >19</th>\n",
              "                        <td id=\"T_57db102a_7112_11ea_a390_0242ac1c0002row19_col0\" class=\"data row19 col0\" >PCA </td>\n",
              "                        <td id=\"T_57db102a_7112_11ea_a390_0242ac1c0002row19_col1\" class=\"data row19 col1\" >False</td>\n",
              "            </tr>\n",
              "            <tr>\n",
              "                        <th id=\"T_57db102a_7112_11ea_a390_0242ac1c0002level0_row20\" class=\"row_heading level0 row20\" >20</th>\n",
              "                        <td id=\"T_57db102a_7112_11ea_a390_0242ac1c0002row20_col0\" class=\"data row20 col0\" >PCA Method </td>\n",
              "                        <td id=\"T_57db102a_7112_11ea_a390_0242ac1c0002row20_col1\" class=\"data row20 col1\" >None</td>\n",
              "            </tr>\n",
              "            <tr>\n",
              "                        <th id=\"T_57db102a_7112_11ea_a390_0242ac1c0002level0_row21\" class=\"row_heading level0 row21\" >21</th>\n",
              "                        <td id=\"T_57db102a_7112_11ea_a390_0242ac1c0002row21_col0\" class=\"data row21 col0\" >PCA Components </td>\n",
              "                        <td id=\"T_57db102a_7112_11ea_a390_0242ac1c0002row21_col1\" class=\"data row21 col1\" >None</td>\n",
              "            </tr>\n",
              "            <tr>\n",
              "                        <th id=\"T_57db102a_7112_11ea_a390_0242ac1c0002level0_row22\" class=\"row_heading level0 row22\" >22</th>\n",
              "                        <td id=\"T_57db102a_7112_11ea_a390_0242ac1c0002row22_col0\" class=\"data row22 col0\" >Ignore Low Variance </td>\n",
              "                        <td id=\"T_57db102a_7112_11ea_a390_0242ac1c0002row22_col1\" class=\"data row22 col1\" >False</td>\n",
              "            </tr>\n",
              "            <tr>\n",
              "                        <th id=\"T_57db102a_7112_11ea_a390_0242ac1c0002level0_row23\" class=\"row_heading level0 row23\" >23</th>\n",
              "                        <td id=\"T_57db102a_7112_11ea_a390_0242ac1c0002row23_col0\" class=\"data row23 col0\" >Combine Rare Levels </td>\n",
              "                        <td id=\"T_57db102a_7112_11ea_a390_0242ac1c0002row23_col1\" class=\"data row23 col1\" >False</td>\n",
              "            </tr>\n",
              "            <tr>\n",
              "                        <th id=\"T_57db102a_7112_11ea_a390_0242ac1c0002level0_row24\" class=\"row_heading level0 row24\" >24</th>\n",
              "                        <td id=\"T_57db102a_7112_11ea_a390_0242ac1c0002row24_col0\" class=\"data row24 col0\" >Rare Level Threshold </td>\n",
              "                        <td id=\"T_57db102a_7112_11ea_a390_0242ac1c0002row24_col1\" class=\"data row24 col1\" >None</td>\n",
              "            </tr>\n",
              "            <tr>\n",
              "                        <th id=\"T_57db102a_7112_11ea_a390_0242ac1c0002level0_row25\" class=\"row_heading level0 row25\" >25</th>\n",
              "                        <td id=\"T_57db102a_7112_11ea_a390_0242ac1c0002row25_col0\" class=\"data row25 col0\" >Numeric Binning </td>\n",
              "                        <td id=\"T_57db102a_7112_11ea_a390_0242ac1c0002row25_col1\" class=\"data row25 col1\" >False</td>\n",
              "            </tr>\n",
              "            <tr>\n",
              "                        <th id=\"T_57db102a_7112_11ea_a390_0242ac1c0002level0_row26\" class=\"row_heading level0 row26\" >26</th>\n",
              "                        <td id=\"T_57db102a_7112_11ea_a390_0242ac1c0002row26_col0\" class=\"data row26 col0\" >Remove Outliers </td>\n",
              "                        <td id=\"T_57db102a_7112_11ea_a390_0242ac1c0002row26_col1\" class=\"data row26 col1\" >False</td>\n",
              "            </tr>\n",
              "            <tr>\n",
              "                        <th id=\"T_57db102a_7112_11ea_a390_0242ac1c0002level0_row27\" class=\"row_heading level0 row27\" >27</th>\n",
              "                        <td id=\"T_57db102a_7112_11ea_a390_0242ac1c0002row27_col0\" class=\"data row27 col0\" >Outliers Threshold </td>\n",
              "                        <td id=\"T_57db102a_7112_11ea_a390_0242ac1c0002row27_col1\" class=\"data row27 col1\" >None</td>\n",
              "            </tr>\n",
              "            <tr>\n",
              "                        <th id=\"T_57db102a_7112_11ea_a390_0242ac1c0002level0_row28\" class=\"row_heading level0 row28\" >28</th>\n",
              "                        <td id=\"T_57db102a_7112_11ea_a390_0242ac1c0002row28_col0\" class=\"data row28 col0\" >Remove Multicollinearity </td>\n",
              "                        <td id=\"T_57db102a_7112_11ea_a390_0242ac1c0002row28_col1\" class=\"data row28 col1\" >False</td>\n",
              "            </tr>\n",
              "            <tr>\n",
              "                        <th id=\"T_57db102a_7112_11ea_a390_0242ac1c0002level0_row29\" class=\"row_heading level0 row29\" >29</th>\n",
              "                        <td id=\"T_57db102a_7112_11ea_a390_0242ac1c0002row29_col0\" class=\"data row29 col0\" >Multicollinearity Threshold </td>\n",
              "                        <td id=\"T_57db102a_7112_11ea_a390_0242ac1c0002row29_col1\" class=\"data row29 col1\" >None</td>\n",
              "            </tr>\n",
              "            <tr>\n",
              "                        <th id=\"T_57db102a_7112_11ea_a390_0242ac1c0002level0_row30\" class=\"row_heading level0 row30\" >30</th>\n",
              "                        <td id=\"T_57db102a_7112_11ea_a390_0242ac1c0002row30_col0\" class=\"data row30 col0\" >Clustering </td>\n",
              "                        <td id=\"T_57db102a_7112_11ea_a390_0242ac1c0002row30_col1\" class=\"data row30 col1\" >False</td>\n",
              "            </tr>\n",
              "            <tr>\n",
              "                        <th id=\"T_57db102a_7112_11ea_a390_0242ac1c0002level0_row31\" class=\"row_heading level0 row31\" >31</th>\n",
              "                        <td id=\"T_57db102a_7112_11ea_a390_0242ac1c0002row31_col0\" class=\"data row31 col0\" >Clustering Iteration </td>\n",
              "                        <td id=\"T_57db102a_7112_11ea_a390_0242ac1c0002row31_col1\" class=\"data row31 col1\" >None</td>\n",
              "            </tr>\n",
              "            <tr>\n",
              "                        <th id=\"T_57db102a_7112_11ea_a390_0242ac1c0002level0_row32\" class=\"row_heading level0 row32\" >32</th>\n",
              "                        <td id=\"T_57db102a_7112_11ea_a390_0242ac1c0002row32_col0\" class=\"data row32 col0\" >Polynomial Features </td>\n",
              "                        <td id=\"T_57db102a_7112_11ea_a390_0242ac1c0002row32_col1\" class=\"data row32 col1\" >False</td>\n",
              "            </tr>\n",
              "            <tr>\n",
              "                        <th id=\"T_57db102a_7112_11ea_a390_0242ac1c0002level0_row33\" class=\"row_heading level0 row33\" >33</th>\n",
              "                        <td id=\"T_57db102a_7112_11ea_a390_0242ac1c0002row33_col0\" class=\"data row33 col0\" >Polynomial Degree </td>\n",
              "                        <td id=\"T_57db102a_7112_11ea_a390_0242ac1c0002row33_col1\" class=\"data row33 col1\" >None</td>\n",
              "            </tr>\n",
              "            <tr>\n",
              "                        <th id=\"T_57db102a_7112_11ea_a390_0242ac1c0002level0_row34\" class=\"row_heading level0 row34\" >34</th>\n",
              "                        <td id=\"T_57db102a_7112_11ea_a390_0242ac1c0002row34_col0\" class=\"data row34 col0\" >Trignometry Features </td>\n",
              "                        <td id=\"T_57db102a_7112_11ea_a390_0242ac1c0002row34_col1\" class=\"data row34 col1\" >False</td>\n",
              "            </tr>\n",
              "            <tr>\n",
              "                        <th id=\"T_57db102a_7112_11ea_a390_0242ac1c0002level0_row35\" class=\"row_heading level0 row35\" >35</th>\n",
              "                        <td id=\"T_57db102a_7112_11ea_a390_0242ac1c0002row35_col0\" class=\"data row35 col0\" >Polynomial Threshold </td>\n",
              "                        <td id=\"T_57db102a_7112_11ea_a390_0242ac1c0002row35_col1\" class=\"data row35 col1\" >None</td>\n",
              "            </tr>\n",
              "            <tr>\n",
              "                        <th id=\"T_57db102a_7112_11ea_a390_0242ac1c0002level0_row36\" class=\"row_heading level0 row36\" >36</th>\n",
              "                        <td id=\"T_57db102a_7112_11ea_a390_0242ac1c0002row36_col0\" class=\"data row36 col0\" >Group Features </td>\n",
              "                        <td id=\"T_57db102a_7112_11ea_a390_0242ac1c0002row36_col1\" class=\"data row36 col1\" >False</td>\n",
              "            </tr>\n",
              "            <tr>\n",
              "                        <th id=\"T_57db102a_7112_11ea_a390_0242ac1c0002level0_row37\" class=\"row_heading level0 row37\" >37</th>\n",
              "                        <td id=\"T_57db102a_7112_11ea_a390_0242ac1c0002row37_col0\" class=\"data row37 col0\" >Feature Selection </td>\n",
              "                        <td id=\"T_57db102a_7112_11ea_a390_0242ac1c0002row37_col1\" class=\"data row37 col1\" >False</td>\n",
              "            </tr>\n",
              "            <tr>\n",
              "                        <th id=\"T_57db102a_7112_11ea_a390_0242ac1c0002level0_row38\" class=\"row_heading level0 row38\" >38</th>\n",
              "                        <td id=\"T_57db102a_7112_11ea_a390_0242ac1c0002row38_col0\" class=\"data row38 col0\" >Features Selection Threshold </td>\n",
              "                        <td id=\"T_57db102a_7112_11ea_a390_0242ac1c0002row38_col1\" class=\"data row38 col1\" >None</td>\n",
              "            </tr>\n",
              "            <tr>\n",
              "                        <th id=\"T_57db102a_7112_11ea_a390_0242ac1c0002level0_row39\" class=\"row_heading level0 row39\" >39</th>\n",
              "                        <td id=\"T_57db102a_7112_11ea_a390_0242ac1c0002row39_col0\" class=\"data row39 col0\" >Feature Interaction </td>\n",
              "                        <td id=\"T_57db102a_7112_11ea_a390_0242ac1c0002row39_col1\" class=\"data row39 col1\" >False</td>\n",
              "            </tr>\n",
              "            <tr>\n",
              "                        <th id=\"T_57db102a_7112_11ea_a390_0242ac1c0002level0_row40\" class=\"row_heading level0 row40\" >40</th>\n",
              "                        <td id=\"T_57db102a_7112_11ea_a390_0242ac1c0002row40_col0\" class=\"data row40 col0\" >Feature Ratio </td>\n",
              "                        <td id=\"T_57db102a_7112_11ea_a390_0242ac1c0002row40_col1\" class=\"data row40 col1\" >False</td>\n",
              "            </tr>\n",
              "            <tr>\n",
              "                        <th id=\"T_57db102a_7112_11ea_a390_0242ac1c0002level0_row41\" class=\"row_heading level0 row41\" >41</th>\n",
              "                        <td id=\"T_57db102a_7112_11ea_a390_0242ac1c0002row41_col0\" class=\"data row41 col0\" >Interaction Threshold </td>\n",
              "                        <td id=\"T_57db102a_7112_11ea_a390_0242ac1c0002row41_col1\" class=\"data row41 col1\" >None</td>\n",
              "            </tr>\n",
              "    </tbody></table>"
            ],
            "text/plain": [
              "<pandas.io.formats.style.Styler at 0x7fcbc280aac8>"
            ]
          },
          "metadata": {
            "tags": []
          }
        }
      ]
    },
    {
      "cell_type": "markdown",
      "metadata": {
        "colab_type": "text",
        "id": "JJSOhIOxEQoY"
      },
      "source": [
        "Once the setup has been succesfully executed it prints the information grid which contains several important pieces of information. Most of the information is related to the pre-processing pipeline which is constructed when `setup()` is executed. The majority of these features are out of scope for the purposes of this tutorial however a few important things to note at this stage include:\n",
        "\n",
        "- **session_id :**  A pseduo-random number distributed as a seed in all functions for later reproducibility. If no `session_id` is passed, a random number is automatically generated that is distributed to all functions. In this experiment, the `session_id` is set as `123` for later reproducibility.<br/>\n",
        "<br/>\n",
        "- **Target Type :**  Binary or Multiclass. The Target type is automatically detected and shown. There is no difference in how the experiment is performed for Binary or Multiclass problems. All functionalities are identical.<br/>\n",
        "<br/>\n",
        "- **Label Encoded :**  When the Target variable is of type string (i.e. 'Yes' or 'No') instead of 1 or 0, it automatically encodes the label into 1 and 0 and displays the mapping (0 : No, 1 : Yes) for reference. In this experiment no label encoding is required since the target variable is of type numeric. <br/>\n",
        "<br/>\n",
        "- **Original Data :**  Displays the original shape of the dataset. In this experiment (22800, 24) means 22,800 samples and 24 features including the target column. <br/>\n",
        "<br/>\n",
        "- **Missing Values :**  When there are missing values in the original data this will show as True. For this experiment there are no missing values in the dataset. \n",
        "<br/>\n",
        "<br/>\n",
        "- **Numeric Features :**  The number of features inferred as numeric. In this dataset, 14 out of 24 features are inferred as numeric. <br/>\n",
        "<br/>\n",
        "- **Categorical Features :**  The number of features inferred as categorical. In this dataset, 9 out of 24 features are inferred as categorical. <br/>\n",
        "<br/>\n",
        "- **Transformed Train Set :**  Displays the shape of the transformed training set. Notice that the original shape of (22800, 24) is transformed into (15959, 91) for the transformed train set and the number of features have increased to 91 from 24 due to categorical encoding <br/>\n",
        "<br/>\n",
        "- **Transformed Test Set :**  Displays the shape of the transformed test/hold-out set. There are 6841 samples in test/hold-out set. This split is based on the default value of 70/30 that can be changed using the `train_size` parameter in setup. <br/>\n",
        "\n",
        "Notice how a few tasks that are imperative to perform modeling are automatically handled such as missing value imputation (in this case there are no missing values in the training data, but we still need imputers for unseen data), categorical encoding etc. Most of the parameters in `setup()` are optional and used for customizing the pre-processing pipeline. These parameters are out of scope for this tutorial but as you progress to the intermediate and expert levels, we will cover them in much greater detail."
      ]
    },
    {
      "cell_type": "markdown",
      "metadata": {
        "colab_type": "text",
        "id": "it_nJo1IEQob"
      },
      "source": [
        "# 7.0 Comparing All Models"
      ]
    },
    {
      "cell_type": "markdown",
      "metadata": {
        "colab_type": "text",
        "id": "apb_B9bBEQof"
      },
      "source": [
        "Comparing all models to evaluate performance is the recommended starting point for modeling once the setup is completed (unless you exactly know what kind of model you need, which is often not the case). This function trains all models in the model library and scores them using stratified cross validation for metric evaluation. The output prints a score grid that shows average Accuracy, AUC, Recall, Precision, F1 and Kappa accross the folds (10 by default) of all the available models in the model library."
      ]
    },
    {
      "cell_type": "code",
      "metadata": {
        "colab_type": "code",
        "id": "AsG0b1NIEQoj",
        "outputId": "de2693f3-bfd7-455b-b6a8-994394391b4e",
        "scrolled": false,
        "colab": {
          "base_uri": "https://localhost:8080/",
          "height": 338
        }
      },
      "source": [
        "compare_models()"
      ],
      "execution_count": 0,
      "outputs": [
        {
          "output_type": "execute_result",
          "data": {
            "text/html": [
              "<style  type=\"text/css\" >\n",
              "    #T_24125874_7113_11ea_a390_0242ac1c0002 th {\n",
              "          text-align: left;\n",
              "    }    #T_24125874_7113_11ea_a390_0242ac1c0002row0_col0 {\n",
              "            text-align:  left;\n",
              "        }    #T_24125874_7113_11ea_a390_0242ac1c0002row0_col1 {\n",
              "            background-color:  yellow;\n",
              "            text-align:  left;\n",
              "        }    #T_24125874_7113_11ea_a390_0242ac1c0002row0_col2 {\n",
              "            : ;\n",
              "            text-align:  left;\n",
              "        }    #T_24125874_7113_11ea_a390_0242ac1c0002row0_col3 {\n",
              "            : ;\n",
              "            text-align:  left;\n",
              "        }    #T_24125874_7113_11ea_a390_0242ac1c0002row0_col4 {\n",
              "            background-color:  yellow;\n",
              "            text-align:  left;\n",
              "        }    #T_24125874_7113_11ea_a390_0242ac1c0002row0_col5 {\n",
              "            : ;\n",
              "            text-align:  left;\n",
              "        }    #T_24125874_7113_11ea_a390_0242ac1c0002row0_col6 {\n",
              "            : ;\n",
              "            text-align:  left;\n",
              "        }    #T_24125874_7113_11ea_a390_0242ac1c0002row1_col0 {\n",
              "            text-align:  left;\n",
              "        }    #T_24125874_7113_11ea_a390_0242ac1c0002row1_col1 {\n",
              "            background-color:  yellow;\n",
              "            text-align:  left;\n",
              "        }    #T_24125874_7113_11ea_a390_0242ac1c0002row1_col2 {\n",
              "            : ;\n",
              "            text-align:  left;\n",
              "        }    #T_24125874_7113_11ea_a390_0242ac1c0002row1_col3 {\n",
              "            : ;\n",
              "            text-align:  left;\n",
              "        }    #T_24125874_7113_11ea_a390_0242ac1c0002row1_col4 {\n",
              "            : ;\n",
              "            text-align:  left;\n",
              "        }    #T_24125874_7113_11ea_a390_0242ac1c0002row1_col5 {\n",
              "            : ;\n",
              "            text-align:  left;\n",
              "        }    #T_24125874_7113_11ea_a390_0242ac1c0002row1_col6 {\n",
              "            background-color:  yellow;\n",
              "            text-align:  left;\n",
              "        }    #T_24125874_7113_11ea_a390_0242ac1c0002row2_col0 {\n",
              "            text-align:  left;\n",
              "        }    #T_24125874_7113_11ea_a390_0242ac1c0002row2_col1 {\n",
              "            : ;\n",
              "            text-align:  left;\n",
              "        }    #T_24125874_7113_11ea_a390_0242ac1c0002row2_col2 {\n",
              "            : ;\n",
              "            text-align:  left;\n",
              "        }    #T_24125874_7113_11ea_a390_0242ac1c0002row2_col3 {\n",
              "            : ;\n",
              "            text-align:  left;\n",
              "        }    #T_24125874_7113_11ea_a390_0242ac1c0002row2_col4 {\n",
              "            : ;\n",
              "            text-align:  left;\n",
              "        }    #T_24125874_7113_11ea_a390_0242ac1c0002row2_col5 {\n",
              "            : ;\n",
              "            text-align:  left;\n",
              "        }    #T_24125874_7113_11ea_a390_0242ac1c0002row2_col6 {\n",
              "            : ;\n",
              "            text-align:  left;\n",
              "        }    #T_24125874_7113_11ea_a390_0242ac1c0002row3_col0 {\n",
              "            text-align:  left;\n",
              "        }    #T_24125874_7113_11ea_a390_0242ac1c0002row3_col1 {\n",
              "            : ;\n",
              "            text-align:  left;\n",
              "        }    #T_24125874_7113_11ea_a390_0242ac1c0002row3_col2 {\n",
              "            background-color:  yellow;\n",
              "            text-align:  left;\n",
              "        }    #T_24125874_7113_11ea_a390_0242ac1c0002row3_col3 {\n",
              "            : ;\n",
              "            text-align:  left;\n",
              "        }    #T_24125874_7113_11ea_a390_0242ac1c0002row3_col4 {\n",
              "            : ;\n",
              "            text-align:  left;\n",
              "        }    #T_24125874_7113_11ea_a390_0242ac1c0002row3_col5 {\n",
              "            : ;\n",
              "            text-align:  left;\n",
              "        }    #T_24125874_7113_11ea_a390_0242ac1c0002row3_col6 {\n",
              "            : ;\n",
              "            text-align:  left;\n",
              "        }    #T_24125874_7113_11ea_a390_0242ac1c0002row4_col0 {\n",
              "            text-align:  left;\n",
              "        }    #T_24125874_7113_11ea_a390_0242ac1c0002row4_col1 {\n",
              "            : ;\n",
              "            text-align:  left;\n",
              "        }    #T_24125874_7113_11ea_a390_0242ac1c0002row4_col2 {\n",
              "            : ;\n",
              "            text-align:  left;\n",
              "        }    #T_24125874_7113_11ea_a390_0242ac1c0002row4_col3 {\n",
              "            : ;\n",
              "            text-align:  left;\n",
              "        }    #T_24125874_7113_11ea_a390_0242ac1c0002row4_col4 {\n",
              "            : ;\n",
              "            text-align:  left;\n",
              "        }    #T_24125874_7113_11ea_a390_0242ac1c0002row4_col5 {\n",
              "            background-color:  yellow;\n",
              "            text-align:  left;\n",
              "        }    #T_24125874_7113_11ea_a390_0242ac1c0002row4_col6 {\n",
              "            : ;\n",
              "            text-align:  left;\n",
              "        }    #T_24125874_7113_11ea_a390_0242ac1c0002row5_col0 {\n",
              "            text-align:  left;\n",
              "        }    #T_24125874_7113_11ea_a390_0242ac1c0002row5_col1 {\n",
              "            : ;\n",
              "            text-align:  left;\n",
              "        }    #T_24125874_7113_11ea_a390_0242ac1c0002row5_col2 {\n",
              "            : ;\n",
              "            text-align:  left;\n",
              "        }    #T_24125874_7113_11ea_a390_0242ac1c0002row5_col3 {\n",
              "            : ;\n",
              "            text-align:  left;\n",
              "        }    #T_24125874_7113_11ea_a390_0242ac1c0002row5_col4 {\n",
              "            : ;\n",
              "            text-align:  left;\n",
              "        }    #T_24125874_7113_11ea_a390_0242ac1c0002row5_col5 {\n",
              "            : ;\n",
              "            text-align:  left;\n",
              "        }    #T_24125874_7113_11ea_a390_0242ac1c0002row5_col6 {\n",
              "            : ;\n",
              "            text-align:  left;\n",
              "        }    #T_24125874_7113_11ea_a390_0242ac1c0002row6_col0 {\n",
              "            text-align:  left;\n",
              "        }    #T_24125874_7113_11ea_a390_0242ac1c0002row6_col1 {\n",
              "            : ;\n",
              "            text-align:  left;\n",
              "        }    #T_24125874_7113_11ea_a390_0242ac1c0002row6_col2 {\n",
              "            : ;\n",
              "            text-align:  left;\n",
              "        }    #T_24125874_7113_11ea_a390_0242ac1c0002row6_col3 {\n",
              "            : ;\n",
              "            text-align:  left;\n",
              "        }    #T_24125874_7113_11ea_a390_0242ac1c0002row6_col4 {\n",
              "            : ;\n",
              "            text-align:  left;\n",
              "        }    #T_24125874_7113_11ea_a390_0242ac1c0002row6_col5 {\n",
              "            : ;\n",
              "            text-align:  left;\n",
              "        }    #T_24125874_7113_11ea_a390_0242ac1c0002row6_col6 {\n",
              "            : ;\n",
              "            text-align:  left;\n",
              "        }    #T_24125874_7113_11ea_a390_0242ac1c0002row7_col0 {\n",
              "            text-align:  left;\n",
              "        }    #T_24125874_7113_11ea_a390_0242ac1c0002row7_col1 {\n",
              "            : ;\n",
              "            text-align:  left;\n",
              "        }    #T_24125874_7113_11ea_a390_0242ac1c0002row7_col2 {\n",
              "            : ;\n",
              "            text-align:  left;\n",
              "        }    #T_24125874_7113_11ea_a390_0242ac1c0002row7_col3 {\n",
              "            : ;\n",
              "            text-align:  left;\n",
              "        }    #T_24125874_7113_11ea_a390_0242ac1c0002row7_col4 {\n",
              "            : ;\n",
              "            text-align:  left;\n",
              "        }    #T_24125874_7113_11ea_a390_0242ac1c0002row7_col5 {\n",
              "            : ;\n",
              "            text-align:  left;\n",
              "        }    #T_24125874_7113_11ea_a390_0242ac1c0002row7_col6 {\n",
              "            : ;\n",
              "            text-align:  left;\n",
              "        }    #T_24125874_7113_11ea_a390_0242ac1c0002row8_col0 {\n",
              "            text-align:  left;\n",
              "        }    #T_24125874_7113_11ea_a390_0242ac1c0002row8_col1 {\n",
              "            : ;\n",
              "            text-align:  left;\n",
              "        }    #T_24125874_7113_11ea_a390_0242ac1c0002row8_col2 {\n",
              "            : ;\n",
              "            text-align:  left;\n",
              "        }    #T_24125874_7113_11ea_a390_0242ac1c0002row8_col3 {\n",
              "            : ;\n",
              "            text-align:  left;\n",
              "        }    #T_24125874_7113_11ea_a390_0242ac1c0002row8_col4 {\n",
              "            : ;\n",
              "            text-align:  left;\n",
              "        }    #T_24125874_7113_11ea_a390_0242ac1c0002row8_col5 {\n",
              "            : ;\n",
              "            text-align:  left;\n",
              "        }    #T_24125874_7113_11ea_a390_0242ac1c0002row8_col6 {\n",
              "            : ;\n",
              "            text-align:  left;\n",
              "        }    #T_24125874_7113_11ea_a390_0242ac1c0002row9_col0 {\n",
              "            text-align:  left;\n",
              "        }    #T_24125874_7113_11ea_a390_0242ac1c0002row9_col1 {\n",
              "            : ;\n",
              "            text-align:  left;\n",
              "        }    #T_24125874_7113_11ea_a390_0242ac1c0002row9_col2 {\n",
              "            : ;\n",
              "            text-align:  left;\n",
              "        }    #T_24125874_7113_11ea_a390_0242ac1c0002row9_col3 {\n",
              "            : ;\n",
              "            text-align:  left;\n",
              "        }    #T_24125874_7113_11ea_a390_0242ac1c0002row9_col4 {\n",
              "            : ;\n",
              "            text-align:  left;\n",
              "        }    #T_24125874_7113_11ea_a390_0242ac1c0002row9_col5 {\n",
              "            : ;\n",
              "            text-align:  left;\n",
              "        }    #T_24125874_7113_11ea_a390_0242ac1c0002row9_col6 {\n",
              "            : ;\n",
              "            text-align:  left;\n",
              "        }    #T_24125874_7113_11ea_a390_0242ac1c0002row10_col0 {\n",
              "            text-align:  left;\n",
              "        }    #T_24125874_7113_11ea_a390_0242ac1c0002row10_col1 {\n",
              "            : ;\n",
              "            text-align:  left;\n",
              "        }    #T_24125874_7113_11ea_a390_0242ac1c0002row10_col2 {\n",
              "            : ;\n",
              "            text-align:  left;\n",
              "        }    #T_24125874_7113_11ea_a390_0242ac1c0002row10_col3 {\n",
              "            : ;\n",
              "            text-align:  left;\n",
              "        }    #T_24125874_7113_11ea_a390_0242ac1c0002row10_col4 {\n",
              "            : ;\n",
              "            text-align:  left;\n",
              "        }    #T_24125874_7113_11ea_a390_0242ac1c0002row10_col5 {\n",
              "            : ;\n",
              "            text-align:  left;\n",
              "        }    #T_24125874_7113_11ea_a390_0242ac1c0002row10_col6 {\n",
              "            : ;\n",
              "            text-align:  left;\n",
              "        }    #T_24125874_7113_11ea_a390_0242ac1c0002row11_col0 {\n",
              "            text-align:  left;\n",
              "        }    #T_24125874_7113_11ea_a390_0242ac1c0002row11_col1 {\n",
              "            : ;\n",
              "            text-align:  left;\n",
              "        }    #T_24125874_7113_11ea_a390_0242ac1c0002row11_col2 {\n",
              "            : ;\n",
              "            text-align:  left;\n",
              "        }    #T_24125874_7113_11ea_a390_0242ac1c0002row11_col3 {\n",
              "            : ;\n",
              "            text-align:  left;\n",
              "        }    #T_24125874_7113_11ea_a390_0242ac1c0002row11_col4 {\n",
              "            : ;\n",
              "            text-align:  left;\n",
              "        }    #T_24125874_7113_11ea_a390_0242ac1c0002row11_col5 {\n",
              "            : ;\n",
              "            text-align:  left;\n",
              "        }    #T_24125874_7113_11ea_a390_0242ac1c0002row11_col6 {\n",
              "            : ;\n",
              "            text-align:  left;\n",
              "        }    #T_24125874_7113_11ea_a390_0242ac1c0002row12_col0 {\n",
              "            text-align:  left;\n",
              "        }    #T_24125874_7113_11ea_a390_0242ac1c0002row12_col1 {\n",
              "            : ;\n",
              "            text-align:  left;\n",
              "        }    #T_24125874_7113_11ea_a390_0242ac1c0002row12_col2 {\n",
              "            : ;\n",
              "            text-align:  left;\n",
              "        }    #T_24125874_7113_11ea_a390_0242ac1c0002row12_col3 {\n",
              "            : ;\n",
              "            text-align:  left;\n",
              "        }    #T_24125874_7113_11ea_a390_0242ac1c0002row12_col4 {\n",
              "            : ;\n",
              "            text-align:  left;\n",
              "        }    #T_24125874_7113_11ea_a390_0242ac1c0002row12_col5 {\n",
              "            : ;\n",
              "            text-align:  left;\n",
              "        }    #T_24125874_7113_11ea_a390_0242ac1c0002row12_col6 {\n",
              "            : ;\n",
              "            text-align:  left;\n",
              "        }    #T_24125874_7113_11ea_a390_0242ac1c0002row13_col0 {\n",
              "            text-align:  left;\n",
              "        }    #T_24125874_7113_11ea_a390_0242ac1c0002row13_col1 {\n",
              "            : ;\n",
              "            text-align:  left;\n",
              "        }    #T_24125874_7113_11ea_a390_0242ac1c0002row13_col2 {\n",
              "            : ;\n",
              "            text-align:  left;\n",
              "        }    #T_24125874_7113_11ea_a390_0242ac1c0002row13_col3 {\n",
              "            : ;\n",
              "            text-align:  left;\n",
              "        }    #T_24125874_7113_11ea_a390_0242ac1c0002row13_col4 {\n",
              "            : ;\n",
              "            text-align:  left;\n",
              "        }    #T_24125874_7113_11ea_a390_0242ac1c0002row13_col5 {\n",
              "            : ;\n",
              "            text-align:  left;\n",
              "        }    #T_24125874_7113_11ea_a390_0242ac1c0002row13_col6 {\n",
              "            : ;\n",
              "            text-align:  left;\n",
              "        }    #T_24125874_7113_11ea_a390_0242ac1c0002row14_col0 {\n",
              "            text-align:  left;\n",
              "        }    #T_24125874_7113_11ea_a390_0242ac1c0002row14_col1 {\n",
              "            : ;\n",
              "            text-align:  left;\n",
              "        }    #T_24125874_7113_11ea_a390_0242ac1c0002row14_col2 {\n",
              "            : ;\n",
              "            text-align:  left;\n",
              "        }    #T_24125874_7113_11ea_a390_0242ac1c0002row14_col3 {\n",
              "            background-color:  yellow;\n",
              "            text-align:  left;\n",
              "        }    #T_24125874_7113_11ea_a390_0242ac1c0002row14_col4 {\n",
              "            : ;\n",
              "            text-align:  left;\n",
              "        }    #T_24125874_7113_11ea_a390_0242ac1c0002row14_col5 {\n",
              "            : ;\n",
              "            text-align:  left;\n",
              "        }    #T_24125874_7113_11ea_a390_0242ac1c0002row14_col6 {\n",
              "            : ;\n",
              "            text-align:  left;\n",
              "        }</style><table id=\"T_24125874_7113_11ea_a390_0242ac1c0002\" ><thead>    <tr>        <th class=\"blank level0\" ></th>        <th class=\"col_heading level0 col0\" >Model</th>        <th class=\"col_heading level0 col1\" >Accuracy</th>        <th class=\"col_heading level0 col2\" >AUC</th>        <th class=\"col_heading level0 col3\" >Recall</th>        <th class=\"col_heading level0 col4\" >Prec.</th>        <th class=\"col_heading level0 col5\" >F1</th>        <th class=\"col_heading level0 col6\" >Kappa</th>    </tr></thead><tbody>\n",
              "                <tr>\n",
              "                        <th id=\"T_24125874_7113_11ea_a390_0242ac1c0002level0_row0\" class=\"row_heading level0 row0\" >0</th>\n",
              "                        <td id=\"T_24125874_7113_11ea_a390_0242ac1c0002row0_col0\" class=\"data row0 col0\" >Ridge Classifier</td>\n",
              "                        <td id=\"T_24125874_7113_11ea_a390_0242ac1c0002row0_col1\" class=\"data row0 col1\" >0.8236</td>\n",
              "                        <td id=\"T_24125874_7113_11ea_a390_0242ac1c0002row0_col2\" class=\"data row0 col2\" >0</td>\n",
              "                        <td id=\"T_24125874_7113_11ea_a390_0242ac1c0002row0_col3\" class=\"data row0 col3\" >0.3646</td>\n",
              "                        <td id=\"T_24125874_7113_11ea_a390_0242ac1c0002row0_col4\" class=\"data row0 col4\" >0.6932</td>\n",
              "                        <td id=\"T_24125874_7113_11ea_a390_0242ac1c0002row0_col5\" class=\"data row0 col5\" >0.4776</td>\n",
              "                        <td id=\"T_24125874_7113_11ea_a390_0242ac1c0002row0_col6\" class=\"data row0 col6\" >0.3836</td>\n",
              "            </tr>\n",
              "            <tr>\n",
              "                        <th id=\"T_24125874_7113_11ea_a390_0242ac1c0002level0_row1\" class=\"row_heading level0 row1\" >1</th>\n",
              "                        <td id=\"T_24125874_7113_11ea_a390_0242ac1c0002row1_col0\" class=\"data row1 col0\" >Linear Discriminant Analysis</td>\n",
              "                        <td id=\"T_24125874_7113_11ea_a390_0242ac1c0002row1_col1\" class=\"data row1 col1\" >0.8236</td>\n",
              "                        <td id=\"T_24125874_7113_11ea_a390_0242ac1c0002row1_col2\" class=\"data row1 col2\" >0.7703</td>\n",
              "                        <td id=\"T_24125874_7113_11ea_a390_0242ac1c0002row1_col3\" class=\"data row1 col3\" >0.3813</td>\n",
              "                        <td id=\"T_24125874_7113_11ea_a390_0242ac1c0002row1_col4\" class=\"data row1 col4\" >0.6818</td>\n",
              "                        <td id=\"T_24125874_7113_11ea_a390_0242ac1c0002row1_col5\" class=\"data row1 col5\" >0.4888</td>\n",
              "                        <td id=\"T_24125874_7113_11ea_a390_0242ac1c0002row1_col6\" class=\"data row1 col6\" >0.3923</td>\n",
              "            </tr>\n",
              "            <tr>\n",
              "                        <th id=\"T_24125874_7113_11ea_a390_0242ac1c0002level0_row2\" class=\"row_heading level0 row2\" >2</th>\n",
              "                        <td id=\"T_24125874_7113_11ea_a390_0242ac1c0002row2_col0\" class=\"data row2 col0\" >Gradient Boosting Classifier</td>\n",
              "                        <td id=\"T_24125874_7113_11ea_a390_0242ac1c0002row2_col1\" class=\"data row2 col1\" >0.8225</td>\n",
              "                        <td id=\"T_24125874_7113_11ea_a390_0242ac1c0002row2_col2\" class=\"data row2 col2\" >0.7887</td>\n",
              "                        <td id=\"T_24125874_7113_11ea_a390_0242ac1c0002row2_col3\" class=\"data row2 col3\" >0.3649</td>\n",
              "                        <td id=\"T_24125874_7113_11ea_a390_0242ac1c0002row2_col4\" class=\"data row2 col4\" >0.687</td>\n",
              "                        <td id=\"T_24125874_7113_11ea_a390_0242ac1c0002row2_col5\" class=\"data row2 col5\" >0.4763</td>\n",
              "                        <td id=\"T_24125874_7113_11ea_a390_0242ac1c0002row2_col6\" class=\"data row2 col6\" >0.3813</td>\n",
              "            </tr>\n",
              "            <tr>\n",
              "                        <th id=\"T_24125874_7113_11ea_a390_0242ac1c0002level0_row3\" class=\"row_heading level0 row3\" >3</th>\n",
              "                        <td id=\"T_24125874_7113_11ea_a390_0242ac1c0002row3_col0\" class=\"data row3 col0\" >Extreme Gradient Boosting</td>\n",
              "                        <td id=\"T_24125874_7113_11ea_a390_0242ac1c0002row3_col1\" class=\"data row3 col1\" >0.8218</td>\n",
              "                        <td id=\"T_24125874_7113_11ea_a390_0242ac1c0002row3_col2\" class=\"data row3 col2\" >0.7894</td>\n",
              "                        <td id=\"T_24125874_7113_11ea_a390_0242ac1c0002row3_col3\" class=\"data row3 col3\" >0.3595</td>\n",
              "                        <td id=\"T_24125874_7113_11ea_a390_0242ac1c0002row3_col4\" class=\"data row3 col4\" >0.6862</td>\n",
              "                        <td id=\"T_24125874_7113_11ea_a390_0242ac1c0002row3_col5\" class=\"data row3 col5\" >0.4715</td>\n",
              "                        <td id=\"T_24125874_7113_11ea_a390_0242ac1c0002row3_col6\" class=\"data row3 col6\" >0.3767</td>\n",
              "            </tr>\n",
              "            <tr>\n",
              "                        <th id=\"T_24125874_7113_11ea_a390_0242ac1c0002level0_row4\" class=\"row_heading level0 row4\" >4</th>\n",
              "                        <td id=\"T_24125874_7113_11ea_a390_0242ac1c0002row4_col0\" class=\"data row4 col0\" >Light Gradient Boosting Machine</td>\n",
              "                        <td id=\"T_24125874_7113_11ea_a390_0242ac1c0002row4_col1\" class=\"data row4 col1\" >0.8214</td>\n",
              "                        <td id=\"T_24125874_7113_11ea_a390_0242ac1c0002row4_col2\" class=\"data row4 col2\" >0.7859</td>\n",
              "                        <td id=\"T_24125874_7113_11ea_a390_0242ac1c0002row4_col3\" class=\"data row4 col3\" >0.3878</td>\n",
              "                        <td id=\"T_24125874_7113_11ea_a390_0242ac1c0002row4_col4\" class=\"data row4 col4\" >0.6663</td>\n",
              "                        <td id=\"T_24125874_7113_11ea_a390_0242ac1c0002row4_col5\" class=\"data row4 col5\" >0.49</td>\n",
              "                        <td id=\"T_24125874_7113_11ea_a390_0242ac1c0002row4_col6\" class=\"data row4 col6\" >0.3908</td>\n",
              "            </tr>\n",
              "            <tr>\n",
              "                        <th id=\"T_24125874_7113_11ea_a390_0242ac1c0002level0_row5\" class=\"row_heading level0 row5\" >5</th>\n",
              "                        <td id=\"T_24125874_7113_11ea_a390_0242ac1c0002row5_col0\" class=\"data row5 col0\" >CatBoost Classifier</td>\n",
              "                        <td id=\"T_24125874_7113_11ea_a390_0242ac1c0002row5_col1\" class=\"data row5 col1\" >0.8205</td>\n",
              "                        <td id=\"T_24125874_7113_11ea_a390_0242ac1c0002row5_col2\" class=\"data row5 col2\" >0.7873</td>\n",
              "                        <td id=\"T_24125874_7113_11ea_a390_0242ac1c0002row5_col3\" class=\"data row5 col3\" >0.3853</td>\n",
              "                        <td id=\"T_24125874_7113_11ea_a390_0242ac1c0002row5_col4\" class=\"data row5 col4\" >0.6629</td>\n",
              "                        <td id=\"T_24125874_7113_11ea_a390_0242ac1c0002row5_col5\" class=\"data row5 col5\" >0.4871</td>\n",
              "                        <td id=\"T_24125874_7113_11ea_a390_0242ac1c0002row5_col6\" class=\"data row5 col6\" >0.3874</td>\n",
              "            </tr>\n",
              "            <tr>\n",
              "                        <th id=\"T_24125874_7113_11ea_a390_0242ac1c0002level0_row6\" class=\"row_heading level0 row6\" >6</th>\n",
              "                        <td id=\"T_24125874_7113_11ea_a390_0242ac1c0002row6_col0\" class=\"data row6 col0\" >Ada Boost Classifier</td>\n",
              "                        <td id=\"T_24125874_7113_11ea_a390_0242ac1c0002row6_col1\" class=\"data row6 col1\" >0.8185</td>\n",
              "                        <td id=\"T_24125874_7113_11ea_a390_0242ac1c0002row6_col2\" class=\"data row6 col2\" >0.7783</td>\n",
              "                        <td id=\"T_24125874_7113_11ea_a390_0242ac1c0002row6_col3\" class=\"data row6 col3\" >0.3507</td>\n",
              "                        <td id=\"T_24125874_7113_11ea_a390_0242ac1c0002row6_col4\" class=\"data row6 col4\" >0.6729</td>\n",
              "                        <td id=\"T_24125874_7113_11ea_a390_0242ac1c0002row6_col5\" class=\"data row6 col5\" >0.4607</td>\n",
              "                        <td id=\"T_24125874_7113_11ea_a390_0242ac1c0002row6_col6\" class=\"data row6 col6\" >0.3644</td>\n",
              "            </tr>\n",
              "            <tr>\n",
              "                        <th id=\"T_24125874_7113_11ea_a390_0242ac1c0002level0_row7\" class=\"row_heading level0 row7\" >7</th>\n",
              "                        <td id=\"T_24125874_7113_11ea_a390_0242ac1c0002row7_col0\" class=\"data row7 col0\" >Extra Trees Classifier</td>\n",
              "                        <td id=\"T_24125874_7113_11ea_a390_0242ac1c0002row7_col1\" class=\"data row7 col1\" >0.8093</td>\n",
              "                        <td id=\"T_24125874_7113_11ea_a390_0242ac1c0002row7_col2\" class=\"data row7 col2\" >0.7533</td>\n",
              "                        <td id=\"T_24125874_7113_11ea_a390_0242ac1c0002row7_col3\" class=\"data row7 col3\" >0.3839</td>\n",
              "                        <td id=\"T_24125874_7113_11ea_a390_0242ac1c0002row7_col4\" class=\"data row7 col4\" >0.61</td>\n",
              "                        <td id=\"T_24125874_7113_11ea_a390_0242ac1c0002row7_col5\" class=\"data row7 col5\" >0.4711</td>\n",
              "                        <td id=\"T_24125874_7113_11ea_a390_0242ac1c0002row7_col6\" class=\"data row7 col6\" >0.362</td>\n",
              "            </tr>\n",
              "            <tr>\n",
              "                        <th id=\"T_24125874_7113_11ea_a390_0242ac1c0002level0_row8\" class=\"row_heading level0 row8\" >8</th>\n",
              "                        <td id=\"T_24125874_7113_11ea_a390_0242ac1c0002row8_col0\" class=\"data row8 col0\" >Random Forest Classifier</td>\n",
              "                        <td id=\"T_24125874_7113_11ea_a390_0242ac1c0002row8_col1\" class=\"data row8 col1\" >0.8084</td>\n",
              "                        <td id=\"T_24125874_7113_11ea_a390_0242ac1c0002row8_col2\" class=\"data row8 col2\" >0.738</td>\n",
              "                        <td id=\"T_24125874_7113_11ea_a390_0242ac1c0002row8_col3\" class=\"data row8 col3\" >0.3337</td>\n",
              "                        <td id=\"T_24125874_7113_11ea_a390_0242ac1c0002row8_col4\" class=\"data row8 col4\" >0.6254</td>\n",
              "                        <td id=\"T_24125874_7113_11ea_a390_0242ac1c0002row8_col5\" class=\"data row8 col5\" >0.4349</td>\n",
              "                        <td id=\"T_24125874_7113_11ea_a390_0242ac1c0002row8_col6\" class=\"data row8 col6\" >0.3323</td>\n",
              "            </tr>\n",
              "            <tr>\n",
              "                        <th id=\"T_24125874_7113_11ea_a390_0242ac1c0002level0_row9\" class=\"row_heading level0 row9\" >9</th>\n",
              "                        <td id=\"T_24125874_7113_11ea_a390_0242ac1c0002row9_col0\" class=\"data row9 col0\" >Quadratic Discriminant Analysis</td>\n",
              "                        <td id=\"T_24125874_7113_11ea_a390_0242ac1c0002row9_col1\" class=\"data row9 col1\" >0.789</td>\n",
              "                        <td id=\"T_24125874_7113_11ea_a390_0242ac1c0002row9_col2\" class=\"data row9 col2\" >0.7392</td>\n",
              "                        <td id=\"T_24125874_7113_11ea_a390_0242ac1c0002row9_col3\" class=\"data row9 col3\" >0.1731</td>\n",
              "                        <td id=\"T_24125874_7113_11ea_a390_0242ac1c0002row9_col4\" class=\"data row9 col4\" >0.6267</td>\n",
              "                        <td id=\"T_24125874_7113_11ea_a390_0242ac1c0002row9_col5\" class=\"data row9 col5\" >0.2371</td>\n",
              "                        <td id=\"T_24125874_7113_11ea_a390_0242ac1c0002row9_col6\" class=\"data row9 col6\" >0.169</td>\n",
              "            </tr>\n",
              "            <tr>\n",
              "                        <th id=\"T_24125874_7113_11ea_a390_0242ac1c0002level0_row10\" class=\"row_heading level0 row10\" >10</th>\n",
              "                        <td id=\"T_24125874_7113_11ea_a390_0242ac1c0002row10_col0\" class=\"data row10 col0\" >Logistic Regression</td>\n",
              "                        <td id=\"T_24125874_7113_11ea_a390_0242ac1c0002row10_col1\" class=\"data row10 col1\" >0.7786</td>\n",
              "                        <td id=\"T_24125874_7113_11ea_a390_0242ac1c0002row10_col2\" class=\"data row10 col2\" >0.6508</td>\n",
              "                        <td id=\"T_24125874_7113_11ea_a390_0242ac1c0002row10_col3\" class=\"data row10 col3\" >0.0006</td>\n",
              "                        <td id=\"T_24125874_7113_11ea_a390_0242ac1c0002row10_col4\" class=\"data row10 col4\" >0.075</td>\n",
              "                        <td id=\"T_24125874_7113_11ea_a390_0242ac1c0002row10_col5\" class=\"data row10 col5\" >0.0011</td>\n",
              "                        <td id=\"T_24125874_7113_11ea_a390_0242ac1c0002row10_col6\" class=\"data row10 col6\" >0.0001</td>\n",
              "            </tr>\n",
              "            <tr>\n",
              "                        <th id=\"T_24125874_7113_11ea_a390_0242ac1c0002level0_row11\" class=\"row_heading level0 row11\" >11</th>\n",
              "                        <td id=\"T_24125874_7113_11ea_a390_0242ac1c0002row11_col0\" class=\"data row11 col0\" >K Neighbors Classifier</td>\n",
              "                        <td id=\"T_24125874_7113_11ea_a390_0242ac1c0002row11_col1\" class=\"data row11 col1\" >0.7505</td>\n",
              "                        <td id=\"T_24125874_7113_11ea_a390_0242ac1c0002row11_col2\" class=\"data row11 col2\" >0.6099</td>\n",
              "                        <td id=\"T_24125874_7113_11ea_a390_0242ac1c0002row11_col3\" class=\"data row11 col3\" >0.1802</td>\n",
              "                        <td id=\"T_24125874_7113_11ea_a390_0242ac1c0002row11_col4\" class=\"data row11 col4\" >0.3693</td>\n",
              "                        <td id=\"T_24125874_7113_11ea_a390_0242ac1c0002row11_col5\" class=\"data row11 col5\" >0.2421</td>\n",
              "                        <td id=\"T_24125874_7113_11ea_a390_0242ac1c0002row11_col6\" class=\"data row11 col6\" >0.1134</td>\n",
              "            </tr>\n",
              "            <tr>\n",
              "                        <th id=\"T_24125874_7113_11ea_a390_0242ac1c0002level0_row12\" class=\"row_heading level0 row12\" >12</th>\n",
              "                        <td id=\"T_24125874_7113_11ea_a390_0242ac1c0002row12_col0\" class=\"data row12 col0\" >Decision Tree Classifier</td>\n",
              "                        <td id=\"T_24125874_7113_11ea_a390_0242ac1c0002row12_col1\" class=\"data row12 col1\" >0.7294</td>\n",
              "                        <td id=\"T_24125874_7113_11ea_a390_0242ac1c0002row12_col2\" class=\"data row12 col2\" >0.6197</td>\n",
              "                        <td id=\"T_24125874_7113_11ea_a390_0242ac1c0002row12_col3\" class=\"data row12 col3\" >0.4221</td>\n",
              "                        <td id=\"T_24125874_7113_11ea_a390_0242ac1c0002row12_col4\" class=\"data row12 col4\" >0.3953</td>\n",
              "                        <td id=\"T_24125874_7113_11ea_a390_0242ac1c0002row12_col5\" class=\"data row12 col5\" >0.4081</td>\n",
              "                        <td id=\"T_24125874_7113_11ea_a390_0242ac1c0002row12_col6\" class=\"data row12 col6\" >0.233</td>\n",
              "            </tr>\n",
              "            <tr>\n",
              "                        <th id=\"T_24125874_7113_11ea_a390_0242ac1c0002level0_row13\" class=\"row_heading level0 row13\" >13</th>\n",
              "                        <td id=\"T_24125874_7113_11ea_a390_0242ac1c0002row13_col0\" class=\"data row13 col0\" >SVM - Linear Kernel</td>\n",
              "                        <td id=\"T_24125874_7113_11ea_a390_0242ac1c0002row13_col1\" class=\"data row13 col1\" >0.653</td>\n",
              "                        <td id=\"T_24125874_7113_11ea_a390_0242ac1c0002row13_col2\" class=\"data row13 col2\" >0</td>\n",
              "                        <td id=\"T_24125874_7113_11ea_a390_0242ac1c0002row13_col3\" class=\"data row13 col3\" >0.2547</td>\n",
              "                        <td id=\"T_24125874_7113_11ea_a390_0242ac1c0002row13_col4\" class=\"data row13 col4\" >0.1056</td>\n",
              "                        <td id=\"T_24125874_7113_11ea_a390_0242ac1c0002row13_col5\" class=\"data row13 col5\" >0.112</td>\n",
              "                        <td id=\"T_24125874_7113_11ea_a390_0242ac1c0002row13_col6\" class=\"data row13 col6\" >0.0121</td>\n",
              "            </tr>\n",
              "            <tr>\n",
              "                        <th id=\"T_24125874_7113_11ea_a390_0242ac1c0002level0_row14\" class=\"row_heading level0 row14\" >14</th>\n",
              "                        <td id=\"T_24125874_7113_11ea_a390_0242ac1c0002row14_col0\" class=\"data row14 col0\" >Naive Bayes</td>\n",
              "                        <td id=\"T_24125874_7113_11ea_a390_0242ac1c0002row14_col1\" class=\"data row14 col1\" >0.3651</td>\n",
              "                        <td id=\"T_24125874_7113_11ea_a390_0242ac1c0002row14_col2\" class=\"data row14 col2\" >0.6457</td>\n",
              "                        <td id=\"T_24125874_7113_11ea_a390_0242ac1c0002row14_col3\" class=\"data row14 col3\" >0.902</td>\n",
              "                        <td id=\"T_24125874_7113_11ea_a390_0242ac1c0002row14_col4\" class=\"data row14 col4\" >0.2455</td>\n",
              "                        <td id=\"T_24125874_7113_11ea_a390_0242ac1c0002row14_col5\" class=\"data row14 col5\" >0.3859</td>\n",
              "                        <td id=\"T_24125874_7113_11ea_a390_0242ac1c0002row14_col6\" class=\"data row14 col6\" >0.0585</td>\n",
              "            </tr>\n",
              "    </tbody></table>"
            ],
            "text/plain": [
              "<pandas.io.formats.style.Styler at 0x7fcbc2d54b38>"
            ]
          },
          "metadata": {
            "tags": []
          },
          "execution_count": 6
        }
      ]
    },
    {
      "cell_type": "markdown",
      "metadata": {
        "colab_type": "text",
        "id": "nZAUhQGLEQoz"
      },
      "source": [
        "Two simple words of code ***(not even a line)*** have created over 15 models using 10 fold stratified cross validation and evaluated the 6 most commonly used classification metrics (Accuracy, AUC, Recall, Precision, F1, Kappa). The score grid printed above highlights the highest performing metric for comparison purposes only. The grid by default is sorted using 'Accuracy' (highest to lowest) which can be changed by passing the `sort` parameter. For example `compare_models(sort = 'Recall')` will sort the grid by Recall instead of Accuracy. If you want to change the fold parameter from the default value of `10` to a different value then you can use the `fold` parameter. For example `compare_models(fold = 5)` will compare all models on 5 fold cross validation. Reducing the number of folds will improve the training time."
      ]
    },
    {
      "cell_type": "markdown",
      "metadata": {
        "colab_type": "text",
        "id": "P5m2pciOEQo4"
      },
      "source": [
        "# 8.0 Create a Model"
      ]
    },
    {
      "cell_type": "markdown",
      "metadata": {
        "colab_type": "text",
        "id": "u_6cIilfEQo7"
      },
      "source": [
        "While `compare_models()` is a powerful function and often a starting point in any experiment, it does not return any trained models. PyCaret's recommended experiment workflow is to use `compare_models()` right after setup to evaluate top performing models and finalize a few candidates for continued experimentation. As such, the function that actually allows to you create a model is unimaginatively called `create_model()`. This function creates a model and scores it using stratified cross validation. Similar to `compare_models()`, the output prints a score grid that shows Accuracy, AUC, Recall, Precision, F1 and Kappa by fold. \n",
        "\n",
        "For the remaining part of this tutorial, we will work with the below models as our candidate models. The selections are for illustration purposes only and do not necessarily mean they are the top performing or ideal for this type of data.\n",
        "\n",
        "- Decision Tree Classifier ('dt')\n",
        "- K Neighbors Classifier ('knn')\n",
        "- Random Forest Classifier ('rf')\n",
        "\n",
        "There are 18 classifiers available in the model library of PyCaret. Please view the `create_model()` docstring for the list of all available models."
      ]
    },
    {
      "cell_type": "markdown",
      "metadata": {
        "colab_type": "text",
        "id": "UWMSeyNhEQo-"
      },
      "source": [
        "### 8.1 Decision Tree Classifier"
      ]
    },
    {
      "cell_type": "code",
      "metadata": {
        "colab_type": "code",
        "id": "LP896uSIEQpD",
        "outputId": "3849bf22-3c18-49dd-ebc4-888835027a96",
        "colab": {
          "base_uri": "https://localhost:8080/",
          "height": 402
        }
      },
      "source": [
        "dt = create_model('dt')"
      ],
      "execution_count": 0,
      "outputs": [
        {
          "output_type": "display_data",
          "data": {
            "text/html": [
              "<div>\n",
              "<style scoped>\n",
              "    .dataframe tbody tr th:only-of-type {\n",
              "        vertical-align: middle;\n",
              "    }\n",
              "\n",
              "    .dataframe tbody tr th {\n",
              "        vertical-align: top;\n",
              "    }\n",
              "\n",
              "    .dataframe thead th {\n",
              "        text-align: right;\n",
              "    }\n",
              "</style>\n",
              "<table border=\"1\" class=\"dataframe\">\n",
              "  <thead>\n",
              "    <tr style=\"text-align: right;\">\n",
              "      <th></th>\n",
              "      <th>Accuracy</th>\n",
              "      <th>AUC</th>\n",
              "      <th>Recall</th>\n",
              "      <th>Prec.</th>\n",
              "      <th>F1</th>\n",
              "      <th>Kappa</th>\n",
              "    </tr>\n",
              "  </thead>\n",
              "  <tbody>\n",
              "    <tr>\n",
              "      <th>0</th>\n",
              "      <td>0.7325</td>\n",
              "      <td>0.6213</td>\n",
              "      <td>0.4221</td>\n",
              "      <td>0.4005</td>\n",
              "      <td>0.4110</td>\n",
              "      <td>0.2381</td>\n",
              "    </tr>\n",
              "    <tr>\n",
              "      <th>1</th>\n",
              "      <td>0.7237</td>\n",
              "      <td>0.6199</td>\n",
              "      <td>0.4306</td>\n",
              "      <td>0.3878</td>\n",
              "      <td>0.4081</td>\n",
              "      <td>0.2285</td>\n",
              "    </tr>\n",
              "    <tr>\n",
              "      <th>2</th>\n",
              "      <td>0.7400</td>\n",
              "      <td>0.6361</td>\n",
              "      <td>0.4504</td>\n",
              "      <td>0.4184</td>\n",
              "      <td>0.4338</td>\n",
              "      <td>0.2654</td>\n",
              "    </tr>\n",
              "    <tr>\n",
              "      <th>3</th>\n",
              "      <td>0.7155</td>\n",
              "      <td>0.5984</td>\n",
              "      <td>0.3853</td>\n",
              "      <td>0.3646</td>\n",
              "      <td>0.3747</td>\n",
              "      <td>0.1907</td>\n",
              "    </tr>\n",
              "    <tr>\n",
              "      <th>4</th>\n",
              "      <td>0.7375</td>\n",
              "      <td>0.6175</td>\n",
              "      <td>0.4023</td>\n",
              "      <td>0.4057</td>\n",
              "      <td>0.4040</td>\n",
              "      <td>0.2356</td>\n",
              "    </tr>\n",
              "    <tr>\n",
              "      <th>5</th>\n",
              "      <td>0.7356</td>\n",
              "      <td>0.6376</td>\n",
              "      <td>0.4618</td>\n",
              "      <td>0.4127</td>\n",
              "      <td>0.4358</td>\n",
              "      <td>0.2639</td>\n",
              "    </tr>\n",
              "    <tr>\n",
              "      <th>6</th>\n",
              "      <td>0.7237</td>\n",
              "      <td>0.6210</td>\n",
              "      <td>0.4363</td>\n",
              "      <td>0.3889</td>\n",
              "      <td>0.4112</td>\n",
              "      <td>0.2315</td>\n",
              "    </tr>\n",
              "    <tr>\n",
              "      <th>7</th>\n",
              "      <td>0.7387</td>\n",
              "      <td>0.6365</td>\n",
              "      <td>0.4533</td>\n",
              "      <td>0.4167</td>\n",
              "      <td>0.4342</td>\n",
              "      <td>0.2647</td>\n",
              "    </tr>\n",
              "    <tr>\n",
              "      <th>8</th>\n",
              "      <td>0.7262</td>\n",
              "      <td>0.6062</td>\n",
              "      <td>0.3909</td>\n",
              "      <td>0.3833</td>\n",
              "      <td>0.3871</td>\n",
              "      <td>0.2108</td>\n",
              "    </tr>\n",
              "    <tr>\n",
              "      <th>9</th>\n",
              "      <td>0.7210</td>\n",
              "      <td>0.6030</td>\n",
              "      <td>0.3881</td>\n",
              "      <td>0.3743</td>\n",
              "      <td>0.3811</td>\n",
              "      <td>0.2011</td>\n",
              "    </tr>\n",
              "    <tr>\n",
              "      <th>Mean</th>\n",
              "      <td>0.7294</td>\n",
              "      <td>0.6197</td>\n",
              "      <td>0.4221</td>\n",
              "      <td>0.3953</td>\n",
              "      <td>0.4081</td>\n",
              "      <td>0.2330</td>\n",
              "    </tr>\n",
              "    <tr>\n",
              "      <th>SD</th>\n",
              "      <td>0.0081</td>\n",
              "      <td>0.0134</td>\n",
              "      <td>0.0274</td>\n",
              "      <td>0.0175</td>\n",
              "      <td>0.0211</td>\n",
              "      <td>0.0252</td>\n",
              "    </tr>\n",
              "  </tbody>\n",
              "</table>\n",
              "</div>"
            ],
            "text/plain": [
              "      Accuracy     AUC  Recall   Prec.      F1   Kappa\n",
              "0       0.7325  0.6213  0.4221  0.4005  0.4110  0.2381\n",
              "1       0.7237  0.6199  0.4306  0.3878  0.4081  0.2285\n",
              "2       0.7400  0.6361  0.4504  0.4184  0.4338  0.2654\n",
              "3       0.7155  0.5984  0.3853  0.3646  0.3747  0.1907\n",
              "4       0.7375  0.6175  0.4023  0.4057  0.4040  0.2356\n",
              "5       0.7356  0.6376  0.4618  0.4127  0.4358  0.2639\n",
              "6       0.7237  0.6210  0.4363  0.3889  0.4112  0.2315\n",
              "7       0.7387  0.6365  0.4533  0.4167  0.4342  0.2647\n",
              "8       0.7262  0.6062  0.3909  0.3833  0.3871  0.2108\n",
              "9       0.7210  0.6030  0.3881  0.3743  0.3811  0.2011\n",
              "Mean    0.7294  0.6197  0.4221  0.3953  0.4081  0.2330\n",
              "SD      0.0081  0.0134  0.0274  0.0175  0.0211  0.0252"
            ]
          },
          "metadata": {
            "tags": []
          }
        }
      ]
    },
    {
      "cell_type": "code",
      "metadata": {
        "colab_type": "code",
        "id": "FRat05yGEQpQ",
        "outputId": "18cb45a5-5617-48dc-fba0-91dfbc7e5e5a",
        "colab": {
          "base_uri": "https://localhost:8080/",
          "height": 118
        }
      },
      "source": [
        "#trained model object is stored in the variable 'dt'. \n",
        "print(dt)"
      ],
      "execution_count": 0,
      "outputs": [
        {
          "output_type": "stream",
          "text": [
            "DecisionTreeClassifier(ccp_alpha=0.0, class_weight=None, criterion='gini',\n",
            "                       max_depth=None, max_features=None, max_leaf_nodes=None,\n",
            "                       min_impurity_decrease=0.0, min_impurity_split=None,\n",
            "                       min_samples_leaf=1, min_samples_split=2,\n",
            "                       min_weight_fraction_leaf=0.0, presort='deprecated',\n",
            "                       random_state=123, splitter='best')\n"
          ],
          "name": "stdout"
        }
      ]
    },
    {
      "cell_type": "markdown",
      "metadata": {
        "colab_type": "text",
        "id": "rWUojqBCEQpb"
      },
      "source": [
        "### 8.2 K Neighbors Classifier"
      ]
    },
    {
      "cell_type": "code",
      "metadata": {
        "colab_type": "code",
        "id": "2uonD20gEQpe",
        "outputId": "8496a803-5b64-4ed6-c2f5-1d9fb3cb4af9",
        "colab": {
          "base_uri": "https://localhost:8080/",
          "height": 402
        }
      },
      "source": [
        "knn = create_model('knn')"
      ],
      "execution_count": 0,
      "outputs": [
        {
          "output_type": "display_data",
          "data": {
            "text/html": [
              "<div>\n",
              "<style scoped>\n",
              "    .dataframe tbody tr th:only-of-type {\n",
              "        vertical-align: middle;\n",
              "    }\n",
              "\n",
              "    .dataframe tbody tr th {\n",
              "        vertical-align: top;\n",
              "    }\n",
              "\n",
              "    .dataframe thead th {\n",
              "        text-align: right;\n",
              "    }\n",
              "</style>\n",
              "<table border=\"1\" class=\"dataframe\">\n",
              "  <thead>\n",
              "    <tr style=\"text-align: right;\">\n",
              "      <th></th>\n",
              "      <th>Accuracy</th>\n",
              "      <th>AUC</th>\n",
              "      <th>Recall</th>\n",
              "      <th>Prec.</th>\n",
              "      <th>F1</th>\n",
              "      <th>Kappa</th>\n",
              "    </tr>\n",
              "  </thead>\n",
              "  <tbody>\n",
              "    <tr>\n",
              "      <th>0</th>\n",
              "      <td>0.7406</td>\n",
              "      <td>0.5879</td>\n",
              "      <td>0.1671</td>\n",
              "      <td>0.3296</td>\n",
              "      <td>0.2218</td>\n",
              "      <td>0.0857</td>\n",
              "    </tr>\n",
              "    <tr>\n",
              "      <th>1</th>\n",
              "      <td>0.7350</td>\n",
              "      <td>0.5787</td>\n",
              "      <td>0.1473</td>\n",
              "      <td>0.2989</td>\n",
              "      <td>0.1973</td>\n",
              "      <td>0.0601</td>\n",
              "    </tr>\n",
              "    <tr>\n",
              "      <th>2</th>\n",
              "      <td>0.7632</td>\n",
              "      <td>0.6648</td>\n",
              "      <td>0.2096</td>\n",
              "      <td>0.4277</td>\n",
              "      <td>0.2814</td>\n",
              "      <td>0.1590</td>\n",
              "    </tr>\n",
              "    <tr>\n",
              "      <th>3</th>\n",
              "      <td>0.7462</td>\n",
              "      <td>0.5984</td>\n",
              "      <td>0.1530</td>\n",
              "      <td>0.3375</td>\n",
              "      <td>0.2105</td>\n",
              "      <td>0.0842</td>\n",
              "    </tr>\n",
              "    <tr>\n",
              "      <th>4</th>\n",
              "      <td>0.7550</td>\n",
              "      <td>0.6098</td>\n",
              "      <td>0.2040</td>\n",
              "      <td>0.3956</td>\n",
              "      <td>0.2692</td>\n",
              "      <td>0.1397</td>\n",
              "    </tr>\n",
              "    <tr>\n",
              "      <th>5</th>\n",
              "      <td>0.7613</td>\n",
              "      <td>0.6203</td>\n",
              "      <td>0.1870</td>\n",
              "      <td>0.4125</td>\n",
              "      <td>0.2573</td>\n",
              "      <td>0.1384</td>\n",
              "    </tr>\n",
              "    <tr>\n",
              "      <th>6</th>\n",
              "      <td>0.7412</td>\n",
              "      <td>0.5883</td>\n",
              "      <td>0.1671</td>\n",
              "      <td>0.3315</td>\n",
              "      <td>0.2222</td>\n",
              "      <td>0.0868</td>\n",
              "    </tr>\n",
              "    <tr>\n",
              "      <th>7</th>\n",
              "      <td>0.7594</td>\n",
              "      <td>0.6139</td>\n",
              "      <td>0.1898</td>\n",
              "      <td>0.4061</td>\n",
              "      <td>0.2587</td>\n",
              "      <td>0.1371</td>\n",
              "    </tr>\n",
              "    <tr>\n",
              "      <th>8</th>\n",
              "      <td>0.7487</td>\n",
              "      <td>0.6100</td>\n",
              "      <td>0.1898</td>\n",
              "      <td>0.3681</td>\n",
              "      <td>0.2505</td>\n",
              "      <td>0.1177</td>\n",
              "    </tr>\n",
              "    <tr>\n",
              "      <th>9</th>\n",
              "      <td>0.7542</td>\n",
              "      <td>0.6264</td>\n",
              "      <td>0.1870</td>\n",
              "      <td>0.3860</td>\n",
              "      <td>0.2519</td>\n",
              "      <td>0.1256</td>\n",
              "    </tr>\n",
              "    <tr>\n",
              "      <th>Mean</th>\n",
              "      <td>0.7505</td>\n",
              "      <td>0.6099</td>\n",
              "      <td>0.1802</td>\n",
              "      <td>0.3693</td>\n",
              "      <td>0.2421</td>\n",
              "      <td>0.1134</td>\n",
              "    </tr>\n",
              "    <tr>\n",
              "      <th>SD</th>\n",
              "      <td>0.0091</td>\n",
              "      <td>0.0234</td>\n",
              "      <td>0.0197</td>\n",
              "      <td>0.0407</td>\n",
              "      <td>0.0260</td>\n",
              "      <td>0.0305</td>\n",
              "    </tr>\n",
              "  </tbody>\n",
              "</table>\n",
              "</div>"
            ],
            "text/plain": [
              "      Accuracy     AUC  Recall   Prec.      F1   Kappa\n",
              "0       0.7406  0.5879  0.1671  0.3296  0.2218  0.0857\n",
              "1       0.7350  0.5787  0.1473  0.2989  0.1973  0.0601\n",
              "2       0.7632  0.6648  0.2096  0.4277  0.2814  0.1590\n",
              "3       0.7462  0.5984  0.1530  0.3375  0.2105  0.0842\n",
              "4       0.7550  0.6098  0.2040  0.3956  0.2692  0.1397\n",
              "5       0.7613  0.6203  0.1870  0.4125  0.2573  0.1384\n",
              "6       0.7412  0.5883  0.1671  0.3315  0.2222  0.0868\n",
              "7       0.7594  0.6139  0.1898  0.4061  0.2587  0.1371\n",
              "8       0.7487  0.6100  0.1898  0.3681  0.2505  0.1177\n",
              "9       0.7542  0.6264  0.1870  0.3860  0.2519  0.1256\n",
              "Mean    0.7505  0.6099  0.1802  0.3693  0.2421  0.1134\n",
              "SD      0.0091  0.0234  0.0197  0.0407  0.0260  0.0305"
            ]
          },
          "metadata": {
            "tags": []
          }
        }
      ]
    },
    {
      "cell_type": "markdown",
      "metadata": {
        "colab_type": "text",
        "id": "nSg3OUjuEQpu"
      },
      "source": [
        "### 8.3 Random Forest Classifier"
      ]
    },
    {
      "cell_type": "code",
      "metadata": {
        "colab_type": "code",
        "id": "FGCoUiQpEQpz",
        "outputId": "c24b0fe2-7c43-4367-95ad-570aa3bb6744",
        "colab": {
          "base_uri": "https://localhost:8080/",
          "height": 402
        }
      },
      "source": [
        "rf = create_model('rf')"
      ],
      "execution_count": 0,
      "outputs": [
        {
          "output_type": "display_data",
          "data": {
            "text/html": [
              "<div>\n",
              "<style scoped>\n",
              "    .dataframe tbody tr th:only-of-type {\n",
              "        vertical-align: middle;\n",
              "    }\n",
              "\n",
              "    .dataframe tbody tr th {\n",
              "        vertical-align: top;\n",
              "    }\n",
              "\n",
              "    .dataframe thead th {\n",
              "        text-align: right;\n",
              "    }\n",
              "</style>\n",
              "<table border=\"1\" class=\"dataframe\">\n",
              "  <thead>\n",
              "    <tr style=\"text-align: right;\">\n",
              "      <th></th>\n",
              "      <th>Accuracy</th>\n",
              "      <th>AUC</th>\n",
              "      <th>Recall</th>\n",
              "      <th>Prec.</th>\n",
              "      <th>F1</th>\n",
              "      <th>Kappa</th>\n",
              "    </tr>\n",
              "  </thead>\n",
              "  <tbody>\n",
              "    <tr>\n",
              "      <th>0</th>\n",
              "      <td>0.8064</td>\n",
              "      <td>0.7435</td>\n",
              "      <td>0.3229</td>\n",
              "      <td>0.6196</td>\n",
              "      <td>0.4246</td>\n",
              "      <td>0.3218</td>\n",
              "    </tr>\n",
              "    <tr>\n",
              "      <th>1</th>\n",
              "      <td>0.8076</td>\n",
              "      <td>0.7488</td>\n",
              "      <td>0.3314</td>\n",
              "      <td>0.6223</td>\n",
              "      <td>0.4325</td>\n",
              "      <td>0.3295</td>\n",
              "    </tr>\n",
              "    <tr>\n",
              "      <th>2</th>\n",
              "      <td>0.8170</td>\n",
              "      <td>0.7576</td>\n",
              "      <td>0.3683</td>\n",
              "      <td>0.6533</td>\n",
              "      <td>0.4710</td>\n",
              "      <td>0.3707</td>\n",
              "    </tr>\n",
              "    <tr>\n",
              "      <th>3</th>\n",
              "      <td>0.8139</td>\n",
              "      <td>0.7175</td>\n",
              "      <td>0.3513</td>\n",
              "      <td>0.6458</td>\n",
              "      <td>0.4550</td>\n",
              "      <td>0.3544</td>\n",
              "    </tr>\n",
              "    <tr>\n",
              "      <th>4</th>\n",
              "      <td>0.8026</td>\n",
              "      <td>0.7199</td>\n",
              "      <td>0.2890</td>\n",
              "      <td>0.6145</td>\n",
              "      <td>0.3931</td>\n",
              "      <td>0.2930</td>\n",
              "    </tr>\n",
              "    <tr>\n",
              "      <th>5</th>\n",
              "      <td>0.8114</td>\n",
              "      <td>0.7446</td>\n",
              "      <td>0.3569</td>\n",
              "      <td>0.6300</td>\n",
              "      <td>0.4557</td>\n",
              "      <td>0.3520</td>\n",
              "    </tr>\n",
              "    <tr>\n",
              "      <th>6</th>\n",
              "      <td>0.8008</td>\n",
              "      <td>0.7286</td>\n",
              "      <td>0.3258</td>\n",
              "      <td>0.5897</td>\n",
              "      <td>0.4197</td>\n",
              "      <td>0.3113</td>\n",
              "    </tr>\n",
              "    <tr>\n",
              "      <th>7</th>\n",
              "      <td>0.8070</td>\n",
              "      <td>0.7502</td>\n",
              "      <td>0.3144</td>\n",
              "      <td>0.6271</td>\n",
              "      <td>0.4189</td>\n",
              "      <td>0.3181</td>\n",
              "    </tr>\n",
              "    <tr>\n",
              "      <th>8</th>\n",
              "      <td>0.8114</td>\n",
              "      <td>0.7262</td>\n",
              "      <td>0.3371</td>\n",
              "      <td>0.6398</td>\n",
              "      <td>0.4416</td>\n",
              "      <td>0.3410</td>\n",
              "    </tr>\n",
              "    <tr>\n",
              "      <th>9</th>\n",
              "      <td>0.8063</td>\n",
              "      <td>0.7428</td>\n",
              "      <td>0.3399</td>\n",
              "      <td>0.6122</td>\n",
              "      <td>0.4372</td>\n",
              "      <td>0.3315</td>\n",
              "    </tr>\n",
              "    <tr>\n",
              "      <th>Mean</th>\n",
              "      <td>0.8084</td>\n",
              "      <td>0.7380</td>\n",
              "      <td>0.3337</td>\n",
              "      <td>0.6254</td>\n",
              "      <td>0.4349</td>\n",
              "      <td>0.3323</td>\n",
              "    </tr>\n",
              "    <tr>\n",
              "      <th>SD</th>\n",
              "      <td>0.0048</td>\n",
              "      <td>0.0131</td>\n",
              "      <td>0.0216</td>\n",
              "      <td>0.0174</td>\n",
              "      <td>0.0213</td>\n",
              "      <td>0.0217</td>\n",
              "    </tr>\n",
              "  </tbody>\n",
              "</table>\n",
              "</div>"
            ],
            "text/plain": [
              "      Accuracy     AUC  Recall   Prec.      F1   Kappa\n",
              "0       0.8064  0.7435  0.3229  0.6196  0.4246  0.3218\n",
              "1       0.8076  0.7488  0.3314  0.6223  0.4325  0.3295\n",
              "2       0.8170  0.7576  0.3683  0.6533  0.4710  0.3707\n",
              "3       0.8139  0.7175  0.3513  0.6458  0.4550  0.3544\n",
              "4       0.8026  0.7199  0.2890  0.6145  0.3931  0.2930\n",
              "5       0.8114  0.7446  0.3569  0.6300  0.4557  0.3520\n",
              "6       0.8008  0.7286  0.3258  0.5897  0.4197  0.3113\n",
              "7       0.8070  0.7502  0.3144  0.6271  0.4189  0.3181\n",
              "8       0.8114  0.7262  0.3371  0.6398  0.4416  0.3410\n",
              "9       0.8063  0.7428  0.3399  0.6122  0.4372  0.3315\n",
              "Mean    0.8084  0.7380  0.3337  0.6254  0.4349  0.3323\n",
              "SD      0.0048  0.0131  0.0216  0.0174  0.0213  0.0217"
            ]
          },
          "metadata": {
            "tags": []
          }
        }
      ]
    },
    {
      "cell_type": "markdown",
      "metadata": {
        "colab_type": "text",
        "id": "z6F3Fk7TEQp8"
      },
      "source": [
        "Notice that the mean score of all models matches with the score printed in `compare_models()`. This is because the metrics printed in the `compare_models()` score grid are the average scores across all CV folds. Similar to `compare_models()`, if you want to change the fold parameter from the default value of 10 to a different value then you can use the `fold` parameter. For Example: `create_model('dt', fold = 5)` will create a Decision Tree Classifier using 5 fold stratified CV."
      ]
    },
    {
      "cell_type": "markdown",
      "metadata": {
        "colab_type": "text",
        "id": "XvpjzbGQEQqB"
      },
      "source": [
        "# 9.0 Tune a Model"
      ]
    },
    {
      "cell_type": "markdown",
      "metadata": {
        "colab_type": "text",
        "id": "nc_GgksHEQqE"
      },
      "source": [
        "When a model is created using the `create_model()` function it uses the default hyperparameters. In order to tune hyperparameters, the `tune_model()` function is used. This function automatically tunes the hyperparameters of a model on a pre-defined search space and scores it using stratified cross validation. The output prints a score grid that shows Accuracy, AUC, Recall, Precision, F1 and Kappa by fold. <br/>\n",
        "<br/>\n",
        "**Note:** `tune_model()` does not take a trained model object as an input. It instead requires a model name to be passed as an abbreviated string similar to how it is passed in `create_model()`. All other functions in `pycaret.classification` require a trained model object as an argument."
      ]
    },
    {
      "cell_type": "markdown",
      "metadata": {
        "colab_type": "text",
        "id": "BQlMCxrUEQqG"
      },
      "source": [
        "### 9.1 Decision Tree Classifier"
      ]
    },
    {
      "cell_type": "code",
      "metadata": {
        "colab_type": "code",
        "id": "of46aj6vEQqJ",
        "outputId": "46759c6f-b3ad-486b-db0c-9652ad5cca52",
        "colab": {
          "base_uri": "https://localhost:8080/",
          "height": 402
        }
      },
      "source": [
        "tuned_dt = tune_model('dt')"
      ],
      "execution_count": 0,
      "outputs": [
        {
          "output_type": "display_data",
          "data": {
            "text/html": [
              "<div>\n",
              "<style scoped>\n",
              "    .dataframe tbody tr th:only-of-type {\n",
              "        vertical-align: middle;\n",
              "    }\n",
              "\n",
              "    .dataframe tbody tr th {\n",
              "        vertical-align: top;\n",
              "    }\n",
              "\n",
              "    .dataframe thead th {\n",
              "        text-align: right;\n",
              "    }\n",
              "</style>\n",
              "<table border=\"1\" class=\"dataframe\">\n",
              "  <thead>\n",
              "    <tr style=\"text-align: right;\">\n",
              "      <th></th>\n",
              "      <th>Accuracy</th>\n",
              "      <th>AUC</th>\n",
              "      <th>Recall</th>\n",
              "      <th>Prec.</th>\n",
              "      <th>F1</th>\n",
              "      <th>Kappa</th>\n",
              "    </tr>\n",
              "  </thead>\n",
              "  <tbody>\n",
              "    <tr>\n",
              "      <th>0</th>\n",
              "      <td>0.8264</td>\n",
              "      <td>0.7219</td>\n",
              "      <td>0.3201</td>\n",
              "      <td>0.7533</td>\n",
              "      <td>0.4493</td>\n",
              "      <td>0.3656</td>\n",
              "    </tr>\n",
              "    <tr>\n",
              "      <th>1</th>\n",
              "      <td>0.8239</td>\n",
              "      <td>0.7259</td>\n",
              "      <td>0.3059</td>\n",
              "      <td>0.7500</td>\n",
              "      <td>0.4346</td>\n",
              "      <td>0.3515</td>\n",
              "    </tr>\n",
              "    <tr>\n",
              "      <th>2</th>\n",
              "      <td>0.8158</td>\n",
              "      <td>0.7548</td>\n",
              "      <td>0.2946</td>\n",
              "      <td>0.6980</td>\n",
              "      <td>0.4143</td>\n",
              "      <td>0.3258</td>\n",
              "    </tr>\n",
              "    <tr>\n",
              "      <th>3</th>\n",
              "      <td>0.8208</td>\n",
              "      <td>0.7171</td>\n",
              "      <td>0.3173</td>\n",
              "      <td>0.7134</td>\n",
              "      <td>0.4392</td>\n",
              "      <td>0.3508</td>\n",
              "    </tr>\n",
              "    <tr>\n",
              "      <th>4</th>\n",
              "      <td>0.8133</td>\n",
              "      <td>0.7178</td>\n",
              "      <td>0.3173</td>\n",
              "      <td>0.6627</td>\n",
              "      <td>0.4291</td>\n",
              "      <td>0.3337</td>\n",
              "    </tr>\n",
              "    <tr>\n",
              "      <th>5</th>\n",
              "      <td>0.8239</td>\n",
              "      <td>0.7359</td>\n",
              "      <td>0.3003</td>\n",
              "      <td>0.7571</td>\n",
              "      <td>0.4300</td>\n",
              "      <td>0.3481</td>\n",
              "    </tr>\n",
              "    <tr>\n",
              "      <th>6</th>\n",
              "      <td>0.8164</td>\n",
              "      <td>0.7197</td>\n",
              "      <td>0.2975</td>\n",
              "      <td>0.7000</td>\n",
              "      <td>0.4175</td>\n",
              "      <td>0.3290</td>\n",
              "    </tr>\n",
              "    <tr>\n",
              "      <th>7</th>\n",
              "      <td>0.8264</td>\n",
              "      <td>0.7408</td>\n",
              "      <td>0.3031</td>\n",
              "      <td>0.7754</td>\n",
              "      <td>0.4358</td>\n",
              "      <td>0.3557</td>\n",
              "    </tr>\n",
              "    <tr>\n",
              "      <th>8</th>\n",
              "      <td>0.8214</td>\n",
              "      <td>0.7158</td>\n",
              "      <td>0.3003</td>\n",
              "      <td>0.7361</td>\n",
              "      <td>0.4266</td>\n",
              "      <td>0.3423</td>\n",
              "    </tr>\n",
              "    <tr>\n",
              "      <th>9</th>\n",
              "      <td>0.8107</td>\n",
              "      <td>0.7322</td>\n",
              "      <td>0.3003</td>\n",
              "      <td>0.6584</td>\n",
              "      <td>0.4125</td>\n",
              "      <td>0.3179</td>\n",
              "    </tr>\n",
              "    <tr>\n",
              "      <th>Mean</th>\n",
              "      <td>0.8199</td>\n",
              "      <td>0.7282</td>\n",
              "      <td>0.3057</td>\n",
              "      <td>0.7204</td>\n",
              "      <td>0.4289</td>\n",
              "      <td>0.3420</td>\n",
              "    </tr>\n",
              "    <tr>\n",
              "      <th>SD</th>\n",
              "      <td>0.0053</td>\n",
              "      <td>0.0120</td>\n",
              "      <td>0.0087</td>\n",
              "      <td>0.0384</td>\n",
              "      <td>0.0111</td>\n",
              "      <td>0.0143</td>\n",
              "    </tr>\n",
              "  </tbody>\n",
              "</table>\n",
              "</div>"
            ],
            "text/plain": [
              "      Accuracy     AUC  Recall   Prec.      F1   Kappa\n",
              "0       0.8264  0.7219  0.3201  0.7533  0.4493  0.3656\n",
              "1       0.8239  0.7259  0.3059  0.7500  0.4346  0.3515\n",
              "2       0.8158  0.7548  0.2946  0.6980  0.4143  0.3258\n",
              "3       0.8208  0.7171  0.3173  0.7134  0.4392  0.3508\n",
              "4       0.8133  0.7178  0.3173  0.6627  0.4291  0.3337\n",
              "5       0.8239  0.7359  0.3003  0.7571  0.4300  0.3481\n",
              "6       0.8164  0.7197  0.2975  0.7000  0.4175  0.3290\n",
              "7       0.8264  0.7408  0.3031  0.7754  0.4358  0.3557\n",
              "8       0.8214  0.7158  0.3003  0.7361  0.4266  0.3423\n",
              "9       0.8107  0.7322  0.3003  0.6584  0.4125  0.3179\n",
              "Mean    0.8199  0.7282  0.3057  0.7204  0.4289  0.3420\n",
              "SD      0.0053  0.0120  0.0087  0.0384  0.0111  0.0143"
            ]
          },
          "metadata": {
            "tags": []
          }
        }
      ]
    },
    {
      "cell_type": "code",
      "metadata": {
        "colab_type": "code",
        "id": "__anDkttEQqV",
        "outputId": "e87f69c6-8ef7-40d4-e9ae-a4353e60e9b6",
        "colab": {
          "base_uri": "https://localhost:8080/",
          "height": 118
        }
      },
      "source": [
        "#tuned model object is stored in the variable 'tuned_dt'. \n",
        "print(tuned_dt)"
      ],
      "execution_count": 0,
      "outputs": [
        {
          "output_type": "stream",
          "text": [
            "DecisionTreeClassifier(ccp_alpha=0.0, class_weight=None, criterion='gini',\n",
            "                       max_depth=3, max_features=78, max_leaf_nodes=None,\n",
            "                       min_impurity_decrease=0.0, min_impurity_split=None,\n",
            "                       min_samples_leaf=3, min_samples_split=2,\n",
            "                       min_weight_fraction_leaf=0.0, presort='deprecated',\n",
            "                       random_state=123, splitter='best')\n"
          ],
          "name": "stdout"
        }
      ]
    },
    {
      "cell_type": "markdown",
      "metadata": {
        "colab_type": "text",
        "id": "CD-f0delEQqq"
      },
      "source": [
        "### 9.2 K Neighbors Classifier"
      ]
    },
    {
      "cell_type": "code",
      "metadata": {
        "colab_type": "code",
        "id": "xN1nYwFXEQqv",
        "outputId": "2ff289a7-3c5e-49de-a89f-1f356bf5061c",
        "colab": {
          "base_uri": "https://localhost:8080/",
          "height": 402
        }
      },
      "source": [
        "tuned_knn = tune_model('knn')"
      ],
      "execution_count": 0,
      "outputs": [
        {
          "output_type": "display_data",
          "data": {
            "text/html": [
              "<div>\n",
              "<style scoped>\n",
              "    .dataframe tbody tr th:only-of-type {\n",
              "        vertical-align: middle;\n",
              "    }\n",
              "\n",
              "    .dataframe tbody tr th {\n",
              "        vertical-align: top;\n",
              "    }\n",
              "\n",
              "    .dataframe thead th {\n",
              "        text-align: right;\n",
              "    }\n",
              "</style>\n",
              "<table border=\"1\" class=\"dataframe\">\n",
              "  <thead>\n",
              "    <tr style=\"text-align: right;\">\n",
              "      <th></th>\n",
              "      <th>Accuracy</th>\n",
              "      <th>AUC</th>\n",
              "      <th>Recall</th>\n",
              "      <th>Prec.</th>\n",
              "      <th>F1</th>\n",
              "      <th>Kappa</th>\n",
              "    </tr>\n",
              "  </thead>\n",
              "  <tbody>\n",
              "    <tr>\n",
              "      <th>0</th>\n",
              "      <td>0.7738</td>\n",
              "      <td>0.6494</td>\n",
              "      <td>0.0708</td>\n",
              "      <td>0.4310</td>\n",
              "      <td>0.1217</td>\n",
              "      <td>0.0632</td>\n",
              "    </tr>\n",
              "    <tr>\n",
              "      <th>1</th>\n",
              "      <td>0.7769</td>\n",
              "      <td>0.6662</td>\n",
              "      <td>0.0652</td>\n",
              "      <td>0.4694</td>\n",
              "      <td>0.1144</td>\n",
              "      <td>0.0640</td>\n",
              "    </tr>\n",
              "    <tr>\n",
              "      <th>2</th>\n",
              "      <td>0.7838</td>\n",
              "      <td>0.7061</td>\n",
              "      <td>0.1161</td>\n",
              "      <td>0.5541</td>\n",
              "      <td>0.1920</td>\n",
              "      <td>0.1250</td>\n",
              "    </tr>\n",
              "    <tr>\n",
              "      <th>3</th>\n",
              "      <td>0.7769</td>\n",
              "      <td>0.6407</td>\n",
              "      <td>0.0623</td>\n",
              "      <td>0.4681</td>\n",
              "      <td>0.1100</td>\n",
              "      <td>0.0612</td>\n",
              "    </tr>\n",
              "    <tr>\n",
              "      <th>4</th>\n",
              "      <td>0.7769</td>\n",
              "      <td>0.6507</td>\n",
              "      <td>0.0708</td>\n",
              "      <td>0.4717</td>\n",
              "      <td>0.1232</td>\n",
              "      <td>0.0694</td>\n",
              "    </tr>\n",
              "    <tr>\n",
              "      <th>5</th>\n",
              "      <td>0.7788</td>\n",
              "      <td>0.6858</td>\n",
              "      <td>0.0878</td>\n",
              "      <td>0.5000</td>\n",
              "      <td>0.1494</td>\n",
              "      <td>0.0892</td>\n",
              "    </tr>\n",
              "    <tr>\n",
              "      <th>6</th>\n",
              "      <td>0.7807</td>\n",
              "      <td>0.6516</td>\n",
              "      <td>0.0765</td>\n",
              "      <td>0.5294</td>\n",
              "      <td>0.1337</td>\n",
              "      <td>0.0824</td>\n",
              "    </tr>\n",
              "    <tr>\n",
              "      <th>7</th>\n",
              "      <td>0.7845</td>\n",
              "      <td>0.6591</td>\n",
              "      <td>0.0935</td>\n",
              "      <td>0.5789</td>\n",
              "      <td>0.1610</td>\n",
              "      <td>0.1060</td>\n",
              "    </tr>\n",
              "    <tr>\n",
              "      <th>8</th>\n",
              "      <td>0.7769</td>\n",
              "      <td>0.6565</td>\n",
              "      <td>0.0652</td>\n",
              "      <td>0.4694</td>\n",
              "      <td>0.1144</td>\n",
              "      <td>0.0640</td>\n",
              "    </tr>\n",
              "    <tr>\n",
              "      <th>9</th>\n",
              "      <td>0.7812</td>\n",
              "      <td>0.6807</td>\n",
              "      <td>0.0935</td>\n",
              "      <td>0.5323</td>\n",
              "      <td>0.1590</td>\n",
              "      <td>0.0995</td>\n",
              "    </tr>\n",
              "    <tr>\n",
              "      <th>Mean</th>\n",
              "      <td>0.7791</td>\n",
              "      <td>0.6647</td>\n",
              "      <td>0.0802</td>\n",
              "      <td>0.5004</td>\n",
              "      <td>0.1379</td>\n",
              "      <td>0.0824</td>\n",
              "    </tr>\n",
              "    <tr>\n",
              "      <th>SD</th>\n",
              "      <td>0.0032</td>\n",
              "      <td>0.0192</td>\n",
              "      <td>0.0163</td>\n",
              "      <td>0.0442</td>\n",
              "      <td>0.0253</td>\n",
              "      <td>0.0209</td>\n",
              "    </tr>\n",
              "  </tbody>\n",
              "</table>\n",
              "</div>"
            ],
            "text/plain": [
              "      Accuracy     AUC  Recall   Prec.      F1   Kappa\n",
              "0       0.7738  0.6494  0.0708  0.4310  0.1217  0.0632\n",
              "1       0.7769  0.6662  0.0652  0.4694  0.1144  0.0640\n",
              "2       0.7838  0.7061  0.1161  0.5541  0.1920  0.1250\n",
              "3       0.7769  0.6407  0.0623  0.4681  0.1100  0.0612\n",
              "4       0.7769  0.6507  0.0708  0.4717  0.1232  0.0694\n",
              "5       0.7788  0.6858  0.0878  0.5000  0.1494  0.0892\n",
              "6       0.7807  0.6516  0.0765  0.5294  0.1337  0.0824\n",
              "7       0.7845  0.6591  0.0935  0.5789  0.1610  0.1060\n",
              "8       0.7769  0.6565  0.0652  0.4694  0.1144  0.0640\n",
              "9       0.7812  0.6807  0.0935  0.5323  0.1590  0.0995\n",
              "Mean    0.7791  0.6647  0.0802  0.5004  0.1379  0.0824\n",
              "SD      0.0032  0.0192  0.0163  0.0442  0.0253  0.0209"
            ]
          },
          "metadata": {
            "tags": []
          }
        }
      ]
    },
    {
      "cell_type": "markdown",
      "metadata": {
        "colab_type": "text",
        "id": "KO3zIfs-EQrA"
      },
      "source": [
        "### 9.3 Random Forest Classifier"
      ]
    },
    {
      "cell_type": "code",
      "metadata": {
        "colab_type": "code",
        "id": "gmaIfnBMEQrE",
        "outputId": "5fdc4b31-34cb-4dce-c402-8a61012681e3",
        "colab": {
          "base_uri": "https://localhost:8080/",
          "height": 402
        }
      },
      "source": [
        "tuned_rf = tune_model('rf')"
      ],
      "execution_count": 0,
      "outputs": [
        {
          "output_type": "display_data",
          "data": {
            "text/html": [
              "<div>\n",
              "<style scoped>\n",
              "    .dataframe tbody tr th:only-of-type {\n",
              "        vertical-align: middle;\n",
              "    }\n",
              "\n",
              "    .dataframe tbody tr th {\n",
              "        vertical-align: top;\n",
              "    }\n",
              "\n",
              "    .dataframe thead th {\n",
              "        text-align: right;\n",
              "    }\n",
              "</style>\n",
              "<table border=\"1\" class=\"dataframe\">\n",
              "  <thead>\n",
              "    <tr style=\"text-align: right;\">\n",
              "      <th></th>\n",
              "      <th>Accuracy</th>\n",
              "      <th>AUC</th>\n",
              "      <th>Recall</th>\n",
              "      <th>Prec.</th>\n",
              "      <th>F1</th>\n",
              "      <th>Kappa</th>\n",
              "    </tr>\n",
              "  </thead>\n",
              "  <tbody>\n",
              "    <tr>\n",
              "      <th>0</th>\n",
              "      <td>0.8289</td>\n",
              "      <td>0.7871</td>\n",
              "      <td>0.3484</td>\n",
              "      <td>0.7410</td>\n",
              "      <td>0.4740</td>\n",
              "      <td>0.3873</td>\n",
              "    </tr>\n",
              "    <tr>\n",
              "      <th>1</th>\n",
              "      <td>0.8227</td>\n",
              "      <td>0.7990</td>\n",
              "      <td>0.3513</td>\n",
              "      <td>0.6966</td>\n",
              "      <td>0.4670</td>\n",
              "      <td>0.3743</td>\n",
              "    </tr>\n",
              "    <tr>\n",
              "      <th>2</th>\n",
              "      <td>0.8221</td>\n",
              "      <td>0.8251</td>\n",
              "      <td>0.3824</td>\n",
              "      <td>0.6716</td>\n",
              "      <td>0.4874</td>\n",
              "      <td>0.3894</td>\n",
              "    </tr>\n",
              "    <tr>\n",
              "      <th>3</th>\n",
              "      <td>0.8227</td>\n",
              "      <td>0.7740</td>\n",
              "      <td>0.3626</td>\n",
              "      <td>0.6882</td>\n",
              "      <td>0.4750</td>\n",
              "      <td>0.3804</td>\n",
              "    </tr>\n",
              "    <tr>\n",
              "      <th>4</th>\n",
              "      <td>0.8227</td>\n",
              "      <td>0.7795</td>\n",
              "      <td>0.3513</td>\n",
              "      <td>0.6966</td>\n",
              "      <td>0.4670</td>\n",
              "      <td>0.3743</td>\n",
              "    </tr>\n",
              "    <tr>\n",
              "      <th>5</th>\n",
              "      <td>0.8239</td>\n",
              "      <td>0.7918</td>\n",
              "      <td>0.3598</td>\n",
              "      <td>0.6978</td>\n",
              "      <td>0.4748</td>\n",
              "      <td>0.3817</td>\n",
              "    </tr>\n",
              "    <tr>\n",
              "      <th>6</th>\n",
              "      <td>0.8202</td>\n",
              "      <td>0.7536</td>\n",
              "      <td>0.3343</td>\n",
              "      <td>0.6941</td>\n",
              "      <td>0.4512</td>\n",
              "      <td>0.3591</td>\n",
              "    </tr>\n",
              "    <tr>\n",
              "      <th>7</th>\n",
              "      <td>0.8302</td>\n",
              "      <td>0.7935</td>\n",
              "      <td>0.3569</td>\n",
              "      <td>0.7412</td>\n",
              "      <td>0.4818</td>\n",
              "      <td>0.3948</td>\n",
              "    </tr>\n",
              "    <tr>\n",
              "      <th>8</th>\n",
              "      <td>0.8214</td>\n",
              "      <td>0.7649</td>\n",
              "      <td>0.3541</td>\n",
              "      <td>0.6868</td>\n",
              "      <td>0.4673</td>\n",
              "      <td>0.3729</td>\n",
              "    </tr>\n",
              "    <tr>\n",
              "      <th>9</th>\n",
              "      <td>0.8138</td>\n",
              "      <td>0.7824</td>\n",
              "      <td>0.3598</td>\n",
              "      <td>0.6414</td>\n",
              "      <td>0.4610</td>\n",
              "      <td>0.3590</td>\n",
              "    </tr>\n",
              "    <tr>\n",
              "      <th>Mean</th>\n",
              "      <td>0.8229</td>\n",
              "      <td>0.7851</td>\n",
              "      <td>0.3561</td>\n",
              "      <td>0.6955</td>\n",
              "      <td>0.4707</td>\n",
              "      <td>0.3773</td>\n",
              "    </tr>\n",
              "    <tr>\n",
              "      <th>SD</th>\n",
              "      <td>0.0043</td>\n",
              "      <td>0.0186</td>\n",
              "      <td>0.0116</td>\n",
              "      <td>0.0279</td>\n",
              "      <td>0.0098</td>\n",
              "      <td>0.0113</td>\n",
              "    </tr>\n",
              "  </tbody>\n",
              "</table>\n",
              "</div>"
            ],
            "text/plain": [
              "      Accuracy     AUC  Recall   Prec.      F1   Kappa\n",
              "0       0.8289  0.7871  0.3484  0.7410  0.4740  0.3873\n",
              "1       0.8227  0.7990  0.3513  0.6966  0.4670  0.3743\n",
              "2       0.8221  0.8251  0.3824  0.6716  0.4874  0.3894\n",
              "3       0.8227  0.7740  0.3626  0.6882  0.4750  0.3804\n",
              "4       0.8227  0.7795  0.3513  0.6966  0.4670  0.3743\n",
              "5       0.8239  0.7918  0.3598  0.6978  0.4748  0.3817\n",
              "6       0.8202  0.7536  0.3343  0.6941  0.4512  0.3591\n",
              "7       0.8302  0.7935  0.3569  0.7412  0.4818  0.3948\n",
              "8       0.8214  0.7649  0.3541  0.6868  0.4673  0.3729\n",
              "9       0.8138  0.7824  0.3598  0.6414  0.4610  0.3590\n",
              "Mean    0.8229  0.7851  0.3561  0.6955  0.4707  0.3773\n",
              "SD      0.0043  0.0186  0.0116  0.0279  0.0098  0.0113"
            ]
          },
          "metadata": {
            "tags": []
          }
        }
      ]
    },
    {
      "cell_type": "markdown",
      "metadata": {
        "colab_type": "text",
        "id": "IqxEZRi1EQrO"
      },
      "source": [
        "The `tune_model()` function is a random grid search of hyperparameters over a pre-defined search space. By default, it is set to optimize `Accuracy` but this can be changed using `optimize` parameter. For example: `tune_model('dt', optimize = 'AUC')` will search for the hyperparameters of a Decision Tree Classifier that results in highest `AUC`. For the purposes of this example, we have used the default metric `Accuracy` for the sake of simplicity only. Generally, when the dataset is imbalanced (such as the credit dataset we are working with) `Accuracy` is not a good metric for consideration. The methodology behind selecting the right metric to evaluate a classifier is beyond the scope of this tutorial but if you would like to learn more about it, you can __[click here](https://medium.com/@george.drakos62/how-to-select-the-right-evaluation-metric-for-machine-learning-models-part-3-classification-3eac420ec991)__ to read an article on how to choose the right evaluation metric.\n",
        "\n",
        "Notice how the results after tuning have been improved:\n",
        "\n",
        "- Decision Tree Classifier (Before: **`0.7294`** , After: **`0.8199`**)\n",
        "- K Neighbors Classifier (Before: **`0.7505`** , After: **`0.7791`**)\n",
        "- Random Forest Classifier (Before: **`0.8084`** , After: **`0.8229`**)\n",
        "\n",
        "\n",
        "Metrics alone are not the only criteria you should consider when finalizing the best model for production. Other factors to consider include training time, standard deviation of kfolds etc. As you progress through the tutorial series we will discuss those factors in detail at the intermediate and expert levels. For now, let's move forward considering the Tuned Random Forest Classifier as our best model for the remainder of this tutorial."
      ]
    },
    {
      "cell_type": "markdown",
      "metadata": {
        "colab_type": "text",
        "id": "w_P46O0jEQrT"
      },
      "source": [
        "# 10.0 Plot a Model"
      ]
    },
    {
      "cell_type": "markdown",
      "metadata": {
        "colab_type": "text",
        "id": "FGM9GOtjEQrV"
      },
      "source": [
        "Before model finalization, the `plot_model()` function can be used to analyze the performance across different aspects such as AUC, confusion_matrix, decision boundary etc. This function takes a trained model object and returns a plot based on the test / hold-out set. \n",
        "\n",
        "There are 15 different plots available, please see the `plot_model()` docstring for the list of available plots."
      ]
    },
    {
      "cell_type": "markdown",
      "metadata": {
        "colab_type": "text",
        "id": "euqkQYJaEQrY"
      },
      "source": [
        "### 10.1 AUC Plot"
      ]
    },
    {
      "cell_type": "code",
      "metadata": {
        "colab_type": "code",
        "id": "RLbLqvkHEQra",
        "outputId": "f438dd61-881b-4c74-b342-6a3d9393bbc1",
        "colab": {
          "base_uri": "https://localhost:8080/",
          "height": 376
        }
      },
      "source": [
        "plot_model(tuned_rf, plot = 'auc')"
      ],
      "execution_count": 0,
      "outputs": [
        {
          "output_type": "display_data",
          "data": {
            "image/png": "[encoded data removed]",
            "text/plain": [
              "<Figure size 576x396 with 1 Axes>"
            ]
          },
          "metadata": {
            "tags": []
          }
        }
      ]
    },
    {
      "cell_type": "markdown",
      "metadata": {
        "colab_type": "text",
        "id": "bwyoTUDQEQrm"
      },
      "source": [
        "### 10.2 Precision-Recall Curve"
      ]
    },
    {
      "cell_type": "code",
      "metadata": {
        "colab_type": "code",
        "id": "4IvchQoiEQrr",
        "outputId": "339bae6d-8425-4cf7-d4d6-ced7fbab362d",
        "colab": {
          "base_uri": "https://localhost:8080/",
          "height": 376
        }
      },
      "source": [
        "plot_model(tuned_rf, plot = 'pr')"
      ],
      "execution_count": 0,
      "outputs": [
        {
          "output_type": "display_data",
          "data": {
            "image/png": "[encoded data removed]",
            "text/plain": [
              "<Figure size 576x396 with 1 Axes>"
            ]
          },
          "metadata": {
            "tags": []
          }
        }
      ]
    },
    {
      "cell_type": "markdown",
      "metadata": {
        "colab_type": "text",
        "id": "_r9rwEw7EQrz"
      },
      "source": [
        "### 10.3 Feature Importance Plot"
      ]
    },
    {
      "cell_type": "code",
      "metadata": {
        "colab_type": "code",
        "id": "nVScSxJ-EQr2",
        "outputId": "0de1f042-69b8-4d47-9223-edf25be5d9e0",
        "colab": {
          "base_uri": "https://localhost:8080/",
          "height": 349
        }
      },
      "source": [
        "plot_model(tuned_rf, plot='feature')"
      ],
      "execution_count": 0,
      "outputs": [
        {
          "output_type": "display_data",
          "data": {
            "image/png": "[encoded data removed]",
            "text/plain": [
              "<Figure size 576x360 with 1 Axes>"
            ]
          },
          "metadata": {
            "tags": []
          }
        }
      ]
    },
    {
      "cell_type": "markdown",
      "metadata": {
        "colab_type": "text",
        "id": "FfWC3NEhEQr9"
      },
      "source": [
        "### 10.4 Confusion Matrix"
      ]
    },
    {
      "cell_type": "code",
      "metadata": {
        "colab_type": "code",
        "id": "OAB5mes-EQsA",
        "outputId": "7c67eaff-fa95-46ad-e541-6b6adb8aed6f",
        "colab": {
          "base_uri": "https://localhost:8080/",
          "height": 374
        }
      },
      "source": [
        "plot_model(tuned_rf, plot = 'confusion_matrix')"
      ],
      "execution_count": 0,
      "outputs": [
        {
          "output_type": "display_data",
          "data": {
            "image/png": "[encoded data removed]",
            "text/plain": [
              "<Figure size 576x396 with 1 Axes>"
            ]
          },
          "metadata": {
            "tags": []
          }
        }
      ]
    },
    {
      "cell_type": "markdown",
      "metadata": {
        "colab_type": "text",
        "id": "deClKJrbEQsJ"
      },
      "source": [
        "*Another* way to analyze the performance of models is to use the `evaluate_model()` function which displays a user interface for all of the available plots for a given model. It internally uses the `plot_model()` function. "
      ]
    },
    {
      "cell_type": "code",
      "metadata": {
        "colab_type": "code",
        "id": "OcLV1Ln6EQsN",
        "outputId": "2597daa6-2e8f-4497-d9a1-dd24e3fc0ae8",
        "colab": {
          "base_uri": "https://localhost:8080/",
          "height": 670,
          "referenced_widgets": [
            "af6b8ede883e408ebdbcba2b4aec96c0",
            "110279d5a0844b9eb47b28e3504f7961",
            "f7febb8fed594290982bda136e20ce85",
            "47cbe4bad2bf4b4ab5a2355212f84d8b",
            "161d6c05952e43b09262734910109929",
            "28c3369259d64b64b11ab37f38762d0b",
            "021eca161ef847098bb1201fe125201e",
            "5b7da986cd004d4893a4c433bdc04c6d",
            "11639c6e990c4b0a8b5c2fff40d75055"
          ]
        }
      },
      "source": [
        "evaluate_model(tuned_rf)"
      ],
      "execution_count": 0,
      "outputs": [
        {
          "output_type": "display_data",
          "data": {
            "application/vnd.jupyter.widget-view+json": {
              "model_id": "af6b8ede883e408ebdbcba2b4aec96c0",
              "version_minor": 0,
              "version_major": 2
            },
            "text/plain": [
              "interactive(children=(ToggleButtons(description='Plot Type:', icons=('',), options=(('Hyperparameters', 'param…"
            ]
          },
          "metadata": {
            "tags": []
          }
        }
      ]
    },
    {
      "cell_type": "markdown",
      "metadata": {
        "colab_type": "text",
        "id": "RX5pYUJJEQsV"
      },
      "source": [
        "# 11.0 Predict on test / hold-out Sample"
      ]
    },
    {
      "cell_type": "markdown",
      "metadata": {
        "colab_type": "text",
        "id": "mFSvRYiaEQsd"
      },
      "source": [
        "Before finalizing the model, it is advisable to perform one final check by predicting the test/hold-out set and reviewing the evaluation metrics. If you look at the information grid in Section 6 above, you will see that 30% (6,841 samples) of the data has been separated out as test/hold-out sample. All of the evaluation metrics we have seen above are cross validated results based on the training set (70%) only. Now, using our final trained model stored in the `tuned_rf` variable we will predict against the hold-out sample and evaluate the metrics to see if they are materially different than the CV results."
      ]
    },
    {
      "cell_type": "code",
      "metadata": {
        "colab_type": "code",
        "id": "nwaZk6oTEQsi",
        "outputId": "54b85b1e-1a84-46a4-dfbe-d500d52ad2bb",
        "colab": {
          "base_uri": "https://localhost:8080/",
          "height": 77
        }
      },
      "source": [
        "predict_model(tuned_rf);"
      ],
      "execution_count": 0,
      "outputs": [
        {
          "output_type": "display_data",
          "data": {
            "text/html": [
              "<div>\n",
              "<style scoped>\n",
              "    .dataframe tbody tr th:only-of-type {\n",
              "        vertical-align: middle;\n",
              "    }\n",
              "\n",
              "    .dataframe tbody tr th {\n",
              "        vertical-align: top;\n",
              "    }\n",
              "\n",
              "    .dataframe thead th {\n",
              "        text-align: right;\n",
              "    }\n",
              "</style>\n",
              "<table border=\"1\" class=\"dataframe\">\n",
              "  <thead>\n",
              "    <tr style=\"text-align: right;\">\n",
              "      <th></th>\n",
              "      <th>Model</th>\n",
              "      <th>Accuracy</th>\n",
              "      <th>AUC</th>\n",
              "      <th>Recall</th>\n",
              "      <th>Prec.</th>\n",
              "      <th>F1</th>\n",
              "      <th>Kappa</th>\n",
              "    </tr>\n",
              "  </thead>\n",
              "  <tbody>\n",
              "    <tr>\n",
              "      <th>0</th>\n",
              "      <td>Random Forest Classifier</td>\n",
              "      <td>0.8126</td>\n",
              "      <td>0.7538</td>\n",
              "      <td>0.3212</td>\n",
              "      <td>0.6559</td>\n",
              "      <td>0.4312</td>\n",
              "      <td>0.3345</td>\n",
              "    </tr>\n",
              "  </tbody>\n",
              "</table>\n",
              "</div>"
            ],
            "text/plain": [
              "                      Model  Accuracy     AUC  Recall   Prec.      F1   Kappa\n",
              "0  Random Forest Classifier    0.8126  0.7538  0.3212  0.6559  0.4312  0.3345"
            ]
          },
          "metadata": {
            "tags": []
          }
        }
      ]
    },
    {
      "cell_type": "markdown",
      "metadata": {
        "colab_type": "text",
        "id": "E-fHsX2AEQsx"
      },
      "source": [
        "The accuracy on test/hold-out set is **`0.8126`** compared to **`0.8229`** achieved on the `tuned_rf` CV results (in section 9.3 above). This is not a significant difference. If there is a large variation between the test/hold-out and CV results, then this would normally indicate over-fitting but could also be due to several other factors and would require further investigation. In this case, we will move forward with finalizing the model and predicting on unseen data (the 5% that we had separated in the beginning and never exposed to PyCaret).\n",
        "\n",
        "(TIP : It's always good to look at the standard deviation of CV results when using `create_model()`.)"
      ]
    },
    {
      "cell_type": "markdown",
      "metadata": {
        "colab_type": "text",
        "id": "r79BGjIfEQs1"
      },
      "source": [
        "# 12.0 Finalize Model for Deployment"
      ]
    },
    {
      "cell_type": "markdown",
      "metadata": {
        "colab_type": "text",
        "id": "B-6xJ9kQEQs7"
      },
      "source": [
        "Model finalization is the last step in the experiment. A normal machine learning workflow in PyCaret starts with `setup()`, followed by comparing all models using `compare_models()` and shortlisting a few candidate models (based on the metric of interest) to perform several modeling techniques such as hyperparameter tuning, ensembling, stacking etc. This workflow will eventually lead you to the best model for use in making predictions on new and unseen data. The `finalize_model()` function fits the model onto the complete dataset including the test/hold-out sample (30% in this case). The purpose of this function is to train the model on the complete dataset before it is deployed in production."
      ]
    },
    {
      "cell_type": "code",
      "metadata": {
        "colab_type": "code",
        "id": "_--tO4KGEQs-",
        "colab": {}
      },
      "source": [
        "final_rf = finalize_model(tuned_rf)"
      ],
      "execution_count": 0,
      "outputs": []
    },
    {
      "cell_type": "code",
      "metadata": {
        "colab_type": "code",
        "id": "U9W6kXsSEQtQ",
        "outputId": "93903642-267c-4d9d-eaee-2559154e9664",
        "colab": {
          "base_uri": "https://localhost:8080/",
          "height": 151
        }
      },
      "source": [
        "#Final Random Forest model parameters for deployment\n",
        "print(final_rf)"
      ],
      "execution_count": 0,
      "outputs": [
        {
          "output_type": "stream",
          "text": [
            "RandomForestClassifier(bootstrap=True, ccp_alpha=0.0, class_weight=None,\n",
            "                       criterion='gini', max_depth=10, max_features='auto',\n",
            "                       max_leaf_nodes=None, max_samples=None,\n",
            "                       min_impurity_decrease=0.0, min_impurity_split=None,\n",
            "                       min_samples_leaf=2, min_samples_split=10,\n",
            "                       min_weight_fraction_leaf=0.0, n_estimators=70,\n",
            "                       n_jobs=None, oob_score=False, random_state=123,\n",
            "                       verbose=0, warm_start=False)\n"
          ],
          "name": "stdout"
        }
      ]
    },
    {
      "cell_type": "markdown",
      "metadata": {
        "colab_type": "text",
        "id": "kgdOjxypEQtd"
      },
      "source": [
        "**Caution:** One final word of caution. Once the model is finalized using `finalize_model()`, the entire dataset including the test/hold-out set is used for training. As such, if the model is used for predictions on the hold-out set after `finalize_model()` is used, the information grid printed will be misleading as you are trying to predict on the same data that was used for modeling. In order to demonstrate this point only, we will use `final_rf` under `predict_model()` to compare the information grid with the one above in section 11. "
      ]
    },
    {
      "cell_type": "code",
      "metadata": {
        "colab_type": "code",
        "id": "NJDk3I-EEQtg",
        "outputId": "93f7d815-408b-4f36-9a38-227cbb2a1550",
        "colab": {
          "base_uri": "https://localhost:8080/",
          "height": 77
        }
      },
      "source": [
        "predict_model(final_rf);"
      ],
      "execution_count": 0,
      "outputs": [
        {
          "output_type": "display_data",
          "data": {
            "text/html": [
              "<div>\n",
              "<style scoped>\n",
              "    .dataframe tbody tr th:only-of-type {\n",
              "        vertical-align: middle;\n",
              "    }\n",
              "\n",
              "    .dataframe tbody tr th {\n",
              "        vertical-align: top;\n",
              "    }\n",
              "\n",
              "    .dataframe thead th {\n",
              "        text-align: right;\n",
              "    }\n",
              "</style>\n",
              "<table border=\"1\" class=\"dataframe\">\n",
              "  <thead>\n",
              "    <tr style=\"text-align: right;\">\n",
              "      <th></th>\n",
              "      <th>Model</th>\n",
              "      <th>Accuracy</th>\n",
              "      <th>AUC</th>\n",
              "      <th>Recall</th>\n",
              "      <th>Prec.</th>\n",
              "      <th>F1</th>\n",
              "      <th>Kappa</th>\n",
              "    </tr>\n",
              "  </thead>\n",
              "  <tbody>\n",
              "    <tr>\n",
              "      <th>0</th>\n",
              "      <td>Random Forest Classifier</td>\n",
              "      <td>0.8361</td>\n",
              "      <td>0.8189</td>\n",
              "      <td>0.3681</td>\n",
              "      <td>0.7715</td>\n",
              "      <td>0.4984</td>\n",
              "      <td>0.4148</td>\n",
              "    </tr>\n",
              "  </tbody>\n",
              "</table>\n",
              "</div>"
            ],
            "text/plain": [
              "                      Model  Accuracy     AUC  Recall   Prec.      F1   Kappa\n",
              "0  Random Forest Classifier    0.8361  0.8189  0.3681  0.7715  0.4984  0.4148"
            ]
          },
          "metadata": {
            "tags": []
          }
        }
      ]
    },
    {
      "cell_type": "markdown",
      "metadata": {
        "colab_type": "text",
        "id": "V77JC5JVEQtp"
      },
      "source": [
        "Notice how the AUC in `final_rf` has increased to **`0.8189`** from **`0.7538`**, even though the model is the same. This is because the `final_rf` variable has been trained on the complete dataset including the test/hold-out set."
      ]
    },
    {
      "cell_type": "markdown",
      "metadata": {
        "colab_type": "text",
        "id": "hUzc6tXNEQtr"
      },
      "source": [
        "# 13.0 Predict on unseen data"
      ]
    },
    {
      "cell_type": "markdown",
      "metadata": {
        "colab_type": "text",
        "id": "dx5vXjChEQtt"
      },
      "source": [
        "The `predict_model()` function is also used to predict on the unseen dataset. The only difference from section 11 above is that this time we will pass the `data_unseen` parameter. `data_unseen` is the variable created at the beginning of the tutorial and contains 5% (1200 samples) of the original dataset which was never exposed to PyCaret. (see section 5 for explanation)"
      ]
    },
    {
      "cell_type": "code",
      "metadata": {
        "colab_type": "code",
        "id": "0y5KWLC6EQtx",
        "outputId": "8a05a0a6-8fe2-4c93-ca8f-b60eb776f48f",
        "colab": {
          "base_uri": "https://localhost:8080/",
          "height": 215
        }
      },
      "source": [
        "unseen_predictions = predict_model(final_rf, data=data_unseen)\n",
        "unseen_predictions.head()"
      ],
      "execution_count": 0,
      "outputs": [
        {
          "output_type": "execute_result",
          "data": {
            "text/html": [
              "<div>\n",
              "<style scoped>\n",
              "    .dataframe tbody tr th:only-of-type {\n",
              "        vertical-align: middle;\n",
              "    }\n",
              "\n",
              "    .dataframe tbody tr th {\n",
              "        vertical-align: top;\n",
              "    }\n",
              "\n",
              "    .dataframe thead th {\n",
              "        text-align: right;\n",
              "    }\n",
              "</style>\n",
              "<table border=\"1\" class=\"dataframe\">\n",
              "  <thead>\n",
              "    <tr style=\"text-align: right;\">\n",
              "      <th></th>\n",
              "      <th>LIMIT_BAL</th>\n",
              "      <th>SEX</th>\n",
              "      <th>EDUCATION</th>\n",
              "      <th>MARRIAGE</th>\n",
              "      <th>AGE</th>\n",
              "      <th>PAY_1</th>\n",
              "      <th>PAY_2</th>\n",
              "      <th>PAY_3</th>\n",
              "      <th>PAY_4</th>\n",
              "      <th>PAY_5</th>\n",
              "      <th>PAY_6</th>\n",
              "      <th>BILL_AMT1</th>\n",
              "      <th>BILL_AMT2</th>\n",
              "      <th>BILL_AMT3</th>\n",
              "      <th>BILL_AMT4</th>\n",
              "      <th>BILL_AMT5</th>\n",
              "      <th>BILL_AMT6</th>\n",
              "      <th>PAY_AMT1</th>\n",
              "      <th>PAY_AMT2</th>\n",
              "      <th>PAY_AMT3</th>\n",
              "      <th>PAY_AMT4</th>\n",
              "      <th>PAY_AMT5</th>\n",
              "      <th>PAY_AMT6</th>\n",
              "      <th>default</th>\n",
              "      <th>Label</th>\n",
              "      <th>Score</th>\n",
              "    </tr>\n",
              "  </thead>\n",
              "  <tbody>\n",
              "    <tr>\n",
              "      <th>0</th>\n",
              "      <td>50000</td>\n",
              "      <td>2</td>\n",
              "      <td>2</td>\n",
              "      <td>1</td>\n",
              "      <td>48</td>\n",
              "      <td>0</td>\n",
              "      <td>0</td>\n",
              "      <td>0</td>\n",
              "      <td>0</td>\n",
              "      <td>0</td>\n",
              "      <td>0</td>\n",
              "      <td>48572.0</td>\n",
              "      <td>45067.0</td>\n",
              "      <td>46492.0</td>\n",
              "      <td>47368.0</td>\n",
              "      <td>7988.0</td>\n",
              "      <td>8011.0</td>\n",
              "      <td>2028.0</td>\n",
              "      <td>2453.0</td>\n",
              "      <td>2329.0</td>\n",
              "      <td>431.0</td>\n",
              "      <td>300.0</td>\n",
              "      <td>500.0</td>\n",
              "      <td>0</td>\n",
              "      <td>0</td>\n",
              "      <td>0.1498</td>\n",
              "    </tr>\n",
              "    <tr>\n",
              "      <th>1</th>\n",
              "      <td>200000</td>\n",
              "      <td>2</td>\n",
              "      <td>1</td>\n",
              "      <td>1</td>\n",
              "      <td>40</td>\n",
              "      <td>2</td>\n",
              "      <td>2</td>\n",
              "      <td>2</td>\n",
              "      <td>2</td>\n",
              "      <td>2</td>\n",
              "      <td>2</td>\n",
              "      <td>80468.0</td>\n",
              "      <td>82874.0</td>\n",
              "      <td>84900.0</td>\n",
              "      <td>85758.0</td>\n",
              "      <td>87003.0</td>\n",
              "      <td>89112.0</td>\n",
              "      <td>4200.0</td>\n",
              "      <td>4100.0</td>\n",
              "      <td>3000.0</td>\n",
              "      <td>3400.0</td>\n",
              "      <td>3500.0</td>\n",
              "      <td>0.0</td>\n",
              "      <td>1</td>\n",
              "      <td>1</td>\n",
              "      <td>0.7986</td>\n",
              "    </tr>\n",
              "    <tr>\n",
              "      <th>2</th>\n",
              "      <td>50000</td>\n",
              "      <td>2</td>\n",
              "      <td>3</td>\n",
              "      <td>1</td>\n",
              "      <td>44</td>\n",
              "      <td>1</td>\n",
              "      <td>2</td>\n",
              "      <td>3</td>\n",
              "      <td>2</td>\n",
              "      <td>4</td>\n",
              "      <td>3</td>\n",
              "      <td>13112.0</td>\n",
              "      <td>14679.0</td>\n",
              "      <td>15143.0</td>\n",
              "      <td>16892.0</td>\n",
              "      <td>16341.0</td>\n",
              "      <td>15798.0</td>\n",
              "      <td>2100.0</td>\n",
              "      <td>1000.0</td>\n",
              "      <td>2300.0</td>\n",
              "      <td>0.0</td>\n",
              "      <td>0.0</td>\n",
              "      <td>0.0</td>\n",
              "      <td>1</td>\n",
              "      <td>1</td>\n",
              "      <td>0.6261</td>\n",
              "    </tr>\n",
              "    <tr>\n",
              "      <th>3</th>\n",
              "      <td>60000</td>\n",
              "      <td>2</td>\n",
              "      <td>2</td>\n",
              "      <td>1</td>\n",
              "      <td>31</td>\n",
              "      <td>2</td>\n",
              "      <td>2</td>\n",
              "      <td>-1</td>\n",
              "      <td>0</td>\n",
              "      <td>0</td>\n",
              "      <td>0</td>\n",
              "      <td>63201.0</td>\n",
              "      <td>56600.0</td>\n",
              "      <td>54952.0</td>\n",
              "      <td>32094.0</td>\n",
              "      <td>31232.0</td>\n",
              "      <td>30384.0</td>\n",
              "      <td>1132.0</td>\n",
              "      <td>60994.0</td>\n",
              "      <td>1436.0</td>\n",
              "      <td>1047.0</td>\n",
              "      <td>1056.0</td>\n",
              "      <td>1053.0</td>\n",
              "      <td>1</td>\n",
              "      <td>1</td>\n",
              "      <td>0.5063</td>\n",
              "    </tr>\n",
              "    <tr>\n",
              "      <th>4</th>\n",
              "      <td>120000</td>\n",
              "      <td>2</td>\n",
              "      <td>3</td>\n",
              "      <td>2</td>\n",
              "      <td>32</td>\n",
              "      <td>-1</td>\n",
              "      <td>0</td>\n",
              "      <td>0</td>\n",
              "      <td>0</td>\n",
              "      <td>0</td>\n",
              "      <td>0</td>\n",
              "      <td>66551.0</td>\n",
              "      <td>67876.0</td>\n",
              "      <td>69903.0</td>\n",
              "      <td>71446.0</td>\n",
              "      <td>79589.0</td>\n",
              "      <td>81354.0</td>\n",
              "      <td>2429.0</td>\n",
              "      <td>3120.0</td>\n",
              "      <td>3300.0</td>\n",
              "      <td>10000.0</td>\n",
              "      <td>3200.0</td>\n",
              "      <td>3200.0</td>\n",
              "      <td>0</td>\n",
              "      <td>0</td>\n",
              "      <td>0.1479</td>\n",
              "    </tr>\n",
              "  </tbody>\n",
              "</table>\n",
              "</div>"
            ],
            "text/plain": [
              "   LIMIT_BAL  SEX  EDUCATION  MARRIAGE  ...  PAY_AMT6  default  Label   Score\n",
              "0      50000    2          2         1  ...     500.0        0      0  0.1498\n",
              "1     200000    2          1         1  ...       0.0        1      1  0.7986\n",
              "2      50000    2          3         1  ...       0.0        1      1  0.6261\n",
              "3      60000    2          2         1  ...    1053.0        1      1  0.5063\n",
              "4     120000    2          3         2  ...    3200.0        0      0  0.1479\n",
              "\n",
              "[5 rows x 26 columns]"
            ]
          },
          "metadata": {
            "tags": []
          },
          "execution_count": 24
        }
      ]
    },
    {
      "cell_type": "markdown",
      "metadata": {
        "colab_type": "text",
        "id": "oPYmVpugEQt5"
      },
      "source": [
        "The `Label` and `Score` columns are added onto the `data_unseen` set. Label is the prediction and score is the probability of the prediction. Notice that predicted results are concatenated to the original dataset while all the transformations are automatically performed in the background."
      ]
    },
    {
      "cell_type": "markdown",
      "metadata": {
        "colab_type": "text",
        "id": "L__po3sUEQt7"
      },
      "source": [
        "# 14.0 Saving the model"
      ]
    },
    {
      "cell_type": "markdown",
      "metadata": {
        "colab_type": "text",
        "id": "1sQPT7jrEQt-"
      },
      "source": [
        "We have now finished the experiment by finalizing the `tuned_rf` model which is now stored in `final_rf` variable. We have also used the model stored in `final_rf` to predict `data_unseen`. This brings us to the end of our experiment, but one question is still to be asked: What happens when you have more new data to predict? Do you have to go through the entire experiment again? The answer is no, PyCaret's inbuilt function `save_model()` allows you to save the model along with entire transformation pipeline for later use."
      ]
    },
    {
      "cell_type": "code",
      "metadata": {
        "colab_type": "code",
        "id": "ln1YWIXTEQuA",
        "outputId": "d47b811a-9aaa-466e-884f-2387ad7058e0",
        "colab": {
          "base_uri": "https://localhost:8080/",
          "height": 34
        }
      },
      "source": [
        "save_model(final_rf,'Final RF Model 08Feb2020')"
      ],
      "execution_count": 0,
      "outputs": [
        {
          "output_type": "stream",
          "text": [
            "Transformation Pipeline and Model Succesfully Saved\n"
          ],
          "name": "stdout"
        }
      ]
    },
    {
      "cell_type": "markdown",
      "metadata": {
        "colab_type": "text",
        "id": "WE6f48AYEQuR"
      },
      "source": [
        "(TIP : It's always good to use date in the filename when saving models, it's good for version control.)"
      ]
    },
    {
      "cell_type": "markdown",
      "metadata": {
        "colab_type": "text",
        "id": "Z8OBesfkEQuU"
      },
      "source": [
        "# 15.0 Loading the saved model"
      ]
    },
    {
      "cell_type": "markdown",
      "metadata": {
        "colab_type": "text",
        "id": "V2K_WLaaEQuW"
      },
      "source": [
        "To load a saved model at a future date in the same or an alternative environment, we would use PyCaret's `load_model()` function and then easily apply the saved model on new unseen data for prediction."
      ]
    },
    {
      "cell_type": "code",
      "metadata": {
        "colab_type": "code",
        "id": "Siw_2EIUEQub",
        "outputId": "c50476fa-cad1-4f2b-c808-6e1739296713",
        "colab": {
          "base_uri": "https://localhost:8080/",
          "height": 34
        }
      },
      "source": [
        "saved_final_rf = load_model('Final RF Model 08Feb2020')"
      ],
      "execution_count": 0,
      "outputs": [
        {
          "output_type": "stream",
          "text": [
            "Transformation Pipeline and Model Sucessfully Loaded\n"
          ],
          "name": "stdout"
        }
      ]
    },
    {
      "cell_type": "markdown",
      "metadata": {
        "colab_type": "text",
        "id": "1zyi6-Q-EQuq"
      },
      "source": [
        "Once the model is loaded in the environment, you can simply use it to predict on any new data using the same `predict_model()` function. Below we have applied the loaded model to predict the same `data_unseen` that we used in section 13 above."
      ]
    },
    {
      "cell_type": "code",
      "metadata": {
        "colab_type": "code",
        "id": "HMPO1ka9EQut",
        "colab": {}
      },
      "source": [
        "new_prediction = predict_model(saved_final_rf, data=data_unseen)"
      ],
      "execution_count": 0,
      "outputs": []
    },
    {
      "cell_type": "code",
      "metadata": {
        "colab_type": "code",
        "id": "7wyDQQSzEQu8",
        "outputId": "80d9499f-3bff-4645-82f8-0a03db8b677c",
        "colab": {
          "base_uri": "https://localhost:8080/",
          "height": 215
        }
      },
      "source": [
        "new_prediction.head()"
      ],
      "execution_count": 0,
      "outputs": [
        {
          "output_type": "execute_result",
          "data": {
            "text/html": [
              "<div>\n",
              "<style scoped>\n",
              "    .dataframe tbody tr th:only-of-type {\n",
              "        vertical-align: middle;\n",
              "    }\n",
              "\n",
              "    .dataframe tbody tr th {\n",
              "        vertical-align: top;\n",
              "    }\n",
              "\n",
              "    .dataframe thead th {\n",
              "        text-align: right;\n",
              "    }\n",
              "</style>\n",
              "<table border=\"1\" class=\"dataframe\">\n",
              "  <thead>\n",
              "    <tr style=\"text-align: right;\">\n",
              "      <th></th>\n",
              "      <th>LIMIT_BAL</th>\n",
              "      <th>SEX</th>\n",
              "      <th>EDUCATION</th>\n",
              "      <th>MARRIAGE</th>\n",
              "      <th>AGE</th>\n",
              "      <th>PAY_1</th>\n",
              "      <th>PAY_2</th>\n",
              "      <th>PAY_3</th>\n",
              "      <th>PAY_4</th>\n",
              "      <th>PAY_5</th>\n",
              "      <th>PAY_6</th>\n",
              "      <th>BILL_AMT1</th>\n",
              "      <th>BILL_AMT2</th>\n",
              "      <th>BILL_AMT3</th>\n",
              "      <th>BILL_AMT4</th>\n",
              "      <th>BILL_AMT5</th>\n",
              "      <th>BILL_AMT6</th>\n",
              "      <th>PAY_AMT1</th>\n",
              "      <th>PAY_AMT2</th>\n",
              "      <th>PAY_AMT3</th>\n",
              "      <th>PAY_AMT4</th>\n",
              "      <th>PAY_AMT5</th>\n",
              "      <th>PAY_AMT6</th>\n",
              "      <th>default</th>\n",
              "      <th>Label</th>\n",
              "      <th>Score</th>\n",
              "    </tr>\n",
              "  </thead>\n",
              "  <tbody>\n",
              "    <tr>\n",
              "      <th>0</th>\n",
              "      <td>50000</td>\n",
              "      <td>2</td>\n",
              "      <td>2</td>\n",
              "      <td>1</td>\n",
              "      <td>48</td>\n",
              "      <td>0</td>\n",
              "      <td>0</td>\n",
              "      <td>0</td>\n",
              "      <td>0</td>\n",
              "      <td>0</td>\n",
              "      <td>0</td>\n",
              "      <td>48572.0</td>\n",
              "      <td>45067.0</td>\n",
              "      <td>46492.0</td>\n",
              "      <td>47368.0</td>\n",
              "      <td>7988.0</td>\n",
              "      <td>8011.0</td>\n",
              "      <td>2028.0</td>\n",
              "      <td>2453.0</td>\n",
              "      <td>2329.0</td>\n",
              "      <td>431.0</td>\n",
              "      <td>300.0</td>\n",
              "      <td>500.0</td>\n",
              "      <td>0</td>\n",
              "      <td>0</td>\n",
              "      <td>0.1498</td>\n",
              "    </tr>\n",
              "    <tr>\n",
              "      <th>1</th>\n",
              "      <td>200000</td>\n",
              "      <td>2</td>\n",
              "      <td>1</td>\n",
              "      <td>1</td>\n",
              "      <td>40</td>\n",
              "      <td>2</td>\n",
              "      <td>2</td>\n",
              "      <td>2</td>\n",
              "      <td>2</td>\n",
              "      <td>2</td>\n",
              "      <td>2</td>\n",
              "      <td>80468.0</td>\n",
              "      <td>82874.0</td>\n",
              "      <td>84900.0</td>\n",
              "      <td>85758.0</td>\n",
              "      <td>87003.0</td>\n",
              "      <td>89112.0</td>\n",
              "      <td>4200.0</td>\n",
              "      <td>4100.0</td>\n",
              "      <td>3000.0</td>\n",
              "      <td>3400.0</td>\n",
              "      <td>3500.0</td>\n",
              "      <td>0.0</td>\n",
              "      <td>1</td>\n",
              "      <td>1</td>\n",
              "      <td>0.7986</td>\n",
              "    </tr>\n",
              "    <tr>\n",
              "      <th>2</th>\n",
              "      <td>50000</td>\n",
              "      <td>2</td>\n",
              "      <td>3</td>\n",
              "      <td>1</td>\n",
              "      <td>44</td>\n",
              "      <td>1</td>\n",
              "      <td>2</td>\n",
              "      <td>3</td>\n",
              "      <td>2</td>\n",
              "      <td>4</td>\n",
              "      <td>3</td>\n",
              "      <td>13112.0</td>\n",
              "      <td>14679.0</td>\n",
              "      <td>15143.0</td>\n",
              "      <td>16892.0</td>\n",
              "      <td>16341.0</td>\n",
              "      <td>15798.0</td>\n",
              "      <td>2100.0</td>\n",
              "      <td>1000.0</td>\n",
              "      <td>2300.0</td>\n",
              "      <td>0.0</td>\n",
              "      <td>0.0</td>\n",
              "      <td>0.0</td>\n",
              "      <td>1</td>\n",
              "      <td>1</td>\n",
              "      <td>0.6261</td>\n",
              "    </tr>\n",
              "    <tr>\n",
              "      <th>3</th>\n",
              "      <td>60000</td>\n",
              "      <td>2</td>\n",
              "      <td>2</td>\n",
              "      <td>1</td>\n",
              "      <td>31</td>\n",
              "      <td>2</td>\n",
              "      <td>2</td>\n",
              "      <td>-1</td>\n",
              "      <td>0</td>\n",
              "      <td>0</td>\n",
              "      <td>0</td>\n",
              "      <td>63201.0</td>\n",
              "      <td>56600.0</td>\n",
              "      <td>54952.0</td>\n",
              "      <td>32094.0</td>\n",
              "      <td>31232.0</td>\n",
              "      <td>30384.0</td>\n",
              "      <td>1132.0</td>\n",
              "      <td>60994.0</td>\n",
              "      <td>1436.0</td>\n",
              "      <td>1047.0</td>\n",
              "      <td>1056.0</td>\n",
              "      <td>1053.0</td>\n",
              "      <td>1</td>\n",
              "      <td>1</td>\n",
              "      <td>0.5063</td>\n",
              "    </tr>\n",
              "    <tr>\n",
              "      <th>4</th>\n",
              "      <td>120000</td>\n",
              "      <td>2</td>\n",
              "      <td>3</td>\n",
              "      <td>2</td>\n",
              "      <td>32</td>\n",
              "      <td>-1</td>\n",
              "      <td>0</td>\n",
              "      <td>0</td>\n",
              "      <td>0</td>\n",
              "      <td>0</td>\n",
              "      <td>0</td>\n",
              "      <td>66551.0</td>\n",
              "      <td>67876.0</td>\n",
              "      <td>69903.0</td>\n",
              "      <td>71446.0</td>\n",
              "      <td>79589.0</td>\n",
              "      <td>81354.0</td>\n",
              "      <td>2429.0</td>\n",
              "      <td>3120.0</td>\n",
              "      <td>3300.0</td>\n",
              "      <td>10000.0</td>\n",
              "      <td>3200.0</td>\n",
              "      <td>3200.0</td>\n",
              "      <td>0</td>\n",
              "      <td>0</td>\n",
              "      <td>0.1479</td>\n",
              "    </tr>\n",
              "  </tbody>\n",
              "</table>\n",
              "</div>"
            ],
            "text/plain": [
              "   LIMIT_BAL  SEX  EDUCATION  MARRIAGE  ...  PAY_AMT6  default  Label   Score\n",
              "0      50000    2          2         1  ...     500.0        0      0  0.1498\n",
              "1     200000    2          1         1  ...       0.0        1      1  0.7986\n",
              "2      50000    2          3         1  ...       0.0        1      1  0.6261\n",
              "3      60000    2          2         1  ...    1053.0        1      1  0.5063\n",
              "4     120000    2          3         2  ...    3200.0        0      0  0.1479\n",
              "\n",
              "[5 rows x 26 columns]"
            ]
          },
          "metadata": {
            "tags": []
          },
          "execution_count": 28
        }
      ]
    },
    {
      "cell_type": "markdown",
      "metadata": {
        "colab_type": "text",
        "id": "bf8I1uqcEQvD"
      },
      "source": [
        "Notice that the results of `unseen_predictions` and `new_prediction` are identical."
      ]
    },
    {
      "cell_type": "markdown",
      "metadata": {
        "colab_type": "text",
        "id": "_HeOs8BhEQvF"
      },
      "source": [
        "# 16.0 Wrap-up / Next Steps?"
      ]
    },
    {
      "cell_type": "markdown",
      "metadata": {
        "colab_type": "text",
        "id": "VqG1NnwXEQvK"
      },
      "source": [
        "This tutorial has covered the entire machine learning pipeline from data ingestion, pre-processing, training the model, hyperparameter tuning, prediction and saving the model for later use. We have completed all of these steps in less than 10 commands which are naturally constructed and very intuitive to remember such as `create_model()`, `tune_model()`, `compare_models()`. Re-creating the entire experiment without PyCaret would have taken well over 100 lines of code in most libraries.\n",
        "\n",
        "We have only covered the basics of `pycaret.classification`. In following tutorials we will go deeper into advanced pre-processing, ensembling, generalized stacking and other techniques that allow you to fully customize your machine learning pipeline and are must know for any data scientist.\n",
        "\n",
        "See you at the next tutorial. Follow the link to __[Binary Classification Tutorial (CLF102) - Intermediate Level](https://github.com/pycaret/pycaret/blob/master/Tutorials/Binary%20Classification%20Tutorial%20Level%20Intermediate%20-%20CLF102.ipynb)__"
      ]
    }
  ]
}