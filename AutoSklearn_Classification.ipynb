{
  "nbformat": 4,
  "nbformat_minor": 0,
  "metadata": {
    "colab": {
      "name": "AutoSklearn_Classification.ipynb",
      "provenance": [],
      "collapsed_sections": [],
      "authorship_tag": "ABX9TyPHZGuoApAf9yQiQEXE0PsX",
      "include_colab_link": true
    },
    "kernelspec": {
      "name": "python3",
      "display_name": "Python 3"
    },
    "accelerator": "GPU"
  },
  "cells": [
    {
      "cell_type": "markdown",
      "metadata": {
        "id": "view-in-github",
        "colab_type": "text"
      },
      "source": [
        "<a href=\"https://colab.research.google.com/github/plaban1981/Auto-Sklearn/blob/master/AutoSklearn_Classification.ipynb\" target=\"_parent\"><img src=\"https://colab.research.google.com/assets/colab-badge.svg\" alt=\"Open In Colab\"/></a>"
      ]
    },
    {
      "cell_type": "code",
      "metadata": {
        "id": "ljndZLiVRHle",
        "colab_type": "code",
        "colab": {
          "base_uri": "https://localhost:8080/",
          "height": 1000
        },
        "outputId": "d3dbf6f9-cd31-4715-f1c3-36bcb263a30e"
      },
      "source": [
        "!apt-get install swig -y\n",
        "!pip install Cython numpy\n",
        "!pip install auto-sklearn"
      ],
      "execution_count": 3,
      "outputs": [
        {
          "output_type": "stream",
          "text": [
            "Reading package lists... Done\n",
            "Building dependency tree       \n",
            "Reading state information... Done\n",
            "The following package was automatically installed and is no longer required:\n",
            "  libnvidia-common-430\n",
            "Use 'apt autoremove' to remove it.\n",
            "The following additional packages will be installed:\n",
            "  swig3.0\n",
            "Suggested packages:\n",
            "  swig-doc swig-examples swig3.0-examples swig3.0-doc\n",
            "The following NEW packages will be installed:\n",
            "  swig swig3.0\n",
            "0 upgraded, 2 newly installed, 0 to remove and 7 not upgraded.\n",
            "Need to get 1,100 kB of archives.\n",
            "After this operation, 5,822 kB of additional disk space will be used.\n",
            "Get:1 http://archive.ubuntu.com/ubuntu bionic/universe amd64 swig3.0 amd64 3.0.12-1 [1,094 kB]\n",
            "Get:2 http://archive.ubuntu.com/ubuntu bionic/universe amd64 swig amd64 3.0.12-1 [6,460 B]\n",
            "Fetched 1,100 kB in 1s (1,128 kB/s)\n",
            "Selecting previously unselected package swig3.0.\n",
            "(Reading database ... 145674 files and directories currently installed.)\n",
            "Preparing to unpack .../swig3.0_3.0.12-1_amd64.deb ...\n",
            "Unpacking swig3.0 (3.0.12-1) ...\n",
            "Selecting previously unselected package swig.\n",
            "Preparing to unpack .../swig_3.0.12-1_amd64.deb ...\n",
            "Unpacking swig (3.0.12-1) ...\n",
            "Setting up swig3.0 (3.0.12-1) ...\n",
            "Setting up swig (3.0.12-1) ...\n",
            "Processing triggers for man-db (2.8.3-2ubuntu0.1) ...\n",
            "Requirement already satisfied: Cython in /usr/local/lib/python3.6/dist-packages (0.29.14)\n",
            "Requirement already satisfied: numpy in /usr/local/lib/python3.6/dist-packages (1.17.5)\n",
            "Collecting auto-sklearn\n",
            "\u001b[?25l  Downloading https://files.pythonhosted.org/packages/ec/33/670d1074e349c3e501458a8a7072e38b57a89eb720b6768972ae7106e608/auto-sklearn-0.6.0.tar.gz (3.9MB)\n",
            "\u001b[K     |████████████████████████████████| 3.9MB 3.5MB/s \n",
            "\u001b[?25hRequirement already satisfied: setuptools in /usr/local/lib/python3.6/dist-packages (from auto-sklearn) (42.0.2)\n",
            "Collecting nose\n",
            "\u001b[?25l  Downloading https://files.pythonhosted.org/packages/15/d8/dd071918c040f50fa1cf80da16423af51ff8ce4a0f2399b7bf8de45ac3d9/nose-1.3.7-py3-none-any.whl (154kB)\n",
            "\u001b[K     |████████████████████████████████| 163kB 40.3MB/s \n",
            "\u001b[?25hRequirement already satisfied: Cython in /usr/local/lib/python3.6/dist-packages (from auto-sklearn) (0.29.14)\n",
            "Requirement already satisfied: numpy>=1.9.0 in /usr/local/lib/python3.6/dist-packages (from auto-sklearn) (1.17.5)\n",
            "Requirement already satisfied: scipy>=0.14.1 in /usr/local/lib/python3.6/dist-packages (from auto-sklearn) (1.4.1)\n",
            "Collecting scikit-learn<0.22,>=0.21.0\n",
            "\u001b[?25l  Downloading https://files.pythonhosted.org/packages/a0/c5/d2238762d780dde84a20b8c761f563fe882b88c5a5fb03c056547c442a19/scikit_learn-0.21.3-cp36-cp36m-manylinux1_x86_64.whl (6.7MB)\n",
            "\u001b[K     |████████████████████████████████| 6.7MB 37.7MB/s \n",
            "\u001b[?25hCollecting lockfile\n",
            "  Downloading https://files.pythonhosted.org/packages/c8/22/9460e311f340cb62d26a38c419b1381b8593b0bb6b5d1f056938b086d362/lockfile-0.12.2-py2.py3-none-any.whl\n",
            "Requirement already satisfied: joblib in /usr/local/lib/python3.6/dist-packages (from auto-sklearn) (0.14.1)\n",
            "Requirement already satisfied: psutil in /usr/local/lib/python3.6/dist-packages (from auto-sklearn) (5.4.8)\n",
            "Requirement already satisfied: pyyaml in /usr/local/lib/python3.6/dist-packages (from auto-sklearn) (3.13)\n",
            "Collecting liac-arff\n",
            "  Downloading https://files.pythonhosted.org/packages/e9/35/fbc9217cfa91d98888b43e1a19c03a50d716108c58494c558c65e308f372/liac-arff-2.4.0.tar.gz\n",
            "Requirement already satisfied: pandas in /usr/local/lib/python3.6/dist-packages (from auto-sklearn) (0.25.3)\n",
            "Collecting ConfigSpace<0.5,>=0.4.0\n",
            "\u001b[?25l  Downloading https://files.pythonhosted.org/packages/be/07/ebb7c6c6d03c82ffe6314161f2c8da32599c841e74b08f5c23812fee0e6f/ConfigSpace-0.4.11.tar.gz (957kB)\n",
            "\u001b[K     |████████████████████████████████| 962kB 34.2MB/s \n",
            "\u001b[?25hCollecting pynisher>=0.4.2\n",
            "  Downloading https://files.pythonhosted.org/packages/b2/21/c86c64c305da6d43fb89780d33cbc839c07736b71955a8bdb642a02b7538/pynisher-0.5.0.tar.gz\n",
            "Collecting pyrfr<0.9,>=0.7\n",
            "\u001b[?25l  Downloading https://files.pythonhosted.org/packages/ed/0f/4d7e42a9dfef3a1898e03cffa8f1cfcd1f96507d718808b2db584c6f8401/pyrfr-0.8.0.tar.gz (293kB)\n",
            "\u001b[K     |████████████████████████████████| 296kB 31.9MB/s \n",
            "\u001b[?25hCollecting smac==0.8\n",
            "\u001b[?25l  Downloading https://files.pythonhosted.org/packages/33/ab/2b0a6fb00bd76e2415a04dcca453ad0b0db9b4218b02401306ff2bc6135d/smac-0.8.0.tar.gz (94kB)\n",
            "\u001b[K     |████████████████████████████████| 102kB 12.7MB/s \n",
            "\u001b[?25hRequirement already satisfied: pytz>=2017.2 in /usr/local/lib/python3.6/dist-packages (from pandas->auto-sklearn) (2018.9)\n",
            "Requirement already satisfied: python-dateutil>=2.6.1 in /usr/local/lib/python3.6/dist-packages (from pandas->auto-sklearn) (2.6.1)\n",
            "Requirement already satisfied: pyparsing in /usr/local/lib/python3.6/dist-packages (from ConfigSpace<0.5,>=0.4.0->auto-sklearn) (2.4.6)\n",
            "Requirement already satisfied: docutils>=0.3 in /usr/local/lib/python3.6/dist-packages (from pynisher>=0.4.2->auto-sklearn) (0.15.2)\n",
            "Requirement already satisfied: six in /usr/local/lib/python3.6/dist-packages (from smac==0.8->auto-sklearn) (1.12.0)\n",
            "Requirement already satisfied: typing in /usr/local/lib/python3.6/dist-packages (from smac==0.8->auto-sklearn) (3.6.6)\n",
            "Requirement already satisfied: sphinx in /usr/local/lib/python3.6/dist-packages (from smac==0.8->auto-sklearn) (1.8.5)\n",
            "Collecting sphinx_rtd_theme\n",
            "\u001b[?25l  Downloading https://files.pythonhosted.org/packages/60/b4/4df37087a1d36755e3a3bfd2a30263f358d2dea21938240fa02313d45f51/sphinx_rtd_theme-0.4.3-py2.py3-none-any.whl (6.4MB)\n",
            "\u001b[K     |████████████████████████████████| 6.4MB 26.9MB/s \n",
            "\u001b[?25hRequirement already satisfied: snowballstemmer>=1.1 in /usr/local/lib/python3.6/dist-packages (from sphinx->smac==0.8->auto-sklearn) (2.0.0)\n",
            "Requirement already satisfied: imagesize in /usr/local/lib/python3.6/dist-packages (from sphinx->smac==0.8->auto-sklearn) (1.2.0)\n",
            "Requirement already satisfied: packaging in /usr/local/lib/python3.6/dist-packages (from sphinx->smac==0.8->auto-sklearn) (20.0)\n",
            "Requirement already satisfied: babel!=2.0,>=1.3 in /usr/local/lib/python3.6/dist-packages (from sphinx->smac==0.8->auto-sklearn) (2.8.0)\n",
            "Requirement already satisfied: sphinxcontrib-websupport in /usr/local/lib/python3.6/dist-packages (from sphinx->smac==0.8->auto-sklearn) (1.1.2)\n",
            "Requirement already satisfied: Pygments>=2.0 in /usr/local/lib/python3.6/dist-packages (from sphinx->smac==0.8->auto-sklearn) (2.1.3)\n",
            "Requirement already satisfied: alabaster<0.8,>=0.7 in /usr/local/lib/python3.6/dist-packages (from sphinx->smac==0.8->auto-sklearn) (0.7.12)\n",
            "Requirement already satisfied: requests>=2.0.0 in /usr/local/lib/python3.6/dist-packages (from sphinx->smac==0.8->auto-sklearn) (2.21.0)\n",
            "Requirement already satisfied: Jinja2>=2.3 in /usr/local/lib/python3.6/dist-packages (from sphinx->smac==0.8->auto-sklearn) (2.10.3)\n",
            "Requirement already satisfied: idna<2.9,>=2.5 in /usr/local/lib/python3.6/dist-packages (from requests>=2.0.0->sphinx->smac==0.8->auto-sklearn) (2.8)\n",
            "Requirement already satisfied: chardet<3.1.0,>=3.0.2 in /usr/local/lib/python3.6/dist-packages (from requests>=2.0.0->sphinx->smac==0.8->auto-sklearn) (3.0.4)\n",
            "Requirement already satisfied: urllib3<1.25,>=1.21.1 in /usr/local/lib/python3.6/dist-packages (from requests>=2.0.0->sphinx->smac==0.8->auto-sklearn) (1.24.3)\n",
            "Requirement already satisfied: certifi>=2017.4.17 in /usr/local/lib/python3.6/dist-packages (from requests>=2.0.0->sphinx->smac==0.8->auto-sklearn) (2019.11.28)\n",
            "Requirement already satisfied: MarkupSafe>=0.23 in /usr/local/lib/python3.6/dist-packages (from Jinja2>=2.3->sphinx->smac==0.8->auto-sklearn) (1.1.1)\n",
            "Building wheels for collected packages: auto-sklearn, liac-arff, ConfigSpace, pynisher, pyrfr, smac\n",
            "  Building wheel for auto-sklearn (setup.py) ... \u001b[?25l\u001b[?25hdone\n",
            "  Created wheel for auto-sklearn: filename=auto_sklearn-0.6.0-cp36-cp36m-linux_x86_64.whl size=4267302 sha256=b43bafe1b86ede2550bbccbd304cd9360eec147b14f03bad02cc3441243ed0eb\n",
            "  Stored in directory: /root/.cache/pip/wheels/f2/23/80/ad8ee8b146f4f5ff02d87a3bf1dd7c27dc43a05631f7adc6a6\n",
            "  Building wheel for liac-arff (setup.py) ... \u001b[?25l\u001b[?25hdone\n",
            "  Created wheel for liac-arff: filename=liac_arff-2.4.0-cp36-none-any.whl size=13333 sha256=83a0ac7b4e8492282292b99d038e40ed46d5be0cb142e0a81bac3a8955aafbfa\n",
            "  Stored in directory: /root/.cache/pip/wheels/d1/6a/e7/529dc54d76ecede4346164a09ae3168df358945612710f5203\n",
            "  Building wheel for ConfigSpace (setup.py) ... \u001b[?25l\u001b[?25hdone\n",
            "  Created wheel for ConfigSpace: filename=ConfigSpace-0.4.11-cp36-cp36m-linux_x86_64.whl size=2907957 sha256=93f25c01e5d7f649d8ddc547b33d4baa321231c25ca73baedca2b8de1c683d89\n",
            "  Stored in directory: /root/.cache/pip/wheels/9f/bf/27/d224e97900342ebed7f81311458a572b557b99dd9492e00bf5\n",
            "  Building wheel for pynisher (setup.py) ... \u001b[?25l\u001b[?25hdone\n",
            "  Created wheel for pynisher: filename=pynisher-0.5.0-cp36-none-any.whl size=4360 sha256=59bcafc3331693491103dd453c41e0c12ce4e2fd8922793385bcdb9edd3a586f\n",
            "  Stored in directory: /root/.cache/pip/wheels/af/2a/c4/ec3abc8a2f786ef9786ea8fe6ff629a4e54812a3f98cc41b47\n",
            "  Building wheel for pyrfr (setup.py) ... \u001b[?25l\u001b[?25hdone\n",
            "  Created wheel for pyrfr: filename=pyrfr-0.8.0-cp36-cp36m-linux_x86_64.whl size=2540527 sha256=1210aaf481d80b300d2467211db103c4c9abf1780110070744c8bcd8be435b2c\n",
            "  Stored in directory: /root/.cache/pip/wheels/61/1a/d2/b5aee388a492a01946143d3c976b2ca810af537480e1f16999\n",
            "  Building wheel for smac (setup.py) ... \u001b[?25l\u001b[?25hdone\n",
            "  Created wheel for smac: filename=smac-0.8.0-cp36-none-any.whl size=97294 sha256=7ddc3aa4ded946bfdbf9b379e2eb355fe43bc82d5b5cde37c9d25b2cee152544\n",
            "  Stored in directory: /root/.cache/pip/wheels/12/52/83/d2d66a840968025d072ddb1cd776fdc5eb5e337e1cc887bc3f\n",
            "Successfully built auto-sklearn liac-arff ConfigSpace pynisher pyrfr smac\n",
            "Installing collected packages: nose, scikit-learn, lockfile, liac-arff, ConfigSpace, pynisher, pyrfr, sphinx-rtd-theme, smac, auto-sklearn\n",
            "  Found existing installation: scikit-learn 0.22.1\n",
            "    Uninstalling scikit-learn-0.22.1:\n",
            "      Successfully uninstalled scikit-learn-0.22.1\n",
            "Successfully installed ConfigSpace-0.4.11 auto-sklearn-0.6.0 liac-arff-2.4.0 lockfile-0.12.2 nose-1.3.7 pynisher-0.5.0 pyrfr-0.8.0 scikit-learn-0.21.3 smac-0.8.0 sphinx-rtd-theme-0.4.3\n"
          ],
          "name": "stdout"
        }
      ]
    },
    {
      "cell_type": "code",
      "metadata": {
        "id": "BDEFkh6IeJxN",
        "colab_type": "code",
        "colab": {}
      },
      "source": [
        "import pandas as pd\n",
        "import numpy as np\n",
        "import seaborn as sns\n",
        "import matplotlib.pyplot as plt\n",
        "import sys,os,urllib\n"
      ],
      "execution_count": 0,
      "outputs": []
    },
    {
      "cell_type": "markdown",
      "metadata": {
        "id": "M7_oFFfFXC8n",
        "colab_type": "text"
      },
      "source": [
        "## Import data \n",
        "\n",
        "https://github.com/srivatsan88/YouTubeLI"
      ]
    },
    {
      "cell_type": "code",
      "metadata": {
        "id": "DmlAU_bee_T6",
        "colab_type": "code",
        "colab": {}
      },
      "source": [
        "BASE_DIR = '/tmp'\n",
        "OUTPUT_FILE = os.path.join(BASE_DIR, 'churn_data.csv')"
      ],
      "execution_count": 0,
      "outputs": []
    },
    {
      "cell_type": "code",
      "metadata": {
        "id": "QE2YSlJwUPBT",
        "colab_type": "code",
        "colab": {}
      },
      "source": [
        "churn = urllib.request.urlretrieve('https://raw.githubusercontent.com/srivatsan88/YouTubeLI/master/dataset/WA_Fn-UseC_-Telco-Customer-Churn.csv', OUTPUT_FILE)"
      ],
      "execution_count": 0,
      "outputs": []
    },
    {
      "cell_type": "code",
      "metadata": {
        "id": "1g-EVjnifKOw",
        "colab_type": "code",
        "colab": {
          "base_uri": "https://localhost:8080/",
          "height": 309
        },
        "outputId": "81e22b2a-b3e5-4190-b269-2ce369d57599"
      },
      "source": [
        "churn_df = pd.read_csv('/tmp/churn_data.csv')\n",
        "churn_df.head()"
      ],
      "execution_count": 10,
      "outputs": [
        {
          "output_type": "execute_result",
          "data": {
            "text/html": [
              "<div>\n",
              "<style scoped>\n",
              "    .dataframe tbody tr th:only-of-type {\n",
              "        vertical-align: middle;\n",
              "    }\n",
              "\n",
              "    .dataframe tbody tr th {\n",
              "        vertical-align: top;\n",
              "    }\n",
              "\n",
              "    .dataframe thead th {\n",
              "        text-align: right;\n",
              "    }\n",
              "</style>\n",
              "<table border=\"1\" class=\"dataframe\">\n",
              "  <thead>\n",
              "    <tr style=\"text-align: right;\">\n",
              "      <th></th>\n",
              "      <th>customerID</th>\n",
              "      <th>gender</th>\n",
              "      <th>SeniorCitizen</th>\n",
              "      <th>Partner</th>\n",
              "      <th>Dependents</th>\n",
              "      <th>tenure</th>\n",
              "      <th>PhoneService</th>\n",
              "      <th>MultipleLines</th>\n",
              "      <th>InternetService</th>\n",
              "      <th>OnlineSecurity</th>\n",
              "      <th>OnlineBackup</th>\n",
              "      <th>DeviceProtection</th>\n",
              "      <th>TechSupport</th>\n",
              "      <th>StreamingTV</th>\n",
              "      <th>StreamingMovies</th>\n",
              "      <th>Contract</th>\n",
              "      <th>PaperlessBilling</th>\n",
              "      <th>PaymentMethod</th>\n",
              "      <th>MonthlyCharges</th>\n",
              "      <th>TotalCharges</th>\n",
              "      <th>Churn</th>\n",
              "    </tr>\n",
              "  </thead>\n",
              "  <tbody>\n",
              "    <tr>\n",
              "      <th>0</th>\n",
              "      <td>7590-VHVEG</td>\n",
              "      <td>Female</td>\n",
              "      <td>0</td>\n",
              "      <td>Yes</td>\n",
              "      <td>No</td>\n",
              "      <td>1</td>\n",
              "      <td>No</td>\n",
              "      <td>No phone service</td>\n",
              "      <td>DSL</td>\n",
              "      <td>No</td>\n",
              "      <td>Yes</td>\n",
              "      <td>No</td>\n",
              "      <td>No</td>\n",
              "      <td>No</td>\n",
              "      <td>No</td>\n",
              "      <td>Month-to-month</td>\n",
              "      <td>Yes</td>\n",
              "      <td>Electronic check</td>\n",
              "      <td>29.85</td>\n",
              "      <td>29.85</td>\n",
              "      <td>No</td>\n",
              "    </tr>\n",
              "    <tr>\n",
              "      <th>1</th>\n",
              "      <td>5575-GNVDE</td>\n",
              "      <td>Male</td>\n",
              "      <td>0</td>\n",
              "      <td>No</td>\n",
              "      <td>No</td>\n",
              "      <td>34</td>\n",
              "      <td>Yes</td>\n",
              "      <td>No</td>\n",
              "      <td>DSL</td>\n",
              "      <td>Yes</td>\n",
              "      <td>No</td>\n",
              "      <td>Yes</td>\n",
              "      <td>No</td>\n",
              "      <td>No</td>\n",
              "      <td>No</td>\n",
              "      <td>One year</td>\n",
              "      <td>No</td>\n",
              "      <td>Mailed check</td>\n",
              "      <td>56.95</td>\n",
              "      <td>1889.5</td>\n",
              "      <td>No</td>\n",
              "    </tr>\n",
              "    <tr>\n",
              "      <th>2</th>\n",
              "      <td>3668-QPYBK</td>\n",
              "      <td>Male</td>\n",
              "      <td>0</td>\n",
              "      <td>No</td>\n",
              "      <td>No</td>\n",
              "      <td>2</td>\n",
              "      <td>Yes</td>\n",
              "      <td>No</td>\n",
              "      <td>DSL</td>\n",
              "      <td>Yes</td>\n",
              "      <td>Yes</td>\n",
              "      <td>No</td>\n",
              "      <td>No</td>\n",
              "      <td>No</td>\n",
              "      <td>No</td>\n",
              "      <td>Month-to-month</td>\n",
              "      <td>Yes</td>\n",
              "      <td>Mailed check</td>\n",
              "      <td>53.85</td>\n",
              "      <td>108.15</td>\n",
              "      <td>Yes</td>\n",
              "    </tr>\n",
              "    <tr>\n",
              "      <th>3</th>\n",
              "      <td>7795-CFOCW</td>\n",
              "      <td>Male</td>\n",
              "      <td>0</td>\n",
              "      <td>No</td>\n",
              "      <td>No</td>\n",
              "      <td>45</td>\n",
              "      <td>No</td>\n",
              "      <td>No phone service</td>\n",
              "      <td>DSL</td>\n",
              "      <td>Yes</td>\n",
              "      <td>No</td>\n",
              "      <td>Yes</td>\n",
              "      <td>Yes</td>\n",
              "      <td>No</td>\n",
              "      <td>No</td>\n",
              "      <td>One year</td>\n",
              "      <td>No</td>\n",
              "      <td>Bank transfer (automatic)</td>\n",
              "      <td>42.30</td>\n",
              "      <td>1840.75</td>\n",
              "      <td>No</td>\n",
              "    </tr>\n",
              "    <tr>\n",
              "      <th>4</th>\n",
              "      <td>9237-HQITU</td>\n",
              "      <td>Female</td>\n",
              "      <td>0</td>\n",
              "      <td>No</td>\n",
              "      <td>No</td>\n",
              "      <td>2</td>\n",
              "      <td>Yes</td>\n",
              "      <td>No</td>\n",
              "      <td>Fiber optic</td>\n",
              "      <td>No</td>\n",
              "      <td>No</td>\n",
              "      <td>No</td>\n",
              "      <td>No</td>\n",
              "      <td>No</td>\n",
              "      <td>No</td>\n",
              "      <td>Month-to-month</td>\n",
              "      <td>Yes</td>\n",
              "      <td>Electronic check</td>\n",
              "      <td>70.70</td>\n",
              "      <td>151.65</td>\n",
              "      <td>Yes</td>\n",
              "    </tr>\n",
              "  </tbody>\n",
              "</table>\n",
              "</div>"
            ],
            "text/plain": [
              "   customerID  gender  SeniorCitizen  ... MonthlyCharges TotalCharges  Churn\n",
              "0  7590-VHVEG  Female              0  ...          29.85        29.85     No\n",
              "1  5575-GNVDE    Male              0  ...          56.95       1889.5     No\n",
              "2  3668-QPYBK    Male              0  ...          53.85       108.15    Yes\n",
              "3  7795-CFOCW    Male              0  ...          42.30      1840.75     No\n",
              "4  9237-HQITU  Female              0  ...          70.70       151.65    Yes\n",
              "\n",
              "[5 rows x 21 columns]"
            ]
          },
          "metadata": {
            "tags": []
          },
          "execution_count": 10
        }
      ]
    },
    {
      "cell_type": "code",
      "metadata": {
        "id": "uAy3RsQagN89",
        "colab_type": "code",
        "colab": {
          "base_uri": "https://localhost:8080/",
          "height": 34
        },
        "outputId": "dd3585e1-8c4c-43c5-cea4-4edccc036cc9"
      },
      "source": [
        "churn_df.shape"
      ],
      "execution_count": 17,
      "outputs": [
        {
          "output_type": "execute_result",
          "data": {
            "text/plain": [
              "(7043, 21)"
            ]
          },
          "metadata": {
            "tags": []
          },
          "execution_count": 17
        }
      ]
    },
    {
      "cell_type": "markdown",
      "metadata": {
        "id": "-O655SyrfUpQ",
        "colab_type": "text"
      },
      "source": [
        "## Summarry Statistics"
      ]
    },
    {
      "cell_type": "code",
      "metadata": {
        "id": "l_O4YZd3fXJJ",
        "colab_type": "code",
        "colab": {
          "base_uri": "https://localhost:8080/",
          "height": 459
        },
        "outputId": "ad4857ab-652a-4e20-a4c7-f25ace94182f"
      },
      "source": [
        "churn_df.info()"
      ],
      "execution_count": 11,
      "outputs": [
        {
          "output_type": "stream",
          "text": [
            "<class 'pandas.core.frame.DataFrame'>\n",
            "RangeIndex: 7043 entries, 0 to 7042\n",
            "Data columns (total 21 columns):\n",
            "customerID          7043 non-null object\n",
            "gender              7043 non-null object\n",
            "SeniorCitizen       7043 non-null int64\n",
            "Partner             7043 non-null object\n",
            "Dependents          7043 non-null object\n",
            "tenure              7043 non-null int64\n",
            "PhoneService        7043 non-null object\n",
            "MultipleLines       7043 non-null object\n",
            "InternetService     7043 non-null object\n",
            "OnlineSecurity      7043 non-null object\n",
            "OnlineBackup        7043 non-null object\n",
            "DeviceProtection    7043 non-null object\n",
            "TechSupport         7043 non-null object\n",
            "StreamingTV         7043 non-null object\n",
            "StreamingMovies     7043 non-null object\n",
            "Contract            7043 non-null object\n",
            "PaperlessBilling    7043 non-null object\n",
            "PaymentMethod       7043 non-null object\n",
            "MonthlyCharges      7043 non-null float64\n",
            "TotalCharges        7043 non-null object\n",
            "Churn               7043 non-null object\n",
            "dtypes: float64(1), int64(2), object(18)\n",
            "memory usage: 1.1+ MB\n"
          ],
          "name": "stdout"
        }
      ]
    },
    {
      "cell_type": "code",
      "metadata": {
        "id": "Ccmlqmzcfpan",
        "colab_type": "code",
        "colab": {
          "base_uri": "https://localhost:8080/",
          "height": 297
        },
        "outputId": "4a128861-1a97-417e-918a-5450564f54b3"
      },
      "source": [
        "churn_df.describe()"
      ],
      "execution_count": 12,
      "outputs": [
        {
          "output_type": "execute_result",
          "data": {
            "text/html": [
              "<div>\n",
              "<style scoped>\n",
              "    .dataframe tbody tr th:only-of-type {\n",
              "        vertical-align: middle;\n",
              "    }\n",
              "\n",
              "    .dataframe tbody tr th {\n",
              "        vertical-align: top;\n",
              "    }\n",
              "\n",
              "    .dataframe thead th {\n",
              "        text-align: right;\n",
              "    }\n",
              "</style>\n",
              "<table border=\"1\" class=\"dataframe\">\n",
              "  <thead>\n",
              "    <tr style=\"text-align: right;\">\n",
              "      <th></th>\n",
              "      <th>SeniorCitizen</th>\n",
              "      <th>tenure</th>\n",
              "      <th>MonthlyCharges</th>\n",
              "    </tr>\n",
              "  </thead>\n",
              "  <tbody>\n",
              "    <tr>\n",
              "      <th>count</th>\n",
              "      <td>7043.000000</td>\n",
              "      <td>7043.000000</td>\n",
              "      <td>7043.000000</td>\n",
              "    </tr>\n",
              "    <tr>\n",
              "      <th>mean</th>\n",
              "      <td>0.162147</td>\n",
              "      <td>32.371149</td>\n",
              "      <td>64.761692</td>\n",
              "    </tr>\n",
              "    <tr>\n",
              "      <th>std</th>\n",
              "      <td>0.368612</td>\n",
              "      <td>24.559481</td>\n",
              "      <td>30.090047</td>\n",
              "    </tr>\n",
              "    <tr>\n",
              "      <th>min</th>\n",
              "      <td>0.000000</td>\n",
              "      <td>0.000000</td>\n",
              "      <td>18.250000</td>\n",
              "    </tr>\n",
              "    <tr>\n",
              "      <th>25%</th>\n",
              "      <td>0.000000</td>\n",
              "      <td>9.000000</td>\n",
              "      <td>35.500000</td>\n",
              "    </tr>\n",
              "    <tr>\n",
              "      <th>50%</th>\n",
              "      <td>0.000000</td>\n",
              "      <td>29.000000</td>\n",
              "      <td>70.350000</td>\n",
              "    </tr>\n",
              "    <tr>\n",
              "      <th>75%</th>\n",
              "      <td>0.000000</td>\n",
              "      <td>55.000000</td>\n",
              "      <td>89.850000</td>\n",
              "    </tr>\n",
              "    <tr>\n",
              "      <th>max</th>\n",
              "      <td>1.000000</td>\n",
              "      <td>72.000000</td>\n",
              "      <td>118.750000</td>\n",
              "    </tr>\n",
              "  </tbody>\n",
              "</table>\n",
              "</div>"
            ],
            "text/plain": [
              "       SeniorCitizen       tenure  MonthlyCharges\n",
              "count    7043.000000  7043.000000     7043.000000\n",
              "mean        0.162147    32.371149       64.761692\n",
              "std         0.368612    24.559481       30.090047\n",
              "min         0.000000     0.000000       18.250000\n",
              "25%         0.000000     9.000000       35.500000\n",
              "50%         0.000000    29.000000       70.350000\n",
              "75%         0.000000    55.000000       89.850000\n",
              "max         1.000000    72.000000      118.750000"
            ]
          },
          "metadata": {
            "tags": []
          },
          "execution_count": 12
        }
      ]
    },
    {
      "cell_type": "code",
      "metadata": {
        "id": "v7_WLl70funj",
        "colab_type": "code",
        "colab": {
          "base_uri": "https://localhost:8080/",
          "height": 210
        },
        "outputId": "86f8566a-e986-4588-ca24-2e07fc26a075"
      },
      "source": [
        "churn_df.describe(include='O')"
      ],
      "execution_count": 14,
      "outputs": [
        {
          "output_type": "execute_result",
          "data": {
            "text/html": [
              "<div>\n",
              "<style scoped>\n",
              "    .dataframe tbody tr th:only-of-type {\n",
              "        vertical-align: middle;\n",
              "    }\n",
              "\n",
              "    .dataframe tbody tr th {\n",
              "        vertical-align: top;\n",
              "    }\n",
              "\n",
              "    .dataframe thead th {\n",
              "        text-align: right;\n",
              "    }\n",
              "</style>\n",
              "<table border=\"1\" class=\"dataframe\">\n",
              "  <thead>\n",
              "    <tr style=\"text-align: right;\">\n",
              "      <th></th>\n",
              "      <th>customerID</th>\n",
              "      <th>gender</th>\n",
              "      <th>Partner</th>\n",
              "      <th>Dependents</th>\n",
              "      <th>PhoneService</th>\n",
              "      <th>MultipleLines</th>\n",
              "      <th>InternetService</th>\n",
              "      <th>OnlineSecurity</th>\n",
              "      <th>OnlineBackup</th>\n",
              "      <th>DeviceProtection</th>\n",
              "      <th>TechSupport</th>\n",
              "      <th>StreamingTV</th>\n",
              "      <th>StreamingMovies</th>\n",
              "      <th>Contract</th>\n",
              "      <th>PaperlessBilling</th>\n",
              "      <th>PaymentMethod</th>\n",
              "      <th>TotalCharges</th>\n",
              "      <th>Churn</th>\n",
              "    </tr>\n",
              "  </thead>\n",
              "  <tbody>\n",
              "    <tr>\n",
              "      <th>count</th>\n",
              "      <td>7043</td>\n",
              "      <td>7043</td>\n",
              "      <td>7043</td>\n",
              "      <td>7043</td>\n",
              "      <td>7043</td>\n",
              "      <td>7043</td>\n",
              "      <td>7043</td>\n",
              "      <td>7043</td>\n",
              "      <td>7043</td>\n",
              "      <td>7043</td>\n",
              "      <td>7043</td>\n",
              "      <td>7043</td>\n",
              "      <td>7043</td>\n",
              "      <td>7043</td>\n",
              "      <td>7043</td>\n",
              "      <td>7043</td>\n",
              "      <td>7043</td>\n",
              "      <td>7043</td>\n",
              "    </tr>\n",
              "    <tr>\n",
              "      <th>unique</th>\n",
              "      <td>7043</td>\n",
              "      <td>2</td>\n",
              "      <td>2</td>\n",
              "      <td>2</td>\n",
              "      <td>2</td>\n",
              "      <td>3</td>\n",
              "      <td>3</td>\n",
              "      <td>3</td>\n",
              "      <td>3</td>\n",
              "      <td>3</td>\n",
              "      <td>3</td>\n",
              "      <td>3</td>\n",
              "      <td>3</td>\n",
              "      <td>3</td>\n",
              "      <td>2</td>\n",
              "      <td>4</td>\n",
              "      <td>6531</td>\n",
              "      <td>2</td>\n",
              "    </tr>\n",
              "    <tr>\n",
              "      <th>top</th>\n",
              "      <td>0221-WMXNQ</td>\n",
              "      <td>Male</td>\n",
              "      <td>No</td>\n",
              "      <td>No</td>\n",
              "      <td>Yes</td>\n",
              "      <td>No</td>\n",
              "      <td>Fiber optic</td>\n",
              "      <td>No</td>\n",
              "      <td>No</td>\n",
              "      <td>No</td>\n",
              "      <td>No</td>\n",
              "      <td>No</td>\n",
              "      <td>No</td>\n",
              "      <td>Month-to-month</td>\n",
              "      <td>Yes</td>\n",
              "      <td>Electronic check</td>\n",
              "      <td>20.2</td>\n",
              "      <td>No</td>\n",
              "    </tr>\n",
              "    <tr>\n",
              "      <th>freq</th>\n",
              "      <td>1</td>\n",
              "      <td>3555</td>\n",
              "      <td>3641</td>\n",
              "      <td>4933</td>\n",
              "      <td>6361</td>\n",
              "      <td>3390</td>\n",
              "      <td>3096</td>\n",
              "      <td>3498</td>\n",
              "      <td>3088</td>\n",
              "      <td>3095</td>\n",
              "      <td>3473</td>\n",
              "      <td>2810</td>\n",
              "      <td>2785</td>\n",
              "      <td>3875</td>\n",
              "      <td>4171</td>\n",
              "      <td>2365</td>\n",
              "      <td>11</td>\n",
              "      <td>5174</td>\n",
              "    </tr>\n",
              "  </tbody>\n",
              "</table>\n",
              "</div>"
            ],
            "text/plain": [
              "        customerID gender Partner  ...     PaymentMethod TotalCharges Churn\n",
              "count         7043   7043    7043  ...              7043         7043  7043\n",
              "unique        7043      2       2  ...                 4         6531     2\n",
              "top     0221-WMXNQ   Male      No  ...  Electronic check         20.2    No\n",
              "freq             1   3555    3641  ...              2365           11  5174\n",
              "\n",
              "[4 rows x 18 columns]"
            ]
          },
          "metadata": {
            "tags": []
          },
          "execution_count": 14
        }
      ]
    },
    {
      "cell_type": "markdown",
      "metadata": {
        "id": "hiY1NaxRf2Jf",
        "colab_type": "text"
      },
      "source": [
        "##Check for Null Values"
      ]
    },
    {
      "cell_type": "code",
      "metadata": {
        "id": "ZrydfsmWf458",
        "colab_type": "code",
        "colab": {
          "base_uri": "https://localhost:8080/",
          "height": 34
        },
        "outputId": "3aaf7579-de38-4a2d-c90f-1aadd9f72fb6"
      },
      "source": [
        "churn_df.isnull().sum()[churn_df.isnull().sum() > 0]"
      ],
      "execution_count": 15,
      "outputs": [
        {
          "output_type": "execute_result",
          "data": {
            "text/plain": [
              "Series([], dtype: int64)"
            ]
          },
          "metadata": {
            "tags": []
          },
          "execution_count": 15
        }
      ]
    },
    {
      "cell_type": "code",
      "metadata": {
        "id": "Y5tkZ1eOgIcN",
        "colab_type": "code",
        "colab": {
          "base_uri": "https://localhost:8080/",
          "height": 119
        },
        "outputId": "28314151-6442-4873-90e4-71dbe951a044"
      },
      "source": [
        "churn_df.iloc[:, 19].head()"
      ],
      "execution_count": 16,
      "outputs": [
        {
          "output_type": "execute_result",
          "data": {
            "text/plain": [
              "0      29.85\n",
              "1     1889.5\n",
              "2     108.15\n",
              "3    1840.75\n",
              "4     151.65\n",
              "Name: TotalCharges, dtype: object"
            ]
          },
          "metadata": {
            "tags": []
          },
          "execution_count": 16
        }
      ]
    },
    {
      "cell_type": "markdown",
      "metadata": {
        "id": "VuazfsIKgaRH",
        "colab_type": "text"
      },
      "source": [
        "## Change datatype of TotalCharges to numeric"
      ]
    },
    {
      "cell_type": "code",
      "metadata": {
        "id": "xD8IEK_FghAO",
        "colab_type": "code",
        "colab": {}
      },
      "source": [
        "churn_df['TotalCharges'] = pd.to_numeric(churn_df['TotalCharges'],errors ='coerce')"
      ],
      "execution_count": 0,
      "outputs": []
    },
    {
      "cell_type": "code",
      "metadata": {
        "id": "UkoLxT_-g9Zb",
        "colab_type": "code",
        "colab": {
          "base_uri": "https://localhost:8080/",
          "height": 34
        },
        "outputId": "6abd65cd-3b74-45ba-8d7e-75dc731d6532"
      },
      "source": [
        "churn_df['TotalCharges'].dtype"
      ],
      "execution_count": 22,
      "outputs": [
        {
          "output_type": "execute_result",
          "data": {
            "text/plain": [
              "dtype('float64')"
            ]
          },
          "metadata": {
            "tags": []
          },
          "execution_count": 22
        }
      ]
    },
    {
      "cell_type": "markdown",
      "metadata": {
        "id": "i0HAlCnHhZN1",
        "colab_type": "text"
      },
      "source": [
        "## Replace special characters if any"
      ]
    },
    {
      "cell_type": "code",
      "metadata": {
        "id": "QqOhP-wshciq",
        "colab_type": "code",
        "colab": {}
      },
      "source": [
        "churn_df = churn_df.replace(r'^\\s*$', np.nan, regex=True)"
      ],
      "execution_count": 0,
      "outputs": []
    },
    {
      "cell_type": "markdown",
      "metadata": {
        "id": "SxRaNXUBhh5f",
        "colab_type": "text"
      },
      "source": [
        "## Label Encoding"
      ]
    },
    {
      "cell_type": "code",
      "metadata": {
        "id": "MNV0ZbDAh6xl",
        "colab_type": "code",
        "colab": {}
      },
      "source": [
        "from sklearn.compose import make_column_transformer\n",
        "from sklearn.preprocessing import OrdinalEncoder\n",
        "\n",
        "categorical_columns = [ col for col in churn_df.columns if churn_df[col].dtype == 'object']"
      ],
      "execution_count": 0,
      "outputs": []
    },
    {
      "cell_type": "code",
      "metadata": {
        "id": "Mkuw4uZUirYf",
        "colab_type": "code",
        "colab": {}
      },
      "source": [
        "column_transform = make_column_transformer((OrdinalEncoder(),categorical_columns))\n",
        "churn_transformed = column_transform.fit_transform(churn_df)"
      ],
      "execution_count": 0,
      "outputs": []
    },
    {
      "cell_type": "code",
      "metadata": {
        "id": "C6u98nt-jHbX",
        "colab_type": "code",
        "colab": {
          "base_uri": "https://localhost:8080/",
          "height": 221
        },
        "outputId": "fd63cf13-f2b1-4286-8473-413605740457"
      },
      "source": [
        "churn_transformed[1:5,]"
      ],
      "execution_count": 30,
      "outputs": [
        {
          "output_type": "execute_result",
          "data": {
            "text/plain": [
              "array([[3.962e+03, 1.000e+00, 0.000e+00, 0.000e+00, 1.000e+00, 0.000e+00,\n",
              "        0.000e+00, 2.000e+00, 0.000e+00, 2.000e+00, 0.000e+00, 0.000e+00,\n",
              "        0.000e+00, 1.000e+00, 0.000e+00, 3.000e+00, 0.000e+00],\n",
              "       [2.564e+03, 1.000e+00, 0.000e+00, 0.000e+00, 1.000e+00, 0.000e+00,\n",
              "        0.000e+00, 2.000e+00, 2.000e+00, 0.000e+00, 0.000e+00, 0.000e+00,\n",
              "        0.000e+00, 0.000e+00, 1.000e+00, 3.000e+00, 1.000e+00],\n",
              "       [5.535e+03, 1.000e+00, 0.000e+00, 0.000e+00, 0.000e+00, 1.000e+00,\n",
              "        0.000e+00, 2.000e+00, 0.000e+00, 2.000e+00, 2.000e+00, 0.000e+00,\n",
              "        0.000e+00, 1.000e+00, 0.000e+00, 0.000e+00, 0.000e+00],\n",
              "       [6.511e+03, 0.000e+00, 0.000e+00, 0.000e+00, 1.000e+00, 0.000e+00,\n",
              "        1.000e+00, 0.000e+00, 0.000e+00, 0.000e+00, 0.000e+00, 0.000e+00,\n",
              "        0.000e+00, 0.000e+00, 1.000e+00, 2.000e+00, 1.000e+00]])"
            ]
          },
          "metadata": {
            "tags": []
          },
          "execution_count": 30
        }
      ]
    },
    {
      "cell_type": "code",
      "metadata": {
        "id": "anbZiOzBjUEP",
        "colab_type": "code",
        "colab": {
          "base_uri": "https://localhost:8080/",
          "height": 224
        },
        "outputId": "6f061406-615b-4ee9-bd65-fe455175ab65"
      },
      "source": [
        "churn_df_transformed = pd.DataFrame(churn_transformed,columns= categorical_columns).astype('int')\n",
        "churn_df_transformed.head()"
      ],
      "execution_count": 32,
      "outputs": [
        {
          "output_type": "execute_result",
          "data": {
            "text/html": [
              "<div>\n",
              "<style scoped>\n",
              "    .dataframe tbody tr th:only-of-type {\n",
              "        vertical-align: middle;\n",
              "    }\n",
              "\n",
              "    .dataframe tbody tr th {\n",
              "        vertical-align: top;\n",
              "    }\n",
              "\n",
              "    .dataframe thead th {\n",
              "        text-align: right;\n",
              "    }\n",
              "</style>\n",
              "<table border=\"1\" class=\"dataframe\">\n",
              "  <thead>\n",
              "    <tr style=\"text-align: right;\">\n",
              "      <th></th>\n",
              "      <th>customerID</th>\n",
              "      <th>gender</th>\n",
              "      <th>Partner</th>\n",
              "      <th>Dependents</th>\n",
              "      <th>PhoneService</th>\n",
              "      <th>MultipleLines</th>\n",
              "      <th>InternetService</th>\n",
              "      <th>OnlineSecurity</th>\n",
              "      <th>OnlineBackup</th>\n",
              "      <th>DeviceProtection</th>\n",
              "      <th>TechSupport</th>\n",
              "      <th>StreamingTV</th>\n",
              "      <th>StreamingMovies</th>\n",
              "      <th>Contract</th>\n",
              "      <th>PaperlessBilling</th>\n",
              "      <th>PaymentMethod</th>\n",
              "      <th>Churn</th>\n",
              "    </tr>\n",
              "  </thead>\n",
              "  <tbody>\n",
              "    <tr>\n",
              "      <th>0</th>\n",
              "      <td>5375</td>\n",
              "      <td>0</td>\n",
              "      <td>1</td>\n",
              "      <td>0</td>\n",
              "      <td>0</td>\n",
              "      <td>1</td>\n",
              "      <td>0</td>\n",
              "      <td>0</td>\n",
              "      <td>2</td>\n",
              "      <td>0</td>\n",
              "      <td>0</td>\n",
              "      <td>0</td>\n",
              "      <td>0</td>\n",
              "      <td>0</td>\n",
              "      <td>1</td>\n",
              "      <td>2</td>\n",
              "      <td>0</td>\n",
              "    </tr>\n",
              "    <tr>\n",
              "      <th>1</th>\n",
              "      <td>3962</td>\n",
              "      <td>1</td>\n",
              "      <td>0</td>\n",
              "      <td>0</td>\n",
              "      <td>1</td>\n",
              "      <td>0</td>\n",
              "      <td>0</td>\n",
              "      <td>2</td>\n",
              "      <td>0</td>\n",
              "      <td>2</td>\n",
              "      <td>0</td>\n",
              "      <td>0</td>\n",
              "      <td>0</td>\n",
              "      <td>1</td>\n",
              "      <td>0</td>\n",
              "      <td>3</td>\n",
              "      <td>0</td>\n",
              "    </tr>\n",
              "    <tr>\n",
              "      <th>2</th>\n",
              "      <td>2564</td>\n",
              "      <td>1</td>\n",
              "      <td>0</td>\n",
              "      <td>0</td>\n",
              "      <td>1</td>\n",
              "      <td>0</td>\n",
              "      <td>0</td>\n",
              "      <td>2</td>\n",
              "      <td>2</td>\n",
              "      <td>0</td>\n",
              "      <td>0</td>\n",
              "      <td>0</td>\n",
              "      <td>0</td>\n",
              "      <td>0</td>\n",
              "      <td>1</td>\n",
              "      <td>3</td>\n",
              "      <td>1</td>\n",
              "    </tr>\n",
              "    <tr>\n",
              "      <th>3</th>\n",
              "      <td>5535</td>\n",
              "      <td>1</td>\n",
              "      <td>0</td>\n",
              "      <td>0</td>\n",
              "      <td>0</td>\n",
              "      <td>1</td>\n",
              "      <td>0</td>\n",
              "      <td>2</td>\n",
              "      <td>0</td>\n",
              "      <td>2</td>\n",
              "      <td>2</td>\n",
              "      <td>0</td>\n",
              "      <td>0</td>\n",
              "      <td>1</td>\n",
              "      <td>0</td>\n",
              "      <td>0</td>\n",
              "      <td>0</td>\n",
              "    </tr>\n",
              "    <tr>\n",
              "      <th>4</th>\n",
              "      <td>6511</td>\n",
              "      <td>0</td>\n",
              "      <td>0</td>\n",
              "      <td>0</td>\n",
              "      <td>1</td>\n",
              "      <td>0</td>\n",
              "      <td>1</td>\n",
              "      <td>0</td>\n",
              "      <td>0</td>\n",
              "      <td>0</td>\n",
              "      <td>0</td>\n",
              "      <td>0</td>\n",
              "      <td>0</td>\n",
              "      <td>0</td>\n",
              "      <td>1</td>\n",
              "      <td>2</td>\n",
              "      <td>1</td>\n",
              "    </tr>\n",
              "  </tbody>\n",
              "</table>\n",
              "</div>"
            ],
            "text/plain": [
              "   customerID  gender  Partner  ...  PaperlessBilling  PaymentMethod  Churn\n",
              "0        5375       0        1  ...                 1              2      0\n",
              "1        3962       1        0  ...                 0              3      0\n",
              "2        2564       1        0  ...                 1              3      1\n",
              "3        5535       1        0  ...                 0              0      0\n",
              "4        6511       0        0  ...                 1              2      1\n",
              "\n",
              "[5 rows x 17 columns]"
            ]
          },
          "metadata": {
            "tags": []
          },
          "execution_count": 32
        }
      ]
    },
    {
      "cell_type": "markdown",
      "metadata": {
        "id": "jLx2ebXDlyzO",
        "colab_type": "text"
      },
      "source": [
        "## Combining Preprocessed Data"
      ]
    },
    {
      "cell_type": "code",
      "metadata": {
        "id": "4bA42G9FjurW",
        "colab_type": "code",
        "colab": {}
      },
      "source": [
        "churn_df.update(churn_df_transformed)"
      ],
      "execution_count": 0,
      "outputs": []
    },
    {
      "cell_type": "code",
      "metadata": {
        "id": "OYuYe9RCkCSM",
        "colab_type": "code",
        "colab": {
          "base_uri": "https://localhost:8080/",
          "height": 34
        },
        "outputId": "78071a48-a9a9-4fd0-c2f5-6d4c4b84a489"
      },
      "source": [
        "churn_df.shape"
      ],
      "execution_count": 36,
      "outputs": [
        {
          "output_type": "execute_result",
          "data": {
            "text/plain": [
              "(7043, 21)"
            ]
          },
          "metadata": {
            "tags": []
          },
          "execution_count": 36
        }
      ]
    },
    {
      "cell_type": "code",
      "metadata": {
        "id": "l6bpKjZMkJ_1",
        "colab_type": "code",
        "colab": {
          "base_uri": "https://localhost:8080/",
          "height": 224
        },
        "outputId": "61b9a49a-3f5e-491b-ca21-f5c5c96d8617"
      },
      "source": [
        "churn_df.head()"
      ],
      "execution_count": 37,
      "outputs": [
        {
          "output_type": "execute_result",
          "data": {
            "text/html": [
              "<div>\n",
              "<style scoped>\n",
              "    .dataframe tbody tr th:only-of-type {\n",
              "        vertical-align: middle;\n",
              "    }\n",
              "\n",
              "    .dataframe tbody tr th {\n",
              "        vertical-align: top;\n",
              "    }\n",
              "\n",
              "    .dataframe thead th {\n",
              "        text-align: right;\n",
              "    }\n",
              "</style>\n",
              "<table border=\"1\" class=\"dataframe\">\n",
              "  <thead>\n",
              "    <tr style=\"text-align: right;\">\n",
              "      <th></th>\n",
              "      <th>customerID</th>\n",
              "      <th>gender</th>\n",
              "      <th>SeniorCitizen</th>\n",
              "      <th>Partner</th>\n",
              "      <th>Dependents</th>\n",
              "      <th>tenure</th>\n",
              "      <th>PhoneService</th>\n",
              "      <th>MultipleLines</th>\n",
              "      <th>InternetService</th>\n",
              "      <th>OnlineSecurity</th>\n",
              "      <th>OnlineBackup</th>\n",
              "      <th>DeviceProtection</th>\n",
              "      <th>TechSupport</th>\n",
              "      <th>StreamingTV</th>\n",
              "      <th>StreamingMovies</th>\n",
              "      <th>Contract</th>\n",
              "      <th>PaperlessBilling</th>\n",
              "      <th>PaymentMethod</th>\n",
              "      <th>MonthlyCharges</th>\n",
              "      <th>TotalCharges</th>\n",
              "      <th>Churn</th>\n",
              "    </tr>\n",
              "  </thead>\n",
              "  <tbody>\n",
              "    <tr>\n",
              "      <th>0</th>\n",
              "      <td>5375</td>\n",
              "      <td>0</td>\n",
              "      <td>0</td>\n",
              "      <td>1</td>\n",
              "      <td>0</td>\n",
              "      <td>1</td>\n",
              "      <td>0</td>\n",
              "      <td>1</td>\n",
              "      <td>0</td>\n",
              "      <td>0</td>\n",
              "      <td>2</td>\n",
              "      <td>0</td>\n",
              "      <td>0</td>\n",
              "      <td>0</td>\n",
              "      <td>0</td>\n",
              "      <td>0</td>\n",
              "      <td>1</td>\n",
              "      <td>2</td>\n",
              "      <td>29.85</td>\n",
              "      <td>29.85</td>\n",
              "      <td>0</td>\n",
              "    </tr>\n",
              "    <tr>\n",
              "      <th>1</th>\n",
              "      <td>3962</td>\n",
              "      <td>1</td>\n",
              "      <td>0</td>\n",
              "      <td>0</td>\n",
              "      <td>0</td>\n",
              "      <td>34</td>\n",
              "      <td>1</td>\n",
              "      <td>0</td>\n",
              "      <td>0</td>\n",
              "      <td>2</td>\n",
              "      <td>0</td>\n",
              "      <td>2</td>\n",
              "      <td>0</td>\n",
              "      <td>0</td>\n",
              "      <td>0</td>\n",
              "      <td>1</td>\n",
              "      <td>0</td>\n",
              "      <td>3</td>\n",
              "      <td>56.95</td>\n",
              "      <td>1889.50</td>\n",
              "      <td>0</td>\n",
              "    </tr>\n",
              "    <tr>\n",
              "      <th>2</th>\n",
              "      <td>2564</td>\n",
              "      <td>1</td>\n",
              "      <td>0</td>\n",
              "      <td>0</td>\n",
              "      <td>0</td>\n",
              "      <td>2</td>\n",
              "      <td>1</td>\n",
              "      <td>0</td>\n",
              "      <td>0</td>\n",
              "      <td>2</td>\n",
              "      <td>2</td>\n",
              "      <td>0</td>\n",
              "      <td>0</td>\n",
              "      <td>0</td>\n",
              "      <td>0</td>\n",
              "      <td>0</td>\n",
              "      <td>1</td>\n",
              "      <td>3</td>\n",
              "      <td>53.85</td>\n",
              "      <td>108.15</td>\n",
              "      <td>1</td>\n",
              "    </tr>\n",
              "    <tr>\n",
              "      <th>3</th>\n",
              "      <td>5535</td>\n",
              "      <td>1</td>\n",
              "      <td>0</td>\n",
              "      <td>0</td>\n",
              "      <td>0</td>\n",
              "      <td>45</td>\n",
              "      <td>0</td>\n",
              "      <td>1</td>\n",
              "      <td>0</td>\n",
              "      <td>2</td>\n",
              "      <td>0</td>\n",
              "      <td>2</td>\n",
              "      <td>2</td>\n",
              "      <td>0</td>\n",
              "      <td>0</td>\n",
              "      <td>1</td>\n",
              "      <td>0</td>\n",
              "      <td>0</td>\n",
              "      <td>42.30</td>\n",
              "      <td>1840.75</td>\n",
              "      <td>0</td>\n",
              "    </tr>\n",
              "    <tr>\n",
              "      <th>4</th>\n",
              "      <td>6511</td>\n",
              "      <td>0</td>\n",
              "      <td>0</td>\n",
              "      <td>0</td>\n",
              "      <td>0</td>\n",
              "      <td>2</td>\n",
              "      <td>1</td>\n",
              "      <td>0</td>\n",
              "      <td>1</td>\n",
              "      <td>0</td>\n",
              "      <td>0</td>\n",
              "      <td>0</td>\n",
              "      <td>0</td>\n",
              "      <td>0</td>\n",
              "      <td>0</td>\n",
              "      <td>0</td>\n",
              "      <td>1</td>\n",
              "      <td>2</td>\n",
              "      <td>70.70</td>\n",
              "      <td>151.65</td>\n",
              "      <td>1</td>\n",
              "    </tr>\n",
              "  </tbody>\n",
              "</table>\n",
              "</div>"
            ],
            "text/plain": [
              "  customerID gender  SeniorCitizen  ... MonthlyCharges TotalCharges  Churn\n",
              "0       5375      0              0  ...          29.85        29.85      0\n",
              "1       3962      1              0  ...          56.95      1889.50      0\n",
              "2       2564      1              0  ...          53.85       108.15      1\n",
              "3       5535      1              0  ...          42.30      1840.75      0\n",
              "4       6511      0              0  ...          70.70       151.65      1\n",
              "\n",
              "[5 rows x 21 columns]"
            ]
          },
          "metadata": {
            "tags": []
          },
          "execution_count": 37
        }
      ]
    },
    {
      "cell_type": "code",
      "metadata": {
        "id": "0UqTcfzWkOAM",
        "colab_type": "code",
        "colab": {
          "base_uri": "https://localhost:8080/",
          "height": 459
        },
        "outputId": "a33f8e65-a066-443f-bc0d-b08adedcdb96"
      },
      "source": [
        "churn_df.info()"
      ],
      "execution_count": 38,
      "outputs": [
        {
          "output_type": "stream",
          "text": [
            "<class 'pandas.core.frame.DataFrame'>\n",
            "RangeIndex: 7043 entries, 0 to 7042\n",
            "Data columns (total 21 columns):\n",
            "customerID          7043 non-null object\n",
            "gender              7043 non-null object\n",
            "SeniorCitizen       7043 non-null int64\n",
            "Partner             7043 non-null object\n",
            "Dependents          7043 non-null object\n",
            "tenure              7043 non-null int64\n",
            "PhoneService        7043 non-null object\n",
            "MultipleLines       7043 non-null object\n",
            "InternetService     7043 non-null object\n",
            "OnlineSecurity      7043 non-null object\n",
            "OnlineBackup        7043 non-null object\n",
            "DeviceProtection    7043 non-null object\n",
            "TechSupport         7043 non-null object\n",
            "StreamingTV         7043 non-null object\n",
            "StreamingMovies     7043 non-null object\n",
            "Contract            7043 non-null object\n",
            "PaperlessBilling    7043 non-null object\n",
            "PaymentMethod       7043 non-null object\n",
            "MonthlyCharges      7043 non-null float64\n",
            "TotalCharges        7032 non-null float64\n",
            "Churn               7043 non-null object\n",
            "dtypes: float64(2), int64(2), object(17)\n",
            "memory usage: 1.1+ MB\n"
          ],
          "name": "stdout"
        }
      ]
    },
    {
      "cell_type": "code",
      "metadata": {
        "id": "UclXKNNDkgtm",
        "colab_type": "code",
        "colab": {}
      },
      "source": [
        "transformed_churn_df = churn_df.drop('customerID',axis=1)"
      ],
      "execution_count": 0,
      "outputs": []
    },
    {
      "cell_type": "code",
      "metadata": {
        "id": "Z9kl9lW8k2pk",
        "colab_type": "code",
        "colab": {
          "base_uri": "https://localhost:8080/",
          "height": 442
        },
        "outputId": "7c7fee8f-80e1-4b23-fe04-b3154fb9af62"
      },
      "source": [
        "for col in transformed_churn_df.columns:\n",
        "  transformed_churn_df[col] = pd.to_numeric(transformed_churn_df[col],errors='coerce')\n",
        "transformed_churn_df.info()"
      ],
      "execution_count": 43,
      "outputs": [
        {
          "output_type": "stream",
          "text": [
            "<class 'pandas.core.frame.DataFrame'>\n",
            "RangeIndex: 7043 entries, 0 to 7042\n",
            "Data columns (total 20 columns):\n",
            "gender              7043 non-null int64\n",
            "SeniorCitizen       7043 non-null int64\n",
            "Partner             7043 non-null int64\n",
            "Dependents          7043 non-null int64\n",
            "tenure              7043 non-null int64\n",
            "PhoneService        7043 non-null int64\n",
            "MultipleLines       7043 non-null int64\n",
            "InternetService     7043 non-null int64\n",
            "OnlineSecurity      7043 non-null int64\n",
            "OnlineBackup        7043 non-null int64\n",
            "DeviceProtection    7043 non-null int64\n",
            "TechSupport         7043 non-null int64\n",
            "StreamingTV         7043 non-null int64\n",
            "StreamingMovies     7043 non-null int64\n",
            "Contract            7043 non-null int64\n",
            "PaperlessBilling    7043 non-null int64\n",
            "PaymentMethod       7043 non-null int64\n",
            "MonthlyCharges      7043 non-null float64\n",
            "TotalCharges        7032 non-null float64\n",
            "Churn               7043 non-null int64\n",
            "dtypes: float64(2), int64(18)\n",
            "memory usage: 1.1 MB\n"
          ],
          "name": "stdout"
        }
      ]
    },
    {
      "cell_type": "markdown",
      "metadata": {
        "id": "mEUo3SeVjoDp",
        "colab_type": "text"
      },
      "source": [
        "##Selecting Independent Features and Dependent Feature"
      ]
    },
    {
      "cell_type": "code",
      "metadata": {
        "id": "Nd1xA-tAmDgH",
        "colab_type": "code",
        "colab": {}
      },
      "source": [
        "X = transformed_churn_df.drop('Churn',axis=1)\n",
        "Y = transformed_churn_df['Churn']"
      ],
      "execution_count": 0,
      "outputs": []
    },
    {
      "cell_type": "code",
      "metadata": {
        "id": "ZlTBkT7Ol5s6",
        "colab_type": "code",
        "colab": {}
      },
      "source": [
        "from sklearn.model_selection import train_test_split\n",
        "X_train,X_test,y_train,y_test = train_test_split(X,Y,test_size=0.15,random_state=1)"
      ],
      "execution_count": 0,
      "outputs": []
    },
    {
      "cell_type": "markdown",
      "metadata": {
        "id": "LGKRcex6mWPY",
        "colab_type": "text"
      },
      "source": [
        "##Automl Classification"
      ]
    },
    {
      "cell_type": "code",
      "metadata": {
        "id": "_FDfdvVbmaVD",
        "colab_type": "code",
        "colab": {}
      },
      "source": [
        "from autosklearn import classification as Classifier"
      ],
      "execution_count": 0,
      "outputs": []
    },
    {
      "cell_type": "code",
      "metadata": {
        "id": "_aXCsZHomZFZ",
        "colab_type": "code",
        "colab": {}
      },
      "source": [
        "automl = Classifier.AutoSklearnClassifier(time_left_for_this_task=180, per_run_time_limit=40, n_jobs=2,exclude_estimators=None, include_preprocessors=[\"no_preprocessing\", ], exclude_preprocessors=None)"
      ],
      "execution_count": 0,
      "outputs": []
    },
    {
      "cell_type": "code",
      "metadata": {
        "id": "B-kMLhRVnKRZ",
        "colab_type": "code",
        "colab": {
          "base_uri": "https://localhost:8080/",
          "height": 323
        },
        "outputId": "469bb604-d779-4e10-d348-d31cee766bc3"
      },
      "source": [
        "automl.fit(X_train, y_train)"
      ],
      "execution_count": 56,
      "outputs": [
        {
          "output_type": "stream",
          "text": [
            "[WARNING] [2020-01-10 08:41:31,334:EnsembleBuilder(1791095845):ac49726ef89084ad9505db5505c5b8e0] No models better than random - using Dummy Score!\n",
            "[WARNING] [2020-01-10 08:41:31,359:EnsembleBuilder(1791095845):ac49726ef89084ad9505db5505c5b8e0] No models better than random - using Dummy Score!\n",
            "[WARNING] [2020-01-10 08:41:33,380:EnsembleBuilder(1791095845):ac49726ef89084ad9505db5505c5b8e0] No models better than random - using Dummy Score!\n"
          ],
          "name": "stdout"
        },
        {
          "output_type": "execute_result",
          "data": {
            "text/plain": [
              "AutoSklearnClassifier(delete_output_folder_after_terminate=False,\n",
              "                      delete_tmp_folder_after_terminate=False,\n",
              "                      disable_evaluator_output=False,\n",
              "                      ensemble_memory_limit=1024, ensemble_nbest=50,\n",
              "                      ensemble_size=50, exclude_estimators=None,\n",
              "                      exclude_preprocessors=None, get_smac_object_callback=None,\n",
              "                      include_estimators=None,\n",
              "                      include_preprocessors=['no_preprocessing'],\n",
              "                      initial_configurations_via_metalearning=25,\n",
              "                      logging_config=None, metadata_directory=None,\n",
              "                      ml_memory_limit=3072, n_jobs=2, output_folder=None,\n",
              "                      per_run_time_limit=40, resampling_strategy='holdout',\n",
              "                      resampling_strategy_arguments=None, seed=1,\n",
              "                      shared_mode=False, smac_scenario_args=None,\n",
              "                      time_left_for_this_task=180, tmp_folder=None)"
            ]
          },
          "metadata": {
            "tags": []
          },
          "execution_count": 56
        }
      ]
    },
    {
      "cell_type": "code",
      "metadata": {
        "id": "X7zBljv_oi5r",
        "colab_type": "code",
        "colab": {
          "base_uri": "https://localhost:8080/",
          "height": 1000
        },
        "outputId": "ef729d5e-39ce-478c-ce57-c7c11632f2b4"
      },
      "source": [
        "print(automl.show_models())"
      ],
      "execution_count": 57,
      "outputs": [
        {
          "output_type": "stream",
          "text": [
            "[(0.400000, SimpleClassificationPipeline({'balancing:strategy': 'none', 'categorical_encoding:__choice__': 'no_encoding', 'classifier:__choice__': 'adaboost', 'imputation:strategy': 'mean', 'preprocessor:__choice__': 'no_preprocessing', 'rescaling:__choice__': 'none', 'classifier:adaboost:algorithm': 'SAMME', 'classifier:adaboost:learning_rate': 0.7386839465414408, 'classifier:adaboost:max_depth': 6, 'classifier:adaboost:n_estimators': 468},\n",
            "dataset_properties={\n",
            "  'task': 1,\n",
            "  'sparse': False,\n",
            "  'multilabel': False,\n",
            "  'multiclass': False,\n",
            "  'target_type': 'classification',\n",
            "  'signed': False})),\n",
            "(0.140000, SimpleClassificationPipeline({'balancing:strategy': 'weighting', 'categorical_encoding:__choice__': 'one_hot_encoding', 'classifier:__choice__': 'adaboost', 'imputation:strategy': 'most_frequent', 'preprocessor:__choice__': 'no_preprocessing', 'rescaling:__choice__': 'none', 'categorical_encoding:one_hot_encoding:use_minimum_fraction': 'True', 'classifier:adaboost:algorithm': 'SAMME', 'classifier:adaboost:learning_rate': 0.044250214732745145, 'classifier:adaboost:max_depth': 6, 'classifier:adaboost:n_estimators': 259, 'categorical_encoding:one_hot_encoding:minimum_fraction': 0.007639631683845887},\n",
            "dataset_properties={\n",
            "  'task': 1,\n",
            "  'sparse': False,\n",
            "  'multilabel': False,\n",
            "  'multiclass': False,\n",
            "  'target_type': 'classification',\n",
            "  'signed': False})),\n",
            "(0.120000, SimpleClassificationPipeline({'balancing:strategy': 'none', 'categorical_encoding:__choice__': 'one_hot_encoding', 'classifier:__choice__': 'liblinear_svc', 'imputation:strategy': 'median', 'preprocessor:__choice__': 'no_preprocessing', 'rescaling:__choice__': 'quantile_transformer', 'categorical_encoding:one_hot_encoding:use_minimum_fraction': 'False', 'classifier:liblinear_svc:C': 1.0, 'classifier:liblinear_svc:dual': 'False', 'classifier:liblinear_svc:fit_intercept': 'True', 'classifier:liblinear_svc:intercept_scaling': 1, 'classifier:liblinear_svc:loss': 'squared_hinge', 'classifier:liblinear_svc:multi_class': 'ovr', 'classifier:liblinear_svc:penalty': 'l2', 'classifier:liblinear_svc:tol': 0.00010000000000000009, 'rescaling:quantile_transformer:n_quantiles': 1000, 'rescaling:quantile_transformer:output_distribution': 'uniform'},\n",
            "dataset_properties={\n",
            "  'task': 1,\n",
            "  'sparse': False,\n",
            "  'multilabel': False,\n",
            "  'multiclass': False,\n",
            "  'target_type': 'classification',\n",
            "  'signed': False})),\n",
            "(0.100000, SimpleClassificationPipeline({'balancing:strategy': 'none', 'categorical_encoding:__choice__': 'no_encoding', 'classifier:__choice__': 'passive_aggressive', 'imputation:strategy': 'mean', 'preprocessor:__choice__': 'no_preprocessing', 'rescaling:__choice__': 'standardize', 'classifier:passive_aggressive:C': 1.3914824934111588e-05, 'classifier:passive_aggressive:average': 'False', 'classifier:passive_aggressive:fit_intercept': 'True', 'classifier:passive_aggressive:loss': 'squared_hinge', 'classifier:passive_aggressive:tol': 0.000619808489794092},\n",
            "dataset_properties={\n",
            "  'task': 1,\n",
            "  'sparse': False,\n",
            "  'multilabel': False,\n",
            "  'multiclass': False,\n",
            "  'target_type': 'classification',\n",
            "  'signed': False})),\n",
            "(0.020000, SimpleClassificationPipeline({'balancing:strategy': 'none', 'categorical_encoding:__choice__': 'one_hot_encoding', 'classifier:__choice__': 'liblinear_svc', 'imputation:strategy': 'median', 'preprocessor:__choice__': 'no_preprocessing', 'rescaling:__choice__': 'minmax', 'categorical_encoding:one_hot_encoding:use_minimum_fraction': 'False', 'classifier:liblinear_svc:C': 2.1653556659389426, 'classifier:liblinear_svc:dual': 'False', 'classifier:liblinear_svc:fit_intercept': 'True', 'classifier:liblinear_svc:intercept_scaling': 1, 'classifier:liblinear_svc:loss': 'squared_hinge', 'classifier:liblinear_svc:multi_class': 'ovr', 'classifier:liblinear_svc:penalty': 'l2', 'classifier:liblinear_svc:tol': 0.06600077686730348},\n",
            "dataset_properties={\n",
            "  'task': 1,\n",
            "  'sparse': False,\n",
            "  'multilabel': False,\n",
            "  'multiclass': False,\n",
            "  'target_type': 'classification',\n",
            "  'signed': False})),\n",
            "(0.020000, SimpleClassificationPipeline({'balancing:strategy': 'none', 'categorical_encoding:__choice__': 'one_hot_encoding', 'classifier:__choice__': 'lda', 'imputation:strategy': 'mean', 'preprocessor:__choice__': 'no_preprocessing', 'rescaling:__choice__': 'quantile_transformer', 'categorical_encoding:one_hot_encoding:use_minimum_fraction': 'False', 'classifier:lda:n_components': 95, 'classifier:lda:shrinkage': 'auto', 'classifier:lda:tol': 8.768428282349482e-05, 'rescaling:quantile_transformer:n_quantiles': 455, 'rescaling:quantile_transformer:output_distribution': 'normal'},\n",
            "dataset_properties={\n",
            "  'task': 1,\n",
            "  'sparse': False,\n",
            "  'multilabel': False,\n",
            "  'multiclass': False,\n",
            "  'target_type': 'classification',\n",
            "  'signed': False})),\n",
            "(0.020000, SimpleClassificationPipeline({'balancing:strategy': 'weighting', 'categorical_encoding:__choice__': 'no_encoding', 'classifier:__choice__': 'gradient_boosting', 'imputation:strategy': 'most_frequent', 'preprocessor:__choice__': 'no_preprocessing', 'rescaling:__choice__': 'none', 'classifier:gradient_boosting:early_stop': 'valid', 'classifier:gradient_boosting:l2_regularization': 0.2737292739658814, 'classifier:gradient_boosting:learning_rate': 0.012246560646084391, 'classifier:gradient_boosting:loss': 'auto', 'classifier:gradient_boosting:max_bins': 256, 'classifier:gradient_boosting:max_depth': 'None', 'classifier:gradient_boosting:max_iter': 234, 'classifier:gradient_boosting:max_leaf_nodes': 27, 'classifier:gradient_boosting:min_samples_leaf': 1, 'classifier:gradient_boosting:scoring': 'loss', 'classifier:gradient_boosting:tol': 1e-07, 'classifier:gradient_boosting:n_iter_no_change': 19, 'classifier:gradient_boosting:validation_fraction': 0.3176653953791749},\n",
            "dataset_properties={\n",
            "  'task': 1,\n",
            "  'sparse': False,\n",
            "  'multilabel': False,\n",
            "  'multiclass': False,\n",
            "  'target_type': 'classification',\n",
            "  'signed': False})),\n",
            "(0.020000, SimpleClassificationPipeline({'balancing:strategy': 'none', 'categorical_encoding:__choice__': 'one_hot_encoding', 'classifier:__choice__': 'lda', 'imputation:strategy': 'mean', 'preprocessor:__choice__': 'no_preprocessing', 'rescaling:__choice__': 'none', 'categorical_encoding:one_hot_encoding:use_minimum_fraction': 'True', 'classifier:lda:n_components': 68, 'classifier:lda:shrinkage': 'auto', 'classifier:lda:tol': 8.768428282349482e-05, 'categorical_encoding:one_hot_encoding:minimum_fraction': 0.010000000000000004},\n",
            "dataset_properties={\n",
            "  'task': 1,\n",
            "  'sparse': False,\n",
            "  'multilabel': False,\n",
            "  'multiclass': False,\n",
            "  'target_type': 'classification',\n",
            "  'signed': False})),\n",
            "(0.020000, SimpleClassificationPipeline({'balancing:strategy': 'none', 'categorical_encoding:__choice__': 'one_hot_encoding', 'classifier:__choice__': 'lda', 'imputation:strategy': 'mean', 'preprocessor:__choice__': 'no_preprocessing', 'rescaling:__choice__': 'none', 'categorical_encoding:one_hot_encoding:use_minimum_fraction': 'False', 'classifier:lda:n_components': 95, 'classifier:lda:shrinkage': 'auto', 'classifier:lda:tol': 8.768428282349482e-05},\n",
            "dataset_properties={\n",
            "  'task': 1,\n",
            "  'sparse': False,\n",
            "  'multilabel': False,\n",
            "  'multiclass': False,\n",
            "  'target_type': 'classification',\n",
            "  'signed': False})),\n",
            "(0.020000, SimpleClassificationPipeline({'balancing:strategy': 'weighting', 'categorical_encoding:__choice__': 'one_hot_encoding', 'classifier:__choice__': 'lda', 'imputation:strategy': 'mean', 'preprocessor:__choice__': 'no_preprocessing', 'rescaling:__choice__': 'none', 'categorical_encoding:one_hot_encoding:use_minimum_fraction': 'False', 'classifier:lda:n_components': 195, 'classifier:lda:shrinkage': 'None', 'classifier:lda:tol': 1.7223475300770148e-05},\n",
            "dataset_properties={\n",
            "  'task': 1,\n",
            "  'sparse': False,\n",
            "  'multilabel': False,\n",
            "  'multiclass': False,\n",
            "  'target_type': 'classification',\n",
            "  'signed': False})),\n",
            "(0.020000, SimpleClassificationPipeline({'balancing:strategy': 'none', 'categorical_encoding:__choice__': 'no_encoding', 'classifier:__choice__': 'random_forest', 'imputation:strategy': 'median', 'preprocessor:__choice__': 'no_preprocessing', 'rescaling:__choice__': 'minmax', 'classifier:random_forest:bootstrap': 'True', 'classifier:random_forest:criterion': 'gini', 'classifier:random_forest:max_depth': 'None', 'classifier:random_forest:max_features': 0.35178118710011586, 'classifier:random_forest:max_leaf_nodes': 'None', 'classifier:random_forest:min_impurity_decrease': 0.0, 'classifier:random_forest:min_samples_leaf': 7, 'classifier:random_forest:min_samples_split': 12, 'classifier:random_forest:min_weight_fraction_leaf': 0.0, 'classifier:random_forest:n_estimators': 100},\n",
            "dataset_properties={\n",
            "  'task': 1,\n",
            "  'sparse': False,\n",
            "  'multilabel': False,\n",
            "  'multiclass': False,\n",
            "  'target_type': 'classification',\n",
            "  'signed': False})),\n",
            "(0.020000, SimpleClassificationPipeline({'balancing:strategy': 'none', 'categorical_encoding:__choice__': 'one_hot_encoding', 'classifier:__choice__': 'random_forest', 'imputation:strategy': 'mean', 'preprocessor:__choice__': 'no_preprocessing', 'rescaling:__choice__': 'standardize', 'categorical_encoding:one_hot_encoding:use_minimum_fraction': 'True', 'classifier:random_forest:bootstrap': 'True', 'classifier:random_forest:criterion': 'gini', 'classifier:random_forest:max_depth': 'None', 'classifier:random_forest:max_features': 0.5, 'classifier:random_forest:max_leaf_nodes': 'None', 'classifier:random_forest:min_impurity_decrease': 0.0, 'classifier:random_forest:min_samples_leaf': 1, 'classifier:random_forest:min_samples_split': 2, 'classifier:random_forest:min_weight_fraction_leaf': 0.0, 'classifier:random_forest:n_estimators': 100, 'categorical_encoding:one_hot_encoding:minimum_fraction': 0.01},\n",
            "dataset_properties={\n",
            "  'task': 1,\n",
            "  'sparse': False,\n",
            "  'multilabel': False,\n",
            "  'multiclass': False,\n",
            "  'target_type': 'classification',\n",
            "  'signed': False})),\n",
            "(0.020000, SimpleClassificationPipeline({'balancing:strategy': 'weighting', 'categorical_encoding:__choice__': 'one_hot_encoding', 'classifier:__choice__': 'gradient_boosting', 'imputation:strategy': 'median', 'preprocessor:__choice__': 'no_preprocessing', 'rescaling:__choice__': 'minmax', 'categorical_encoding:one_hot_encoding:use_minimum_fraction': 'False', 'classifier:gradient_boosting:early_stop': 'train', 'classifier:gradient_boosting:l2_regularization': 2.9958487567534518e-09, 'classifier:gradient_boosting:learning_rate': 0.05857665030248635, 'classifier:gradient_boosting:loss': 'auto', 'classifier:gradient_boosting:max_bins': 256, 'classifier:gradient_boosting:max_depth': 'None', 'classifier:gradient_boosting:max_iter': 470, 'classifier:gradient_boosting:max_leaf_nodes': 628, 'classifier:gradient_boosting:min_samples_leaf': 102, 'classifier:gradient_boosting:scoring': 'loss', 'classifier:gradient_boosting:tol': 1e-07, 'classifier:gradient_boosting:n_iter_no_change': 7},\n",
            "dataset_properties={\n",
            "  'task': 1,\n",
            "  'sparse': False,\n",
            "  'multilabel': False,\n",
            "  'multiclass': False,\n",
            "  'target_type': 'classification',\n",
            "  'signed': False})),\n",
            "(0.020000, SimpleClassificationPipeline({'balancing:strategy': 'weighting', 'categorical_encoding:__choice__': 'no_encoding', 'classifier:__choice__': 'random_forest', 'imputation:strategy': 'median', 'preprocessor:__choice__': 'no_preprocessing', 'rescaling:__choice__': 'none', 'classifier:random_forest:bootstrap': 'True', 'classifier:random_forest:criterion': 'gini', 'classifier:random_forest:max_depth': 'None', 'classifier:random_forest:max_features': 0.3219160340873468, 'classifier:random_forest:max_leaf_nodes': 'None', 'classifier:random_forest:min_impurity_decrease': 0.0, 'classifier:random_forest:min_samples_leaf': 3, 'classifier:random_forest:min_samples_split': 8, 'classifier:random_forest:min_weight_fraction_leaf': 0.0, 'classifier:random_forest:n_estimators': 100},\n",
            "dataset_properties={\n",
            "  'task': 1,\n",
            "  'sparse': False,\n",
            "  'multilabel': False,\n",
            "  'multiclass': False,\n",
            "  'target_type': 'classification',\n",
            "  'signed': False})),\n",
            "(0.020000, SimpleClassificationPipeline({'balancing:strategy': 'weighting', 'categorical_encoding:__choice__': 'one_hot_encoding', 'classifier:__choice__': 'random_forest', 'imputation:strategy': 'median', 'preprocessor:__choice__': 'no_preprocessing', 'rescaling:__choice__': 'minmax', 'categorical_encoding:one_hot_encoding:use_minimum_fraction': 'False', 'classifier:random_forest:bootstrap': 'True', 'classifier:random_forest:criterion': 'gini', 'classifier:random_forest:max_depth': 'None', 'classifier:random_forest:max_features': 0.7294525771723465, 'classifier:random_forest:max_leaf_nodes': 'None', 'classifier:random_forest:min_impurity_decrease': 0.0, 'classifier:random_forest:min_samples_leaf': 2, 'classifier:random_forest:min_samples_split': 2, 'classifier:random_forest:min_weight_fraction_leaf': 0.0, 'classifier:random_forest:n_estimators': 100},\n",
            "dataset_properties={\n",
            "  'task': 1,\n",
            "  'sparse': False,\n",
            "  'multilabel': False,\n",
            "  'multiclass': False,\n",
            "  'target_type': 'classification',\n",
            "  'signed': False})),\n",
            "(0.020000, SimpleClassificationPipeline({'balancing:strategy': 'none', 'categorical_encoding:__choice__': 'one_hot_encoding', 'classifier:__choice__': 'multinomial_nb', 'imputation:strategy': 'most_frequent', 'preprocessor:__choice__': 'no_preprocessing', 'rescaling:__choice__': 'normalize', 'categorical_encoding:one_hot_encoding:use_minimum_fraction': 'False', 'classifier:multinomial_nb:alpha': 7.762351498751153, 'classifier:multinomial_nb:fit_prior': 'False'},\n",
            "dataset_properties={\n",
            "  'task': 1,\n",
            "  'sparse': False,\n",
            "  'multilabel': False,\n",
            "  'multiclass': False,\n",
            "  'target_type': 'classification',\n",
            "  'signed': False})),\n",
            "]\n"
          ],
          "name": "stdout"
        }
      ]
    },
    {
      "cell_type": "code",
      "metadata": {
        "id": "Ab9UD5SgorXS",
        "colab_type": "code",
        "colab": {
          "base_uri": "https://localhost:8080/",
          "height": 187
        },
        "outputId": "0bd89be1-f6ec-45a2-98cc-0e05d93e66f8"
      },
      "source": [
        "print(automl.sprint_statistics())"
      ],
      "execution_count": 58,
      "outputs": [
        {
          "output_type": "stream",
          "text": [
            "auto-sklearn results:\n",
            "  Dataset name: ac49726ef89084ad9505db5505c5b8e0\n",
            "  Metric: accuracy\n",
            "  Best validation score: 0.810729\n",
            "  Number of target algorithm runs: 59\n",
            "  Number of successful target algorithm runs: 55\n",
            "  Number of crashed target algorithm runs: 1\n",
            "  Number of target algorithms that exceeded the time limit: 3\n",
            "  Number of target algorithms that exceeded the memory limit: 0\n",
            "\n"
          ],
          "name": "stdout"
        }
      ]
    },
    {
      "cell_type": "code",
      "metadata": {
        "id": "ppQoqGrHpDPZ",
        "colab_type": "code",
        "colab": {
          "base_uri": "https://localhost:8080/",
          "height": 187
        },
        "outputId": "9427d57a-a5e2-40c9-cdaf-bdc7eba19339"
      },
      "source": [
        "print(automl.cv_results_['mean_test_score'])"
      ],
      "execution_count": 60,
      "outputs": [
        {
          "output_type": "stream",
          "text": [
            "[0.79453441 0.         0.78340081 0.79048583 0.70394737 0.\n",
            " 0.75607287 0.77378543 0.         0.78795547 0.76973684 0.80819838\n",
            " 0.         0.69989879 0.72874494 0.74797571 0.65080972 0.76518219\n",
            " 0.80870445 0.72419028 0.78188259 0.79149798 0.7312753  0.79048583\n",
            " 0.75910931 0.7312753  0.76771255 0.78390688 0.76619433 0.73076923\n",
            " 0.77277328 0.79908907 0.80516194 0.75708502 0.7312753  0.80161943\n",
            " 0.74342105 0.73785425 0.79048583 0.76417004 0.70546559 0.81072874\n",
            " 0.8097166  0.80617409 0.80870445 0.7312753  0.73684211 0.80617409\n",
            " 0.75253036 0.80617409 0.81072874 0.74949393 0.77935223 0.80617409\n",
            " 0.74898785 0.79605263 0.7667004  0.80617409 0.70698381]\n"
          ],
          "name": "stdout"
        }
      ]
    },
    {
      "cell_type": "code",
      "metadata": {
        "id": "7-2ew2IZqIcy",
        "colab_type": "code",
        "colab": {
          "base_uri": "https://localhost:8080/",
          "height": 1000
        },
        "outputId": "a019a663-a657-4935-d4cc-e3cd6ea62684"
      },
      "source": [
        "automl.cv_results_['params']"
      ],
      "execution_count": 68,
      "outputs": [
        {
          "output_type": "execute_result",
          "data": {
            "text/plain": [
              "[{'balancing:strategy': 'none',\n",
              "  'categorical_encoding:__choice__': 'one_hot_encoding',\n",
              "  'categorical_encoding:one_hot_encoding:minimum_fraction': 0.01,\n",
              "  'categorical_encoding:one_hot_encoding:use_minimum_fraction': 'True',\n",
              "  'classifier:__choice__': 'random_forest',\n",
              "  'classifier:random_forest:bootstrap': 'True',\n",
              "  'classifier:random_forest:criterion': 'gini',\n",
              "  'classifier:random_forest:max_depth': 'None',\n",
              "  'classifier:random_forest:max_features': 0.5,\n",
              "  'classifier:random_forest:max_leaf_nodes': 'None',\n",
              "  'classifier:random_forest:min_impurity_decrease': 0.0,\n",
              "  'classifier:random_forest:min_samples_leaf': 1,\n",
              "  'classifier:random_forest:min_samples_split': 2,\n",
              "  'classifier:random_forest:min_weight_fraction_leaf': 0.0,\n",
              "  'classifier:random_forest:n_estimators': 100,\n",
              "  'imputation:strategy': 'mean',\n",
              "  'preprocessor:__choice__': 'no_preprocessing',\n",
              "  'rescaling:__choice__': 'standardize'},\n",
              " {'balancing:strategy': 'weighting',\n",
              "  'categorical_encoding:__choice__': 'one_hot_encoding',\n",
              "  'categorical_encoding:one_hot_encoding:minimum_fraction': 0.0028769458880002294,\n",
              "  'categorical_encoding:one_hot_encoding:use_minimum_fraction': 'True',\n",
              "  'classifier:__choice__': 'gradient_boosting',\n",
              "  'classifier:gradient_boosting:early_stop': 'off',\n",
              "  'classifier:gradient_boosting:l2_regularization': 2.411950476220445e-10,\n",
              "  'classifier:gradient_boosting:learning_rate': 0.04469586328416032,\n",
              "  'classifier:gradient_boosting:loss': 'auto',\n",
              "  'classifier:gradient_boosting:max_bins': 256,\n",
              "  'classifier:gradient_boosting:max_depth': 'None',\n",
              "  'classifier:gradient_boosting:max_iter': 203,\n",
              "  'classifier:gradient_boosting:max_leaf_nodes': 114,\n",
              "  'classifier:gradient_boosting:min_samples_leaf': 18,\n",
              "  'classifier:gradient_boosting:scoring': 'loss',\n",
              "  'classifier:gradient_boosting:tol': 1e-07,\n",
              "  'imputation:strategy': 'median',\n",
              "  'preprocessor:__choice__': 'no_preprocessing',\n",
              "  'rescaling:__choice__': 'none'},\n",
              " {'balancing:strategy': 'none',\n",
              "  'categorical_encoding:__choice__': 'one_hot_encoding',\n",
              "  'categorical_encoding:one_hot_encoding:minimum_fraction': 0.004578808493604517,\n",
              "  'categorical_encoding:one_hot_encoding:use_minimum_fraction': 'True',\n",
              "  'classifier:__choice__': 'libsvm_svc',\n",
              "  'classifier:libsvm_svc:C': 2.91653778378334,\n",
              "  'classifier:libsvm_svc:coef0': -0.5222895839056385,\n",
              "  'classifier:libsvm_svc:degree': 4,\n",
              "  'classifier:libsvm_svc:gamma': 5.2818808305429865,\n",
              "  'classifier:libsvm_svc:kernel': 'poly',\n",
              "  'classifier:libsvm_svc:max_iter': -1,\n",
              "  'classifier:libsvm_svc:shrinking': 'False',\n",
              "  'classifier:libsvm_svc:tol': 4.554998850217131e-05,\n",
              "  'imputation:strategy': 'mean',\n",
              "  'preprocessor:__choice__': 'no_preprocessing',\n",
              "  'rescaling:__choice__': 'normalize'},\n",
              " {'balancing:strategy': 'weighting',\n",
              "  'categorical_encoding:__choice__': 'one_hot_encoding',\n",
              "  'categorical_encoding:one_hot_encoding:use_minimum_fraction': 'False',\n",
              "  'classifier:__choice__': 'gradient_boosting',\n",
              "  'classifier:gradient_boosting:early_stop': 'train',\n",
              "  'classifier:gradient_boosting:l2_regularization': 2.9958487567534518e-09,\n",
              "  'classifier:gradient_boosting:learning_rate': 0.05857665030248635,\n",
              "  'classifier:gradient_boosting:loss': 'auto',\n",
              "  'classifier:gradient_boosting:max_bins': 256,\n",
              "  'classifier:gradient_boosting:max_depth': 'None',\n",
              "  'classifier:gradient_boosting:max_iter': 470,\n",
              "  'classifier:gradient_boosting:max_leaf_nodes': 628,\n",
              "  'classifier:gradient_boosting:min_samples_leaf': 102,\n",
              "  'classifier:gradient_boosting:n_iter_no_change': 7,\n",
              "  'classifier:gradient_boosting:scoring': 'loss',\n",
              "  'classifier:gradient_boosting:tol': 1e-07,\n",
              "  'imputation:strategy': 'median',\n",
              "  'preprocessor:__choice__': 'no_preprocessing',\n",
              "  'rescaling:__choice__': 'minmax'},\n",
              " {'balancing:strategy': 'weighting',\n",
              "  'categorical_encoding:__choice__': 'one_hot_encoding',\n",
              "  'categorical_encoding:one_hot_encoding:use_minimum_fraction': 'False',\n",
              "  'classifier:__choice__': 'decision_tree',\n",
              "  'classifier:decision_tree:criterion': 'gini',\n",
              "  'classifier:decision_tree:max_depth_factor': 1.0641346255975404,\n",
              "  'classifier:decision_tree:max_features': 1.0,\n",
              "  'classifier:decision_tree:max_leaf_nodes': 'None',\n",
              "  'classifier:decision_tree:min_impurity_decrease': 0.0,\n",
              "  'classifier:decision_tree:min_samples_leaf': 6,\n",
              "  'classifier:decision_tree:min_samples_split': 20,\n",
              "  'classifier:decision_tree:min_weight_fraction_leaf': 0.0,\n",
              "  'imputation:strategy': 'most_frequent',\n",
              "  'preprocessor:__choice__': 'no_preprocessing',\n",
              "  'rescaling:__choice__': 'none'},\n",
              " {'balancing:strategy': 'weighting',\n",
              "  'categorical_encoding:__choice__': 'one_hot_encoding',\n",
              "  'categorical_encoding:one_hot_encoding:minimum_fraction': 0.35977395722682437,\n",
              "  'categorical_encoding:one_hot_encoding:use_minimum_fraction': 'True',\n",
              "  'classifier:__choice__': 'gradient_boosting',\n",
              "  'classifier:gradient_boosting:early_stop': 'train',\n",
              "  'classifier:gradient_boosting:l2_regularization': 0.0014979485554619024,\n",
              "  'classifier:gradient_boosting:learning_rate': 0.037818918875666734,\n",
              "  'classifier:gradient_boosting:loss': 'auto',\n",
              "  'classifier:gradient_boosting:max_bins': 256,\n",
              "  'classifier:gradient_boosting:max_depth': 'None',\n",
              "  'classifier:gradient_boosting:max_iter': 512,\n",
              "  'classifier:gradient_boosting:max_leaf_nodes': 1169,\n",
              "  'classifier:gradient_boosting:min_samples_leaf': 24,\n",
              "  'classifier:gradient_boosting:n_iter_no_change': 14,\n",
              "  'classifier:gradient_boosting:scoring': 'loss',\n",
              "  'classifier:gradient_boosting:tol': 1e-07,\n",
              "  'imputation:strategy': 'mean',\n",
              "  'preprocessor:__choice__': 'no_preprocessing',\n",
              "  'rescaling:__choice__': 'none'},\n",
              " {'balancing:strategy': 'none',\n",
              "  'categorical_encoding:__choice__': 'no_encoding',\n",
              "  'classifier:__choice__': 'gaussian_nb',\n",
              "  'imputation:strategy': 'mean',\n",
              "  'preprocessor:__choice__': 'no_preprocessing',\n",
              "  'rescaling:__choice__': 'robust_scaler',\n",
              "  'rescaling:robust_scaler:q_max': 0.9706051256162626,\n",
              "  'rescaling:robust_scaler:q_min': 0.28015174489784117},\n",
              " {'balancing:strategy': 'none',\n",
              "  'categorical_encoding:__choice__': 'no_encoding',\n",
              "  'classifier:__choice__': 'adaboost',\n",
              "  'classifier:adaboost:algorithm': 'SAMME',\n",
              "  'classifier:adaboost:learning_rate': 0.7386839465414408,\n",
              "  'classifier:adaboost:max_depth': 6,\n",
              "  'classifier:adaboost:n_estimators': 468,\n",
              "  'imputation:strategy': 'mean',\n",
              "  'preprocessor:__choice__': 'no_preprocessing',\n",
              "  'rescaling:__choice__': 'none'},\n",
              " {'balancing:strategy': 'weighting',\n",
              "  'categorical_encoding:__choice__': 'one_hot_encoding',\n",
              "  'categorical_encoding:one_hot_encoding:use_minimum_fraction': 'False',\n",
              "  'classifier:__choice__': 'libsvm_svc',\n",
              "  'classifier:libsvm_svc:C': 17.601256732030848,\n",
              "  'classifier:libsvm_svc:coef0': 0.710125795669108,\n",
              "  'classifier:libsvm_svc:degree': 4,\n",
              "  'classifier:libsvm_svc:gamma': 0.7096771262013601,\n",
              "  'classifier:libsvm_svc:kernel': 'poly',\n",
              "  'classifier:libsvm_svc:max_iter': -1,\n",
              "  'classifier:libsvm_svc:shrinking': 'False',\n",
              "  'classifier:libsvm_svc:tol': 3.2070314025573404e-05,\n",
              "  'imputation:strategy': 'most_frequent',\n",
              "  'preprocessor:__choice__': 'no_preprocessing',\n",
              "  'rescaling:__choice__': 'minmax'},\n",
              " {'balancing:strategy': 'weighting',\n",
              "  'categorical_encoding:__choice__': 'one_hot_encoding',\n",
              "  'categorical_encoding:one_hot_encoding:use_minimum_fraction': 'False',\n",
              "  'classifier:__choice__': 'random_forest',\n",
              "  'classifier:random_forest:bootstrap': 'True',\n",
              "  'classifier:random_forest:criterion': 'gini',\n",
              "  'classifier:random_forest:max_depth': 'None',\n",
              "  'classifier:random_forest:max_features': 0.7294525771723465,\n",
              "  'classifier:random_forest:max_leaf_nodes': 'None',\n",
              "  'classifier:random_forest:min_impurity_decrease': 0.0,\n",
              "  'classifier:random_forest:min_samples_leaf': 2,\n",
              "  'classifier:random_forest:min_samples_split': 2,\n",
              "  'classifier:random_forest:min_weight_fraction_leaf': 0.0,\n",
              "  'classifier:random_forest:n_estimators': 100,\n",
              "  'imputation:strategy': 'median',\n",
              "  'preprocessor:__choice__': 'no_preprocessing',\n",
              "  'rescaling:__choice__': 'minmax'},\n",
              " {'balancing:strategy': 'none',\n",
              "  'categorical_encoding:__choice__': 'one_hot_encoding',\n",
              "  'categorical_encoding:one_hot_encoding:use_minimum_fraction': 'False',\n",
              "  'classifier:__choice__': 'random_forest',\n",
              "  'classifier:random_forest:bootstrap': 'False',\n",
              "  'classifier:random_forest:criterion': 'entropy',\n",
              "  'classifier:random_forest:max_depth': 'None',\n",
              "  'classifier:random_forest:max_features': 0.8694175057699148,\n",
              "  'classifier:random_forest:max_leaf_nodes': 'None',\n",
              "  'classifier:random_forest:min_impurity_decrease': 0.0,\n",
              "  'classifier:random_forest:min_samples_leaf': 1,\n",
              "  'classifier:random_forest:min_samples_split': 7,\n",
              "  'classifier:random_forest:min_weight_fraction_leaf': 0.0,\n",
              "  'classifier:random_forest:n_estimators': 100,\n",
              "  'imputation:strategy': 'mean',\n",
              "  'preprocessor:__choice__': 'no_preprocessing',\n",
              "  'rescaling:__choice__': 'standardize'},\n",
              " {'balancing:strategy': 'none',\n",
              "  'categorical_encoding:__choice__': 'no_encoding',\n",
              "  'classifier:__choice__': 'gradient_boosting',\n",
              "  'classifier:gradient_boosting:early_stop': 'valid',\n",
              "  'classifier:gradient_boosting:l2_regularization': 0.04552501504154643,\n",
              "  'classifier:gradient_boosting:learning_rate': 0.14984829825070942,\n",
              "  'classifier:gradient_boosting:loss': 'auto',\n",
              "  'classifier:gradient_boosting:max_bins': 256,\n",
              "  'classifier:gradient_boosting:max_depth': 'None',\n",
              "  'classifier:gradient_boosting:max_iter': 445,\n",
              "  'classifier:gradient_boosting:max_leaf_nodes': 13,\n",
              "  'classifier:gradient_boosting:min_samples_leaf': 22,\n",
              "  'classifier:gradient_boosting:n_iter_no_change': 10,\n",
              "  'classifier:gradient_boosting:scoring': 'loss',\n",
              "  'classifier:gradient_boosting:tol': 1e-07,\n",
              "  'classifier:gradient_boosting:validation_fraction': 0.1,\n",
              "  'imputation:strategy': 'median',\n",
              "  'preprocessor:__choice__': 'no_preprocessing',\n",
              "  'rescaling:__choice__': 'none'},\n",
              " {'balancing:strategy': 'weighting',\n",
              "  'categorical_encoding:__choice__': 'no_encoding',\n",
              "  'classifier:__choice__': 'extra_trees',\n",
              "  'classifier:extra_trees:bootstrap': 'False',\n",
              "  'classifier:extra_trees:criterion': 'gini',\n",
              "  'classifier:extra_trees:max_depth': 'None',\n",
              "  'classifier:extra_trees:max_features': 0.5,\n",
              "  'classifier:extra_trees:max_leaf_nodes': 'None',\n",
              "  'classifier:extra_trees:min_impurity_decrease': 0.0,\n",
              "  'classifier:extra_trees:min_samples_leaf': 1,\n",
              "  'classifier:extra_trees:min_samples_split': 2,\n",
              "  'classifier:extra_trees:min_weight_fraction_leaf': 0.0,\n",
              "  'classifier:extra_trees:n_estimators': 100,\n",
              "  'imputation:strategy': 'mean',\n",
              "  'preprocessor:__choice__': 'no_preprocessing',\n",
              "  'rescaling:__choice__': 'quantile_transformer',\n",
              "  'rescaling:quantile_transformer:n_quantiles': 1170,\n",
              "  'rescaling:quantile_transformer:output_distribution': 'normal'},\n",
              " {'balancing:strategy': 'weighting',\n",
              "  'categorical_encoding:__choice__': 'one_hot_encoding',\n",
              "  'categorical_encoding:one_hot_encoding:use_minimum_fraction': 'False',\n",
              "  'classifier:__choice__': 'decision_tree',\n",
              "  'classifier:decision_tree:criterion': 'gini',\n",
              "  'classifier:decision_tree:max_depth_factor': 1.9227848177243263,\n",
              "  'classifier:decision_tree:max_features': 1.0,\n",
              "  'classifier:decision_tree:max_leaf_nodes': 'None',\n",
              "  'classifier:decision_tree:min_impurity_decrease': 0.0,\n",
              "  'classifier:decision_tree:min_samples_leaf': 9,\n",
              "  'classifier:decision_tree:min_samples_split': 5,\n",
              "  'classifier:decision_tree:min_weight_fraction_leaf': 0.0,\n",
              "  'imputation:strategy': 'median',\n",
              "  'preprocessor:__choice__': 'no_preprocessing',\n",
              "  'rescaling:__choice__': 'robust_scaler',\n",
              "  'rescaling:robust_scaler:q_max': 0.8356339056021451,\n",
              "  'rescaling:robust_scaler:q_min': 0.1570883192762959},\n",
              " {'balancing:strategy': 'none',\n",
              "  'categorical_encoding:__choice__': 'one_hot_encoding',\n",
              "  'categorical_encoding:one_hot_encoding:minimum_fraction': 0.002506115405378656,\n",
              "  'categorical_encoding:one_hot_encoding:use_minimum_fraction': 'True',\n",
              "  'classifier:__choice__': 'k_nearest_neighbors',\n",
              "  'classifier:k_nearest_neighbors:n_neighbors': 1,\n",
              "  'classifier:k_nearest_neighbors:p': 1,\n",
              "  'classifier:k_nearest_neighbors:weights': 'uniform',\n",
              "  'imputation:strategy': 'mean',\n",
              "  'preprocessor:__choice__': 'no_preprocessing',\n",
              "  'rescaling:__choice__': 'robust_scaler',\n",
              "  'rescaling:robust_scaler:q_max': 0.9759374791983142,\n",
              "  'rescaling:robust_scaler:q_min': 0.018168613353433647},\n",
              " {'balancing:strategy': 'weighting',\n",
              "  'categorical_encoding:__choice__': 'one_hot_encoding',\n",
              "  'categorical_encoding:one_hot_encoding:minimum_fraction': 0.0001419512390845336,\n",
              "  'categorical_encoding:one_hot_encoding:use_minimum_fraction': 'True',\n",
              "  'classifier:__choice__': 'gaussian_nb',\n",
              "  'imputation:strategy': 'most_frequent',\n",
              "  'preprocessor:__choice__': 'no_preprocessing',\n",
              "  'rescaling:__choice__': 'normalize'},\n",
              " {'balancing:strategy': 'none',\n",
              "  'categorical_encoding:__choice__': 'no_encoding',\n",
              "  'classifier:__choice__': 'multinomial_nb',\n",
              "  'classifier:multinomial_nb:alpha': 0.055791514051184585,\n",
              "  'classifier:multinomial_nb:fit_prior': 'True',\n",
              "  'imputation:strategy': 'mean',\n",
              "  'preprocessor:__choice__': 'no_preprocessing',\n",
              "  'rescaling:__choice__': 'none'},\n",
              " {'balancing:strategy': 'weighting',\n",
              "  'categorical_encoding:__choice__': 'no_encoding',\n",
              "  'classifier:__choice__': 'qda',\n",
              "  'classifier:qda:reg_param': 0.008040628602648647,\n",
              "  'imputation:strategy': 'mean',\n",
              "  'preprocessor:__choice__': 'no_preprocessing',\n",
              "  'rescaling:__choice__': 'standardize'},\n",
              " {'balancing:strategy': 'weighting',\n",
              "  'categorical_encoding:__choice__': 'no_encoding',\n",
              "  'classifier:__choice__': 'gradient_boosting',\n",
              "  'classifier:gradient_boosting:early_stop': 'valid',\n",
              "  'classifier:gradient_boosting:l2_regularization': 0.2737292739658814,\n",
              "  'classifier:gradient_boosting:learning_rate': 0.012246560646084391,\n",
              "  'classifier:gradient_boosting:loss': 'auto',\n",
              "  'classifier:gradient_boosting:max_bins': 256,\n",
              "  'classifier:gradient_boosting:max_depth': 'None',\n",
              "  'classifier:gradient_boosting:max_iter': 234,\n",
              "  'classifier:gradient_boosting:max_leaf_nodes': 27,\n",
              "  'classifier:gradient_boosting:min_samples_leaf': 1,\n",
              "  'classifier:gradient_boosting:n_iter_no_change': 19,\n",
              "  'classifier:gradient_boosting:scoring': 'loss',\n",
              "  'classifier:gradient_boosting:tol': 1e-07,\n",
              "  'classifier:gradient_boosting:validation_fraction': 0.3176653953791749,\n",
              "  'imputation:strategy': 'most_frequent',\n",
              "  'preprocessor:__choice__': 'no_preprocessing',\n",
              "  'rescaling:__choice__': 'none'},\n",
              " {'balancing:strategy': 'weighting',\n",
              "  'categorical_encoding:__choice__': 'one_hot_encoding',\n",
              "  'categorical_encoding:one_hot_encoding:use_minimum_fraction': 'False',\n",
              "  'classifier:__choice__': 'decision_tree',\n",
              "  'classifier:decision_tree:criterion': 'entropy',\n",
              "  'classifier:decision_tree:max_depth_factor': 1.637120139113205,\n",
              "  'classifier:decision_tree:max_features': 1.0,\n",
              "  'classifier:decision_tree:max_leaf_nodes': 'None',\n",
              "  'classifier:decision_tree:min_impurity_decrease': 0.0,\n",
              "  'classifier:decision_tree:min_samples_leaf': 12,\n",
              "  'classifier:decision_tree:min_samples_split': 13,\n",
              "  'classifier:decision_tree:min_weight_fraction_leaf': 0.0,\n",
              "  'imputation:strategy': 'median',\n",
              "  'preprocessor:__choice__': 'no_preprocessing',\n",
              "  'rescaling:__choice__': 'normalize'},\n",
              " {'balancing:strategy': 'weighting',\n",
              "  'categorical_encoding:__choice__': 'no_encoding',\n",
              "  'classifier:__choice__': 'k_nearest_neighbors',\n",
              "  'classifier:k_nearest_neighbors:n_neighbors': 24,\n",
              "  'classifier:k_nearest_neighbors:p': 2,\n",
              "  'classifier:k_nearest_neighbors:weights': 'uniform',\n",
              "  'imputation:strategy': 'mean',\n",
              "  'preprocessor:__choice__': 'no_preprocessing',\n",
              "  'rescaling:__choice__': 'standardize'},\n",
              " {'balancing:strategy': 'weighting',\n",
              "  'categorical_encoding:__choice__': 'no_encoding',\n",
              "  'classifier:__choice__': 'gradient_boosting',\n",
              "  'classifier:gradient_boosting:early_stop': 'valid',\n",
              "  'classifier:gradient_boosting:l2_regularization': 5.394480831916188e-10,\n",
              "  'classifier:gradient_boosting:learning_rate': 0.09218060873178457,\n",
              "  'classifier:gradient_boosting:loss': 'auto',\n",
              "  'classifier:gradient_boosting:max_bins': 256,\n",
              "  'classifier:gradient_boosting:max_depth': 'None',\n",
              "  'classifier:gradient_boosting:max_iter': 322,\n",
              "  'classifier:gradient_boosting:max_leaf_nodes': 109,\n",
              "  'classifier:gradient_boosting:min_samples_leaf': 1,\n",
              "  'classifier:gradient_boosting:n_iter_no_change': 9,\n",
              "  'classifier:gradient_boosting:scoring': 'loss',\n",
              "  'classifier:gradient_boosting:tol': 1e-07,\n",
              "  'classifier:gradient_boosting:validation_fraction': 0.14078671864072306,\n",
              "  'imputation:strategy': 'mean',\n",
              "  'preprocessor:__choice__': 'no_preprocessing',\n",
              "  'rescaling:__choice__': 'robust_scaler',\n",
              "  'rescaling:robust_scaler:q_max': 0.7039635651911575,\n",
              "  'rescaling:robust_scaler:q_min': 0.15821844241288635},\n",
              " {'balancing:strategy': 'none',\n",
              "  'categorical_encoding:__choice__': 'no_encoding',\n",
              "  'classifier:__choice__': 'multinomial_nb',\n",
              "  'classifier:multinomial_nb:alpha': 0.6166999529487016,\n",
              "  'classifier:multinomial_nb:fit_prior': 'True',\n",
              "  'imputation:strategy': 'median',\n",
              "  'preprocessor:__choice__': 'no_preprocessing',\n",
              "  'rescaling:__choice__': 'normalize'},\n",
              " {'balancing:strategy': 'weighting',\n",
              "  'categorical_encoding:__choice__': 'no_encoding',\n",
              "  'classifier:__choice__': 'random_forest',\n",
              "  'classifier:random_forest:bootstrap': 'True',\n",
              "  'classifier:random_forest:criterion': 'gini',\n",
              "  'classifier:random_forest:max_depth': 'None',\n",
              "  'classifier:random_forest:max_features': 0.3219160340873468,\n",
              "  'classifier:random_forest:max_leaf_nodes': 'None',\n",
              "  'classifier:random_forest:min_impurity_decrease': 0.0,\n",
              "  'classifier:random_forest:min_samples_leaf': 3,\n",
              "  'classifier:random_forest:min_samples_split': 8,\n",
              "  'classifier:random_forest:min_weight_fraction_leaf': 0.0,\n",
              "  'classifier:random_forest:n_estimators': 100,\n",
              "  'imputation:strategy': 'median',\n",
              "  'preprocessor:__choice__': 'no_preprocessing',\n",
              "  'rescaling:__choice__': 'none'},\n",
              " {'balancing:strategy': 'weighting',\n",
              "  'categorical_encoding:__choice__': 'one_hot_encoding',\n",
              "  'categorical_encoding:one_hot_encoding:minimum_fraction': 0.007639631683845887,\n",
              "  'categorical_encoding:one_hot_encoding:use_minimum_fraction': 'True',\n",
              "  'classifier:__choice__': 'adaboost',\n",
              "  'classifier:adaboost:algorithm': 'SAMME',\n",
              "  'classifier:adaboost:learning_rate': 0.044250214732745145,\n",
              "  'classifier:adaboost:max_depth': 6,\n",
              "  'classifier:adaboost:n_estimators': 259,\n",
              "  'imputation:strategy': 'most_frequent',\n",
              "  'preprocessor:__choice__': 'no_preprocessing',\n",
              "  'rescaling:__choice__': 'none'},\n",
              " {'balancing:strategy': 'none',\n",
              "  'categorical_encoding:__choice__': 'no_encoding',\n",
              "  'classifier:__choice__': 'qda',\n",
              "  'classifier:qda:reg_param': 0.5006797563847529,\n",
              "  'imputation:strategy': 'mean',\n",
              "  'preprocessor:__choice__': 'no_preprocessing',\n",
              "  'rescaling:__choice__': 'normalize'},\n",
              " {'balancing:strategy': 'none',\n",
              "  'categorical_encoding:__choice__': 'one_hot_encoding',\n",
              "  'categorical_encoding:one_hot_encoding:use_minimum_fraction': 'False',\n",
              "  'classifier:__choice__': 'sgd',\n",
              "  'classifier:sgd:alpha': 0.00030271050068783736,\n",
              "  'classifier:sgd:average': 'False',\n",
              "  'classifier:sgd:fit_intercept': 'True',\n",
              "  'classifier:sgd:l1_ratio': 3.237618866503101e-06,\n",
              "  'classifier:sgd:learning_rate': 'optimal',\n",
              "  'classifier:sgd:loss': 'squared_hinge',\n",
              "  'classifier:sgd:penalty': 'elasticnet',\n",
              "  'classifier:sgd:tol': 0.00034900613008636015,\n",
              "  'imputation:strategy': 'most_frequent',\n",
              "  'preprocessor:__choice__': 'no_preprocessing',\n",
              "  'rescaling:__choice__': 'robust_scaler',\n",
              "  'rescaling:robust_scaler:q_max': 0.7025380224581094,\n",
              "  'rescaling:robust_scaler:q_min': 0.02216655458130407},\n",
              " {'balancing:strategy': 'none',\n",
              "  'categorical_encoding:__choice__': 'no_encoding',\n",
              "  'classifier:__choice__': 'qda',\n",
              "  'classifier:qda:reg_param': 0.32263060355052064,\n",
              "  'imputation:strategy': 'mean',\n",
              "  'preprocessor:__choice__': 'no_preprocessing',\n",
              "  'rescaling:__choice__': 'minmax'},\n",
              " {'balancing:strategy': 'weighting',\n",
              "  'categorical_encoding:__choice__': 'no_encoding',\n",
              "  'classifier:__choice__': 'gradient_boosting',\n",
              "  'classifier:gradient_boosting:early_stop': 'train',\n",
              "  'classifier:gradient_boosting:l2_regularization': 3.0671848657967626e-07,\n",
              "  'classifier:gradient_boosting:learning_rate': 0.7002203362653652,\n",
              "  'classifier:gradient_boosting:loss': 'auto',\n",
              "  'classifier:gradient_boosting:max_bins': 256,\n",
              "  'classifier:gradient_boosting:max_depth': 'None',\n",
              "  'classifier:gradient_boosting:max_iter': 215,\n",
              "  'classifier:gradient_boosting:max_leaf_nodes': 30,\n",
              "  'classifier:gradient_boosting:min_samples_leaf': 82,\n",
              "  'classifier:gradient_boosting:n_iter_no_change': 5,\n",
              "  'classifier:gradient_boosting:scoring': 'loss',\n",
              "  'classifier:gradient_boosting:tol': 1e-07,\n",
              "  'imputation:strategy': 'median',\n",
              "  'preprocessor:__choice__': 'no_preprocessing',\n",
              "  'rescaling:__choice__': 'none'},\n",
              " {'balancing:strategy': 'none',\n",
              "  'categorical_encoding:__choice__': 'one_hot_encoding',\n",
              "  'categorical_encoding:one_hot_encoding:use_minimum_fraction': 'False',\n",
              "  'classifier:__choice__': 'bernoulli_nb',\n",
              "  'classifier:bernoulli_nb:alpha': 0.02257833870619054,\n",
              "  'classifier:bernoulli_nb:fit_prior': 'False',\n",
              "  'imputation:strategy': 'most_frequent',\n",
              "  'preprocessor:__choice__': 'no_preprocessing',\n",
              "  'rescaling:__choice__': 'minmax'},\n",
              " {'balancing:strategy': 'none',\n",
              "  'categorical_encoding:__choice__': 'no_encoding',\n",
              "  'classifier:__choice__': 'gradient_boosting',\n",
              "  'classifier:gradient_boosting:early_stop': 'off',\n",
              "  'classifier:gradient_boosting:l2_regularization': 7.675006435873696e-10,\n",
              "  'classifier:gradient_boosting:learning_rate': 0.22510670674022004,\n",
              "  'classifier:gradient_boosting:loss': 'auto',\n",
              "  'classifier:gradient_boosting:max_bins': 256,\n",
              "  'classifier:gradient_boosting:max_depth': 'None',\n",
              "  'classifier:gradient_boosting:max_iter': 286,\n",
              "  'classifier:gradient_boosting:max_leaf_nodes': 291,\n",
              "  'classifier:gradient_boosting:min_samples_leaf': 82,\n",
              "  'classifier:gradient_boosting:scoring': 'loss',\n",
              "  'classifier:gradient_boosting:tol': 1e-07,\n",
              "  'imputation:strategy': 'mean',\n",
              "  'preprocessor:__choice__': 'no_preprocessing',\n",
              "  'rescaling:__choice__': 'normalize'},\n",
              " {'balancing:strategy': 'none',\n",
              "  'categorical_encoding:__choice__': 'no_encoding',\n",
              "  'classifier:__choice__': 'random_forest',\n",
              "  'classifier:random_forest:bootstrap': 'True',\n",
              "  'classifier:random_forest:criterion': 'gini',\n",
              "  'classifier:random_forest:max_depth': 'None',\n",
              "  'classifier:random_forest:max_features': 0.3026588900262238,\n",
              "  'classifier:random_forest:max_leaf_nodes': 'None',\n",
              "  'classifier:random_forest:min_impurity_decrease': 0.0,\n",
              "  'classifier:random_forest:min_samples_leaf': 6,\n",
              "  'classifier:random_forest:min_samples_split': 4,\n",
              "  'classifier:random_forest:min_weight_fraction_leaf': 0.0,\n",
              "  'classifier:random_forest:n_estimators': 100,\n",
              "  'imputation:strategy': 'median',\n",
              "  'preprocessor:__choice__': 'no_preprocessing',\n",
              "  'rescaling:__choice__': 'standardize'},\n",
              " {'balancing:strategy': 'weighting',\n",
              "  'categorical_encoding:__choice__': 'one_hot_encoding',\n",
              "  'categorical_encoding:one_hot_encoding:use_minimum_fraction': 'False',\n",
              "  'classifier:__choice__': 'lda',\n",
              "  'classifier:lda:n_components': 195,\n",
              "  'classifier:lda:shrinkage': 'None',\n",
              "  'classifier:lda:tol': 1.7223475300770148e-05,\n",
              "  'imputation:strategy': 'mean',\n",
              "  'preprocessor:__choice__': 'no_preprocessing',\n",
              "  'rescaling:__choice__': 'none'},\n",
              " {'balancing:strategy': 'weighting',\n",
              "  'categorical_encoding:__choice__': 'no_encoding',\n",
              "  'classifier:__choice__': 'bernoulli_nb',\n",
              "  'classifier:bernoulli_nb:alpha': 1.079930072282515,\n",
              "  'classifier:bernoulli_nb:fit_prior': 'True',\n",
              "  'imputation:strategy': 'mean',\n",
              "  'preprocessor:__choice__': 'no_preprocessing',\n",
              "  'rescaling:__choice__': 'none'},\n",
              " {'balancing:strategy': 'weighting',\n",
              "  'categorical_encoding:__choice__': 'one_hot_encoding',\n",
              "  'categorical_encoding:one_hot_encoding:use_minimum_fraction': 'False',\n",
              "  'classifier:__choice__': 'lda',\n",
              "  'classifier:lda:n_components': 247,\n",
              "  'classifier:lda:shrinkage': 'manual',\n",
              "  'classifier:lda:shrinkage_factor': 0.563143310394815,\n",
              "  'classifier:lda:tol': 0.0013965864314480422,\n",
              "  'imputation:strategy': 'most_frequent',\n",
              "  'preprocessor:__choice__': 'no_preprocessing',\n",
              "  'rescaling:__choice__': 'none'},\n",
              " {'balancing:strategy': 'none',\n",
              "  'categorical_encoding:__choice__': 'no_encoding',\n",
              "  'classifier:__choice__': 'random_forest',\n",
              "  'classifier:random_forest:bootstrap': 'True',\n",
              "  'classifier:random_forest:criterion': 'gini',\n",
              "  'classifier:random_forest:max_depth': 'None',\n",
              "  'classifier:random_forest:max_features': 0.35178118710011586,\n",
              "  'classifier:random_forest:max_leaf_nodes': 'None',\n",
              "  'classifier:random_forest:min_impurity_decrease': 0.0,\n",
              "  'classifier:random_forest:min_samples_leaf': 7,\n",
              "  'classifier:random_forest:min_samples_split': 12,\n",
              "  'classifier:random_forest:min_weight_fraction_leaf': 0.0,\n",
              "  'classifier:random_forest:n_estimators': 100,\n",
              "  'imputation:strategy': 'median',\n",
              "  'preprocessor:__choice__': 'no_preprocessing',\n",
              "  'rescaling:__choice__': 'minmax'},\n",
              " {'balancing:strategy': 'weighting',\n",
              "  'categorical_encoding:__choice__': 'no_encoding',\n",
              "  'classifier:__choice__': 'random_forest',\n",
              "  'classifier:random_forest:bootstrap': 'False',\n",
              "  'classifier:random_forest:criterion': 'entropy',\n",
              "  'classifier:random_forest:max_depth': 'None',\n",
              "  'classifier:random_forest:max_features': 0.8867551466273065,\n",
              "  'classifier:random_forest:max_leaf_nodes': 'None',\n",
              "  'classifier:random_forest:min_impurity_decrease': 0.0,\n",
              "  'classifier:random_forest:min_samples_leaf': 8,\n",
              "  'classifier:random_forest:min_samples_split': 13,\n",
              "  'classifier:random_forest:min_weight_fraction_leaf': 0.0,\n",
              "  'classifier:random_forest:n_estimators': 100,\n",
              "  'imputation:strategy': 'mean',\n",
              "  'preprocessor:__choice__': 'no_preprocessing',\n",
              "  'rescaling:__choice__': 'minmax'},\n",
              " {'balancing:strategy': 'weighting',\n",
              "  'categorical_encoding:__choice__': 'one_hot_encoding',\n",
              "  'categorical_encoding:one_hot_encoding:use_minimum_fraction': 'False',\n",
              "  'classifier:__choice__': 'passive_aggressive',\n",
              "  'classifier:passive_aggressive:C': 0.0011156332369531806,\n",
              "  'classifier:passive_aggressive:average': 'False',\n",
              "  'classifier:passive_aggressive:fit_intercept': 'True',\n",
              "  'classifier:passive_aggressive:loss': 'squared_hinge',\n",
              "  'classifier:passive_aggressive:tol': 3.6191655455819815e-05,\n",
              "  'imputation:strategy': 'median',\n",
              "  'preprocessor:__choice__': 'no_preprocessing',\n",
              "  'rescaling:__choice__': 'standardize'},\n",
              " {'balancing:strategy': 'none',\n",
              "  'categorical_encoding:__choice__': 'one_hot_encoding',\n",
              "  'categorical_encoding:one_hot_encoding:use_minimum_fraction': 'False',\n",
              "  'classifier:__choice__': 'k_nearest_neighbors',\n",
              "  'classifier:k_nearest_neighbors:n_neighbors': 64,\n",
              "  'classifier:k_nearest_neighbors:p': 1,\n",
              "  'classifier:k_nearest_neighbors:weights': 'distance',\n",
              "  'imputation:strategy': 'median',\n",
              "  'preprocessor:__choice__': 'no_preprocessing',\n",
              "  'rescaling:__choice__': 'minmax'},\n",
              " {'balancing:strategy': 'weighting',\n",
              "  'categorical_encoding:__choice__': 'no_encoding',\n",
              "  'classifier:__choice__': 'extra_trees',\n",
              "  'classifier:extra_trees:bootstrap': 'True',\n",
              "  'classifier:extra_trees:criterion': 'entropy',\n",
              "  'classifier:extra_trees:max_depth': 'None',\n",
              "  'classifier:extra_trees:max_features': 0.6719423262307583,\n",
              "  'classifier:extra_trees:max_leaf_nodes': 'None',\n",
              "  'classifier:extra_trees:min_impurity_decrease': 0.0,\n",
              "  'classifier:extra_trees:min_samples_leaf': 12,\n",
              "  'classifier:extra_trees:min_samples_split': 19,\n",
              "  'classifier:extra_trees:min_weight_fraction_leaf': 0.0,\n",
              "  'classifier:extra_trees:n_estimators': 100,\n",
              "  'imputation:strategy': 'median',\n",
              "  'preprocessor:__choice__': 'no_preprocessing',\n",
              "  'rescaling:__choice__': 'none'},\n",
              " {'balancing:strategy': 'weighting',\n",
              "  'categorical_encoding:__choice__': 'one_hot_encoding',\n",
              "  'categorical_encoding:one_hot_encoding:use_minimum_fraction': 'False',\n",
              "  'classifier:__choice__': 'sgd',\n",
              "  'classifier:sgd:alpha': 0.00030559836021805544,\n",
              "  'classifier:sgd:average': 'False',\n",
              "  'classifier:sgd:fit_intercept': 'True',\n",
              "  'classifier:sgd:learning_rate': 'optimal',\n",
              "  'classifier:sgd:loss': 'squared_hinge',\n",
              "  'classifier:sgd:penalty': 'l2',\n",
              "  'classifier:sgd:tol': 0.00010184205933116309,\n",
              "  'imputation:strategy': 'median',\n",
              "  'preprocessor:__choice__': 'no_preprocessing',\n",
              "  'rescaling:__choice__': 'normalize'},\n",
              " {'balancing:strategy': 'none',\n",
              "  'categorical_encoding:__choice__': 'one_hot_encoding',\n",
              "  'categorical_encoding:one_hot_encoding:use_minimum_fraction': 'False',\n",
              "  'classifier:__choice__': 'liblinear_svc',\n",
              "  'classifier:liblinear_svc:C': 2.1653556659389426,\n",
              "  'classifier:liblinear_svc:dual': 'False',\n",
              "  'classifier:liblinear_svc:fit_intercept': 'True',\n",
              "  'classifier:liblinear_svc:intercept_scaling': 1,\n",
              "  'classifier:liblinear_svc:loss': 'squared_hinge',\n",
              "  'classifier:liblinear_svc:multi_class': 'ovr',\n",
              "  'classifier:liblinear_svc:penalty': 'l2',\n",
              "  'classifier:liblinear_svc:tol': 0.06600077686730348,\n",
              "  'imputation:strategy': 'median',\n",
              "  'preprocessor:__choice__': 'no_preprocessing',\n",
              "  'rescaling:__choice__': 'minmax'},\n",
              " {'balancing:strategy': 'none',\n",
              "  'categorical_encoding:__choice__': 'one_hot_encoding',\n",
              "  'categorical_encoding:one_hot_encoding:use_minimum_fraction': 'False',\n",
              "  'classifier:__choice__': 'lda',\n",
              "  'classifier:lda:n_components': 95,\n",
              "  'classifier:lda:shrinkage': 'auto',\n",
              "  'classifier:lda:tol': 8.768428282349482e-05,\n",
              "  'imputation:strategy': 'mean',\n",
              "  'preprocessor:__choice__': 'no_preprocessing',\n",
              "  'rescaling:__choice__': 'quantile_transformer',\n",
              "  'rescaling:quantile_transformer:n_quantiles': 455,\n",
              "  'rescaling:quantile_transformer:output_distribution': 'normal'},\n",
              " {'balancing:strategy': 'none',\n",
              "  'categorical_encoding:__choice__': 'one_hot_encoding',\n",
              "  'categorical_encoding:one_hot_encoding:use_minimum_fraction': 'False',\n",
              "  'classifier:__choice__': 'lda',\n",
              "  'classifier:lda:n_components': 95,\n",
              "  'classifier:lda:shrinkage': 'auto',\n",
              "  'classifier:lda:tol': 8.768428282349482e-05,\n",
              "  'imputation:strategy': 'mean',\n",
              "  'preprocessor:__choice__': 'no_preprocessing',\n",
              "  'rescaling:__choice__': 'none'},\n",
              " {'balancing:strategy': 'none',\n",
              "  'categorical_encoding:__choice__': 'no_encoding',\n",
              "  'classifier:__choice__': 'passive_aggressive',\n",
              "  'classifier:passive_aggressive:C': 1.3914824934111588e-05,\n",
              "  'classifier:passive_aggressive:average': 'False',\n",
              "  'classifier:passive_aggressive:fit_intercept': 'True',\n",
              "  'classifier:passive_aggressive:loss': 'squared_hinge',\n",
              "  'classifier:passive_aggressive:tol': 0.000619808489794092,\n",
              "  'imputation:strategy': 'mean',\n",
              "  'preprocessor:__choice__': 'no_preprocessing',\n",
              "  'rescaling:__choice__': 'standardize'},\n",
              " {'balancing:strategy': 'none',\n",
              "  'categorical_encoding:__choice__': 'one_hot_encoding',\n",
              "  'categorical_encoding:one_hot_encoding:use_minimum_fraction': 'False',\n",
              "  'classifier:__choice__': 'lda',\n",
              "  'classifier:lda:n_components': 247,\n",
              "  'classifier:lda:shrinkage': 'manual',\n",
              "  'classifier:lda:shrinkage_factor': 0.563143310394815,\n",
              "  'classifier:lda:tol': 0.0013965864314480422,\n",
              "  'imputation:strategy': 'mean',\n",
              "  'preprocessor:__choice__': 'no_preprocessing',\n",
              "  'rescaling:__choice__': 'none'},\n",
              " {'balancing:strategy': 'none',\n",
              "  'categorical_encoding:__choice__': 'one_hot_encoding',\n",
              "  'categorical_encoding:one_hot_encoding:use_minimum_fraction': 'False',\n",
              "  'classifier:__choice__': 'multinomial_nb',\n",
              "  'classifier:multinomial_nb:alpha': 7.762351498751153,\n",
              "  'classifier:multinomial_nb:fit_prior': 'False',\n",
              "  'imputation:strategy': 'most_frequent',\n",
              "  'preprocessor:__choice__': 'no_preprocessing',\n",
              "  'rescaling:__choice__': 'normalize'},\n",
              " {'balancing:strategy': 'none',\n",
              "  'categorical_encoding:__choice__': 'one_hot_encoding',\n",
              "  'categorical_encoding:one_hot_encoding:use_minimum_fraction': 'False',\n",
              "  'classifier:__choice__': 'lda',\n",
              "  'classifier:lda:n_components': 10,\n",
              "  'classifier:lda:shrinkage': 'auto',\n",
              "  'classifier:lda:tol': 0.0002516441047478946,\n",
              "  'imputation:strategy': 'most_frequent',\n",
              "  'preprocessor:__choice__': 'no_preprocessing',\n",
              "  'rescaling:__choice__': 'none'},\n",
              " {'balancing:strategy': 'none',\n",
              "  'categorical_encoding:__choice__': 'no_encoding',\n",
              "  'classifier:__choice__': 'liblinear_svc',\n",
              "  'classifier:liblinear_svc:C': 14.804686171164033,\n",
              "  'classifier:liblinear_svc:dual': 'False',\n",
              "  'classifier:liblinear_svc:fit_intercept': 'True',\n",
              "  'classifier:liblinear_svc:intercept_scaling': 1,\n",
              "  'classifier:liblinear_svc:loss': 'squared_hinge',\n",
              "  'classifier:liblinear_svc:multi_class': 'ovr',\n",
              "  'classifier:liblinear_svc:penalty': 'l2',\n",
              "  'classifier:liblinear_svc:tol': 0.03282371822661401,\n",
              "  'imputation:strategy': 'median',\n",
              "  'preprocessor:__choice__': 'no_preprocessing',\n",
              "  'rescaling:__choice__': 'normalize'},\n",
              " {'balancing:strategy': 'none',\n",
              "  'categorical_encoding:__choice__': 'no_encoding',\n",
              "  'classifier:__choice__': 'lda',\n",
              "  'classifier:lda:n_components': 64,\n",
              "  'classifier:lda:shrinkage': 'auto',\n",
              "  'classifier:lda:tol': 0.011555455387049371,\n",
              "  'imputation:strategy': 'median',\n",
              "  'preprocessor:__choice__': 'no_preprocessing',\n",
              "  'rescaling:__choice__': 'robust_scaler',\n",
              "  'rescaling:robust_scaler:q_max': 0.7969880444540977,\n",
              "  'rescaling:robust_scaler:q_min': 0.2511886810920103},\n",
              " {'balancing:strategy': 'none',\n",
              "  'categorical_encoding:__choice__': 'one_hot_encoding',\n",
              "  'categorical_encoding:one_hot_encoding:use_minimum_fraction': 'False',\n",
              "  'classifier:__choice__': 'liblinear_svc',\n",
              "  'classifier:liblinear_svc:C': 1.0,\n",
              "  'classifier:liblinear_svc:dual': 'False',\n",
              "  'classifier:liblinear_svc:fit_intercept': 'True',\n",
              "  'classifier:liblinear_svc:intercept_scaling': 1,\n",
              "  'classifier:liblinear_svc:loss': 'squared_hinge',\n",
              "  'classifier:liblinear_svc:multi_class': 'ovr',\n",
              "  'classifier:liblinear_svc:penalty': 'l2',\n",
              "  'classifier:liblinear_svc:tol': 0.00010000000000000009,\n",
              "  'imputation:strategy': 'median',\n",
              "  'preprocessor:__choice__': 'no_preprocessing',\n",
              "  'rescaling:__choice__': 'quantile_transformer',\n",
              "  'rescaling:quantile_transformer:n_quantiles': 1000,\n",
              "  'rescaling:quantile_transformer:output_distribution': 'uniform'},\n",
              " {'balancing:strategy': 'none',\n",
              "  'categorical_encoding:__choice__': 'no_encoding',\n",
              "  'classifier:__choice__': 'qda',\n",
              "  'classifier:qda:reg_param': 0.37310099574524613,\n",
              "  'imputation:strategy': 'mean',\n",
              "  'preprocessor:__choice__': 'no_preprocessing',\n",
              "  'rescaling:__choice__': 'none'},\n",
              " {'balancing:strategy': 'none',\n",
              "  'categorical_encoding:__choice__': 'no_encoding',\n",
              "  'classifier:__choice__': 'liblinear_svc',\n",
              "  'classifier:liblinear_svc:C': 3042.8949398819027,\n",
              "  'classifier:liblinear_svc:dual': 'False',\n",
              "  'classifier:liblinear_svc:fit_intercept': 'True',\n",
              "  'classifier:liblinear_svc:intercept_scaling': 1,\n",
              "  'classifier:liblinear_svc:loss': 'squared_hinge',\n",
              "  'classifier:liblinear_svc:multi_class': 'ovr',\n",
              "  'classifier:liblinear_svc:penalty': 'l2',\n",
              "  'classifier:liblinear_svc:tol': 0.0003848606356268547,\n",
              "  'imputation:strategy': 'mean',\n",
              "  'preprocessor:__choice__': 'no_preprocessing',\n",
              "  'rescaling:__choice__': 'normalize'},\n",
              " {'balancing:strategy': 'none',\n",
              "  'categorical_encoding:__choice__': 'one_hot_encoding',\n",
              "  'categorical_encoding:one_hot_encoding:minimum_fraction': 0.005618969867874135,\n",
              "  'categorical_encoding:one_hot_encoding:use_minimum_fraction': 'True',\n",
              "  'classifier:__choice__': 'lda',\n",
              "  'classifier:lda:n_components': 178,\n",
              "  'classifier:lda:shrinkage': 'auto',\n",
              "  'classifier:lda:tol': 0.0015615781835682078,\n",
              "  'imputation:strategy': 'median',\n",
              "  'preprocessor:__choice__': 'no_preprocessing',\n",
              "  'rescaling:__choice__': 'standardize'},\n",
              " {'balancing:strategy': 'none',\n",
              "  'categorical_encoding:__choice__': 'one_hot_encoding',\n",
              "  'categorical_encoding:one_hot_encoding:minimum_fraction': 0.000406686398468312,\n",
              "  'categorical_encoding:one_hot_encoding:use_minimum_fraction': 'True',\n",
              "  'classifier:__choice__': 'qda',\n",
              "  'classifier:qda:reg_param': 0.16821891437610625,\n",
              "  'imputation:strategy': 'median',\n",
              "  'preprocessor:__choice__': 'no_preprocessing',\n",
              "  'rescaling:__choice__': 'robust_scaler',\n",
              "  'rescaling:robust_scaler:q_max': 0.7296013011773473,\n",
              "  'rescaling:robust_scaler:q_min': 0.24899438771969057},\n",
              " {'balancing:strategy': 'none',\n",
              "  'categorical_encoding:__choice__': 'one_hot_encoding',\n",
              "  'categorical_encoding:one_hot_encoding:minimum_fraction': 0.007729383724616789,\n",
              "  'categorical_encoding:one_hot_encoding:use_minimum_fraction': 'True',\n",
              "  'classifier:__choice__': 'random_forest',\n",
              "  'classifier:random_forest:bootstrap': 'False',\n",
              "  'classifier:random_forest:criterion': 'gini',\n",
              "  'classifier:random_forest:max_depth': 'None',\n",
              "  'classifier:random_forest:max_features': 0.22204914605360804,\n",
              "  'classifier:random_forest:max_leaf_nodes': 'None',\n",
              "  'classifier:random_forest:min_impurity_decrease': 0.0,\n",
              "  'classifier:random_forest:min_samples_leaf': 19,\n",
              "  'classifier:random_forest:min_samples_split': 10,\n",
              "  'classifier:random_forest:min_weight_fraction_leaf': 0.0,\n",
              "  'classifier:random_forest:n_estimators': 100,\n",
              "  'imputation:strategy': 'median',\n",
              "  'preprocessor:__choice__': 'no_preprocessing',\n",
              "  'rescaling:__choice__': 'quantile_transformer',\n",
              "  'rescaling:quantile_transformer:n_quantiles': 611,\n",
              "  'rescaling:quantile_transformer:output_distribution': 'normal'},\n",
              " {'balancing:strategy': 'weighting',\n",
              "  'categorical_encoding:__choice__': 'one_hot_encoding',\n",
              "  'categorical_encoding:one_hot_encoding:minimum_fraction': 0.02198109997595907,\n",
              "  'categorical_encoding:one_hot_encoding:use_minimum_fraction': 'True',\n",
              "  'classifier:__choice__': 'gradient_boosting',\n",
              "  'classifier:gradient_boosting:early_stop': 'train',\n",
              "  'classifier:gradient_boosting:l2_regularization': 1.9229603491459395e-08,\n",
              "  'classifier:gradient_boosting:learning_rate': 0.7664771441680291,\n",
              "  'classifier:gradient_boosting:loss': 'auto',\n",
              "  'classifier:gradient_boosting:max_bins': 256,\n",
              "  'classifier:gradient_boosting:max_depth': 'None',\n",
              "  'classifier:gradient_boosting:max_iter': 479,\n",
              "  'classifier:gradient_boosting:max_leaf_nodes': 237,\n",
              "  'classifier:gradient_boosting:min_samples_leaf': 18,\n",
              "  'classifier:gradient_boosting:n_iter_no_change': 18,\n",
              "  'classifier:gradient_boosting:scoring': 'loss',\n",
              "  'classifier:gradient_boosting:tol': 1e-07,\n",
              "  'imputation:strategy': 'most_frequent',\n",
              "  'preprocessor:__choice__': 'no_preprocessing',\n",
              "  'rescaling:__choice__': 'robust_scaler',\n",
              "  'rescaling:robust_scaler:q_max': 0.9373210298671601,\n",
              "  'rescaling:robust_scaler:q_min': 0.1643557254722389},\n",
              " {'balancing:strategy': 'none',\n",
              "  'categorical_encoding:__choice__': 'one_hot_encoding',\n",
              "  'categorical_encoding:one_hot_encoding:minimum_fraction': 0.010000000000000004,\n",
              "  'categorical_encoding:one_hot_encoding:use_minimum_fraction': 'True',\n",
              "  'classifier:__choice__': 'lda',\n",
              "  'classifier:lda:n_components': 68,\n",
              "  'classifier:lda:shrinkage': 'auto',\n",
              "  'classifier:lda:tol': 8.768428282349482e-05,\n",
              "  'imputation:strategy': 'mean',\n",
              "  'preprocessor:__choice__': 'no_preprocessing',\n",
              "  'rescaling:__choice__': 'none'},\n",
              " {'balancing:strategy': 'weighting',\n",
              "  'categorical_encoding:__choice__': 'one_hot_encoding',\n",
              "  'categorical_encoding:one_hot_encoding:use_minimum_fraction': 'False',\n",
              "  'classifier:__choice__': 'adaboost',\n",
              "  'classifier:adaboost:algorithm': 'SAMME',\n",
              "  'classifier:adaboost:learning_rate': 0.014925378273696428,\n",
              "  'classifier:adaboost:max_depth': 2,\n",
              "  'classifier:adaboost:n_estimators': 147,\n",
              "  'imputation:strategy': 'most_frequent',\n",
              "  'preprocessor:__choice__': 'no_preprocessing',\n",
              "  'rescaling:__choice__': 'quantile_transformer',\n",
              "  'rescaling:quantile_transformer:n_quantiles': 1296,\n",
              "  'rescaling:quantile_transformer:output_distribution': 'uniform'}]"
            ]
          },
          "metadata": {
            "tags": []
          },
          "execution_count": 68
        }
      ]
    },
    {
      "cell_type": "code",
      "metadata": {
        "id": "Q0jQ-kfwpgUm",
        "colab_type": "code",
        "colab": {
          "base_uri": "https://localhost:8080/",
          "height": 1000
        },
        "outputId": "c4afb5c2-c142-47a7-9121-8e80933b582c"
      },
      "source": [
        "print('Classifiers used')\n",
        "print('*'*80)\n",
        "for result in automl.cv_results_['params']:\n",
        "  print(result['classifier:__choice__'])\n",
        "  "
      ],
      "execution_count": 69,
      "outputs": [
        {
          "output_type": "stream",
          "text": [
            "Classifiers used\n",
            "********************************************************************************\n",
            "random_forest\n",
            "gradient_boosting\n",
            "libsvm_svc\n",
            "gradient_boosting\n",
            "decision_tree\n",
            "gradient_boosting\n",
            "gaussian_nb\n",
            "adaboost\n",
            "libsvm_svc\n",
            "random_forest\n",
            "random_forest\n",
            "gradient_boosting\n",
            "extra_trees\n",
            "decision_tree\n",
            "k_nearest_neighbors\n",
            "gaussian_nb\n",
            "multinomial_nb\n",
            "qda\n",
            "gradient_boosting\n",
            "decision_tree\n",
            "k_nearest_neighbors\n",
            "gradient_boosting\n",
            "multinomial_nb\n",
            "random_forest\n",
            "adaboost\n",
            "qda\n",
            "sgd\n",
            "qda\n",
            "gradient_boosting\n",
            "bernoulli_nb\n",
            "gradient_boosting\n",
            "random_forest\n",
            "lda\n",
            "bernoulli_nb\n",
            "lda\n",
            "random_forest\n",
            "random_forest\n",
            "passive_aggressive\n",
            "k_nearest_neighbors\n",
            "extra_trees\n",
            "sgd\n",
            "liblinear_svc\n",
            "lda\n",
            "lda\n",
            "passive_aggressive\n",
            "lda\n",
            "multinomial_nb\n",
            "lda\n",
            "liblinear_svc\n",
            "lda\n",
            "liblinear_svc\n",
            "qda\n",
            "liblinear_svc\n",
            "lda\n",
            "qda\n",
            "random_forest\n",
            "gradient_boosting\n",
            "lda\n",
            "adaboost\n"
          ],
          "name": "stdout"
        }
      ]
    },
    {
      "cell_type": "code",
      "metadata": {
        "id": "q5IkoAecpM18",
        "colab_type": "code",
        "colab": {
          "base_uri": "https://localhost:8080/",
          "height": 272
        },
        "outputId": "b9e736ae-9ebf-423e-cd36-b89abc7ada71"
      },
      "source": [
        "automl.cv_results_['params'][np.argmax(automl.cv_results_['mean_test_score'])]"
      ],
      "execution_count": 70,
      "outputs": [
        {
          "output_type": "execute_result",
          "data": {
            "text/plain": [
              "{'balancing:strategy': 'none',\n",
              " 'categorical_encoding:__choice__': 'one_hot_encoding',\n",
              " 'categorical_encoding:one_hot_encoding:use_minimum_fraction': 'False',\n",
              " 'classifier:__choice__': 'liblinear_svc',\n",
              " 'classifier:liblinear_svc:C': 2.1653556659389426,\n",
              " 'classifier:liblinear_svc:dual': 'False',\n",
              " 'classifier:liblinear_svc:fit_intercept': 'True',\n",
              " 'classifier:liblinear_svc:intercept_scaling': 1,\n",
              " 'classifier:liblinear_svc:loss': 'squared_hinge',\n",
              " 'classifier:liblinear_svc:multi_class': 'ovr',\n",
              " 'classifier:liblinear_svc:penalty': 'l2',\n",
              " 'classifier:liblinear_svc:tol': 0.06600077686730348,\n",
              " 'imputation:strategy': 'median',\n",
              " 'preprocessor:__choice__': 'no_preprocessing',\n",
              " 'rescaling:__choice__': 'minmax'}"
            ]
          },
          "metadata": {
            "tags": []
          },
          "execution_count": 70
        }
      ]
    },
    {
      "cell_type": "code",
      "metadata": {
        "id": "n4b6NofmqrK5",
        "colab_type": "code",
        "colab": {}
      },
      "source": [
        "predictions = automl.predict(X_test)"
      ],
      "execution_count": 0,
      "outputs": []
    },
    {
      "cell_type": "code",
      "metadata": {
        "id": "3p2wfquSqt7z",
        "colab_type": "code",
        "colab": {
          "base_uri": "https://localhost:8080/",
          "height": 34
        },
        "outputId": "bb9e0f56-5d49-49bf-a45b-f2f695a4a0bc"
      },
      "source": [
        "from  sklearn.metrics import accuracy_score,confusion_matrix\n",
        "print(\"Accuracy score\", accuracy_score(y_test, predictions))"
      ],
      "execution_count": 72,
      "outputs": [
        {
          "output_type": "stream",
          "text": [
            "Accuracy score 0.8088930936613056\n"
          ],
          "name": "stdout"
        }
      ]
    },
    {
      "cell_type": "code",
      "metadata": {
        "id": "xcmDEAW3q2Nh",
        "colab_type": "code",
        "colab": {
          "base_uri": "https://localhost:8080/",
          "height": 51
        },
        "outputId": "1f1113eb-e25d-44d8-c2e3-49d19cf3d6ec"
      },
      "source": [
        "print(confusion_matrix(y_test,predictions))"
      ],
      "execution_count": 73,
      "outputs": [
        {
          "output_type": "stream",
          "text": [
            "[[699  99]\n",
            " [103 156]]\n"
          ],
          "name": "stdout"
        }
      ]
    },
    {
      "cell_type": "code",
      "metadata": {
        "id": "thGc1VNmq76R",
        "colab_type": "code",
        "colab": {}
      },
      "source": [
        "cf  = confusion_matrix(y_test,predictions)"
      ],
      "execution_count": 0,
      "outputs": []
    },
    {
      "cell_type": "markdown",
      "metadata": {
        "id": "mpHhCNvCraiK",
        "colab_type": "text"
      },
      "source": [
        "## Visualizing Confusion Matrix"
      ]
    },
    {
      "cell_type": "code",
      "metadata": {
        "id": "tCI-zXdArAVV",
        "colab_type": "code",
        "colab": {
          "base_uri": "https://localhost:8080/",
          "height": 296
        },
        "outputId": "18b36fe5-6452-4624-913e-a1bb0ef1a121"
      },
      "source": [
        "sns.heatmap(cf,annot=True,fmt='g',xticklabels=['No Churn','Churn'],yticklabels=['No Churn','Churn'])\n",
        "plt.xlabel('Predicted Output')\n",
        "plt.ylabel('Actual Output')"
      ],
      "execution_count": 75,
      "outputs": [
        {
          "output_type": "execute_result",
          "data": {
            "text/plain": [
              "Text(33.0, 0.5, 'Actual Output')"
            ]
          },
          "metadata": {
            "tags": []
          },
          "execution_count": 75
        },
        {
          "output_type": "display_data",
          "data": {
            "image/png": "[encoded data removed]",
            "text/plain": [
              "<Figure size 432x288 with 2 Axes>"
            ]
          },
          "metadata": {
            "tags": []
          }
        }
      ]
    },
    {
      "cell_type": "markdown",
      "metadata": {
        "id": "DacBfZIYrjm6",
        "colab_type": "text"
      },
      "source": [
        "##Saving Automl model"
      ]
    },
    {
      "cell_type": "code",
      "metadata": {
        "id": "c5DVcYIBrmL6",
        "colab_type": "code",
        "colab": {}
      },
      "source": [
        "import pickle\n",
        "x = automl.show_models()\n",
        "results = {\"ensemble\": x}\n",
        "pickle.dump(results, open('churn.pickle','wb'))"
      ],
      "execution_count": 0,
      "outputs": []
    },
    {
      "cell_type": "code",
      "metadata": {
        "id": "FKvyd_c-rr6B",
        "colab_type": "code",
        "colab": {
          "base_uri": "https://localhost:8080/",
          "height": 34
        },
        "outputId": "71cd58b2-1a2d-40a2-8f7d-71b95e7ea441"
      },
      "source": [
        "!ls *.pickle"
      ],
      "execution_count": 77,
      "outputs": [
        {
          "output_type": "stream",
          "text": [
            "churn.pickle\n"
          ],
          "name": "stdout"
        }
      ]
    },
    {
      "cell_type": "code",
      "metadata": {
        "id": "hNr0tULyru9L",
        "colab_type": "code",
        "colab": {
          "base_uri": "https://localhost:8080/",
          "height": 34
        },
        "outputId": "9b32f327-f4b8-407f-f1ec-378a84b97b8f"
      },
      "source": [
        "np.bincount(predictions)"
      ],
      "execution_count": 78,
      "outputs": [
        {
          "output_type": "execute_result",
          "data": {
            "text/plain": [
              "array([802, 255])"
            ]
          },
          "metadata": {
            "tags": []
          },
          "execution_count": 78
        }
      ]
    },
    {
      "cell_type": "code",
      "metadata": {
        "id": "BZNDYVkEr3JJ",
        "colab_type": "code",
        "colab": {
          "base_uri": "https://localhost:8080/",
          "height": 34
        },
        "outputId": "1c47f29f-3926-4dcc-eeff-6309af5643e7"
      },
      "source": [
        "np.bincount(y_test)"
      ],
      "execution_count": 79,
      "outputs": [
        {
          "output_type": "execute_result",
          "data": {
            "text/plain": [
              "array([798, 259])"
            ]
          },
          "metadata": {
            "tags": []
          },
          "execution_count": 79
        }
      ]
    },
    {
      "cell_type": "markdown",
      "metadata": {
        "id": "SHTwmvPhsGA3",
        "colab_type": "text"
      },
      "source": [
        "## Precision - Of all the users that the algorithm predicts will churn, how many of them do actually churn?"
      ]
    },
    {
      "cell_type": "code",
      "metadata": {
        "id": "liCnx3PBsIPe",
        "colab_type": "code",
        "colab": {
          "base_uri": "https://localhost:8080/",
          "height": 34
        },
        "outputId": "90933f13-0ee1-4a37-f861-178bfb73142c"
      },
      "source": [
        "from sklearn.metrics import precision_score,recall_score\n",
        "\n",
        "print(precision_score(y_test,predictions))"
      ],
      "execution_count": 80,
      "outputs": [
        {
          "output_type": "stream",
          "text": [
            "0.611764705882353\n"
          ],
          "name": "stdout"
        }
      ]
    },
    {
      "cell_type": "markdown",
      "metadata": {
        "id": "O2ejbewUsSih",
        "colab_type": "text"
      },
      "source": [
        "##Recall - What percentage of users that end up churning does the algorithm successfully find?"
      ]
    },
    {
      "cell_type": "code",
      "metadata": {
        "id": "vHcd2KqhsRqw",
        "colab_type": "code",
        "colab": {
          "base_uri": "https://localhost:8080/",
          "height": 34
        },
        "outputId": "00253349-953a-4465-8fb0-ab3e95963536"
      },
      "source": [
        "print(recall_score(y_test,predictions))"
      ],
      "execution_count": 81,
      "outputs": [
        {
          "output_type": "stream",
          "text": [
            "0.6023166023166023\n"
          ],
          "name": "stdout"
        }
      ]
    }
  ]
}